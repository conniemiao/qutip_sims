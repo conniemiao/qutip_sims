{
 "cells": [
  {
   "cell_type": "code",
   "execution_count": 1,
   "metadata": {},
   "outputs": [],
   "source": [
    "%matplotlib inline\n",
    "import matplotlib.style as style\n",
    "\n",
    "import matplotlib.pyplot as plt\n",
    "import numpy as np\n",
    "\n",
    "import scqubits as scq\n",
    "import qutip as qt\n",
    "\n",
    "from qutip.ipynbtools import HTMLProgressBar\n",
    "\n",
    "style.use('default')\n",
    "plt.rcParams['figure.figsize'] = [6, 4]\n",
    "default_colors = plt.rcParams['axes.prop_cycle'].by_key()['color']\n",
    "scq.settings.PROGRESSBAR_DISABLED = True"
   ]
  },
  {
   "cell_type": "code",
   "execution_count": 2,
   "metadata": {},
   "outputs": [],
   "source": [
    "hbar = 1\n",
    "h = hbar*2*np.pi\n",
    "qe = 1\n",
    "\n",
    "# Unit conversions\n",
    "MHz = 10.0**(-3)\n",
    "GHz = 1.0\n",
    "kHz = 10.0**(-6)\n",
    "us = 10.0**3\n",
    "ns = 1.0"
   ]
  },
  {
   "cell_type": "code",
   "execution_count": 3,
   "metadata": {},
   "outputs": [],
   "source": [
    "# Map bare states of each transmon to dressed states in combined system\n",
    "def find_level(H, ket_orig_basis):\n",
    "    evals, evecs = H.eigenstates()\n",
    "    best_overlap = 0\n",
    "    best_state = -1\n",
    "    for n, evec in enumerate(evecs):\n",
    "        overlap = np.abs(ket_orig_basis.overlap(evec))\n",
    "        if overlap > best_overlap:\n",
    "            best_overlap = overlap\n",
    "            best_state = n\n",
    "    return best_state, evecs[best_state]"
   ]
  },
  {
   "cell_type": "code",
   "execution_count": 6,
   "metadata": {},
   "outputs": [],
   "source": [
    "transmon1_consts = dict(\n",
    "    EC=0.159 * GHz,\n",
    "    EJ=11.53 * GHz,\n",
    ")\n",
    "\n",
    "transmon2_consts = dict(\n",
    "    EC=0.179 * GHz,\n",
    "    EJ=15.75 * GHz,\n",
    ")\n",
    "\n",
    "transmon1 = scq.Transmon(\n",
    "    **transmon1_consts,\n",
    "    ng=0,\n",
    "    ncut = 110,\n",
    "    truncated_dim = 5\n",
    ")\n",
    "\n",
    "transmon2 = scq.Transmon(\n",
    "    **transmon2_consts,\n",
    "    ng=0,\n",
    "    ncut = 110,\n",
    "    truncated_dim = 5\n",
    ")\n",
    "\n",
    "q1_isCavity = False\n",
    "q2_isCavity = False\n"
   ]
  },
  {
   "cell_type": "code",
   "execution_count": 7,
   "metadata": {},
   "outputs": [
    {
     "name": "stdout",
     "output_type": "stream",
     "text": [
      "3.6631884356244058 4.562581256973649 -0.17752869410665006 -0.1974838626955311\n"
     ]
    }
   ],
   "source": [
    "evals_count = 5\n",
    "cutoff = evals_count\n",
    "\n",
    "evals1, evecs1 = transmon1.eigensys(evals_count=evals_count)\n",
    "evals1 = evals1 - evals1[0] \n",
    "\n",
    "evals2, evecs2 = transmon2.eigensys(evals_count=evals_count)\n",
    "evals2 = evals2 - evals2[0]\n",
    "\n",
    "alpha1 = alpha2 = 0\n",
    "if not q1_isCavity: alpha1 = evals1[2]-2*evals1[1]\n",
    "if not q2_isCavity: alpha2 = evals2[2]-2*evals2[1]\n",
    "\n",
    "print(evals1[1], evals2[1], alpha1, alpha2)"
   ]
  },
  {
   "cell_type": "code",
   "execution_count": 10,
   "metadata": {},
   "outputs": [
    {
     "name": "stdout",
     "output_type": "stream",
     "text": [
      "drive freq: 5.284113992561982 GHz\n",
      "g_eff freq: 0.15185393917995235 MHz\n",
      "pi pulse length = 1/2 * 1/g_eff: 3292.6376668272137 ns\n"
     ]
    }
   ],
   "source": [
    "# eg <-> gf: g=0.2, eps=0.05\n",
    "# g = 0.065 # GHz\n",
    "# eps = 0.01 # GHz # drive amplitude\n",
    "g = 0.072\n",
    "eps = 0.01\n",
    "\n",
    "# wd = 2*evals1[1] + alpha1 - evals2[1]\n",
    "# wd = evals1[1]\n",
    "\n",
    "a = qt.tensor(qt.destroy(cutoff), qt.qeye(cutoff)) # transmon1\n",
    "b = qt.tensor(qt.qeye(cutoff), qt.destroy(cutoff)) # transmon2\n",
    "H_transmon1 = 2*np.pi*(evals1[1]*a.dag()*a + 1/2*alpha1*a.dag()*a.dag()*a*a)\n",
    "H_transmon2 = 2*np.pi*(evals2[1]*b.dag()*b + 1/2*alpha2*b.dag()*b.dag()*b*b) # can't have 2 transmons be exactly the same, or else no way to distinguish ge and eg\n",
    "H_int = 2*np.pi* g * (a + a.dag()) * (b + b.dag())\n",
    "\n",
    "H = H_transmon1 + H_transmon2 + H_int\n",
    "\n",
    "levels = dict(\n",
    "    gg = find_level(H, qt.tensor(qt.basis(cutoff, 0), qt.basis(cutoff, 0)))[1],\n",
    "    ee = find_level(H, qt.tensor(qt.basis(cutoff, 1), qt.basis(cutoff, 1)))[1],\n",
    "    eg = find_level(H, qt.tensor(qt.basis(cutoff, 1), qt.basis(cutoff, 0)))[1],\n",
    "    ge = find_level(H, qt.tensor(qt.basis(cutoff, 0), qt.basis(cutoff, 1)))[1],\n",
    "    fg = find_level(H, qt.tensor(qt.basis(cutoff, 2), qt.basis(cutoff, 0)))[1],\n",
    "    gf = find_level(H, qt.tensor(qt.basis(cutoff, 0), qt.basis(cutoff, 2)))[1],\n",
    ")\n",
    "\n",
    "# drive at wd = w1 - w2\n",
    "\n",
    "# wd = np.abs(qt.expect(H, levels['fg']) - qt.expect(H, levels['ge']))\n",
    "wd = np.abs(qt.expect(H, levels['gf']) - qt.expect(H, levels['eg']))\n",
    "\n",
    "t_pulse = 100000 # ns\n",
    "# t_pulse = 175 # ns\n",
    "t_rise = 1 # ns\n",
    "\n",
    "# need b^\\dag + b for gf <-> eg and a^\\dag + a for fg <-> ge\n",
    "# H_drive = 2*np.pi*eps * 1/2 * (a.dag()+a)\n",
    "H_drive = 2*np.pi*eps * 1/2 * (b.dag()+b)\n",
    "def H_drive_func(t, args):\n",
    "    if t < t_rise: amp = np.sin(np.pi*t/2/t_rise)**2\n",
    "    elif t_rise <= t < t_pulse - t_rise: amp = 1\n",
    "    elif t_pulse - t_rise <= t < t_pulse: amp = np.sin(np.pi*(t_pulse-t)/2/t_rise)**2\n",
    "    else: amp = 0\n",
    "    return amp * np.sin(wd * t)\n",
    "H_solver = [H, [H_drive, H_drive_func]]\n",
    "\n",
    "# g_eff = np.abs(levels['ge'].dag() * H_drive * levels['fg']/2/np.pi)[0][0] # this works!\n",
    "# # delta = evals1[1]-evals2[1]\n",
    "# # g_eff = np.abs(g*eps*alpha1/(np.sqrt(2)*delta*(delta+alpha1)))\n",
    "# # g_eff = np.abs(eps/2 * (1-g/delta) * (-g*np.sqrt(2)/delta + g*np.sqrt(2)/(delta+alpha1) + 2*g**2/(delta+alpha1)**2))\n",
    "\n",
    "# g_eff = levels['fg'].dag() * H_drive * levels['ge'] /2/np.pi\n",
    "g_eff = levels['eg'].dag() * H_drive * levels['gf'] /2/np.pi\n",
    "g_eff = np.abs(g_eff[0][0][0])\n",
    "# # delta = evals2[1]-evals1[1]\n",
    "# # g_eff = np.abs(g*eps*alpha2/(np.sqrt(2)*delta*(delta+alpha2)))\n",
    "# # g_eff = np.abs(eps/2 * (1-g/delta) * (-g*np.sqrt(2)/delta + g*np.sqrt(2)/(delta+alpha2) + 2*g**2/(delta+alpha2)**2))\n",
    "\n",
    "# print('Need g/delta << 1 for estimate to hold!')\n",
    "# print('g', g, 'delta', delta, 'g/delta', g/delta)\n",
    "print('drive freq:', wd/2/np.pi, 'GHz')\n",
    "print('g_eff freq:', g_eff/MHz, 'MHz')\n",
    "print('pi pulse length = 1/2 * 1/g_eff:', 1/2/g_eff, 'ns')\n"
   ]
  },
  {
   "cell_type": "code",
   "execution_count": 7,
   "metadata": {},
   "outputs": [],
   "source": [
    "# incl_dissipation = True\n",
    "incl_dissipation = False\n",
    "\n",
    "T1 = 60e3 # ns\n",
    "T2 = 30e3 # ?\n",
    "\n",
    "T1 = 10e3\n",
    "\n",
    "sigmam = levels['gg'] * levels['eg'].dag()\n",
    "T1_c_op = np.sqrt(1/T1)*sigmam"
   ]
  },
  {
   "cell_type": "code",
   "execution_count": 8,
   "metadata": {
    "scrolled": true,
    "tags": []
   },
   "outputs": [
    {
     "name": "stdout",
     "output_type": "stream",
     "text": [
      "10.0%. Run time:   0.37s. Est. time left: 00:00:00:03\n",
      "20.0%. Run time:   0.72s. Est. time left: 00:00:00:02\n",
      "30.0%. Run time:   1.08s. Est. time left: 00:00:00:02\n",
      "40.0%. Run time:   1.48s. Est. time left: 00:00:00:02\n",
      "50.0%. Run time:   1.85s. Est. time left: 00:00:00:01\n",
      "60.0%. Run time:   2.22s. Est. time left: 00:00:00:01\n",
      "70.0%. Run time:   2.62s. Est. time left: 00:00:00:01\n",
      "80.0%. Run time:   3.04s. Est. time left: 00:00:00:00\n",
      "90.0%. Run time:   3.49s. Est. time left: 00:00:00:00\n",
      "Total run time:   3.89s\n"
     ]
    }
   ],
   "source": [
    "times = np.linspace(0, 500, 500)\n",
    "psi0_name = 'ge'\n",
    "# psi0_name = 'eg'\n",
    "\n",
    "if incl_dissipation:\n",
    "    result = qt.mesolve(H_solver, levels[psi0_name], times, [T1_c_op], progress_bar=True, options=qt.Options(nsteps=10000)).states\n",
    "else: result = qt.mesolve(H_solver, levels[psi0_name], times, progress_bar=True, options=qt.Options(nsteps=5000)).states"
   ]
  },
  {
   "cell_type": "code",
   "execution_count": 9,
   "metadata": {},
   "outputs": [
    {
     "data": {
      "image/png": "[encoded data removed]",
      "text/plain": [
       "<Figure size 600x400 with 1 Axes>"
      ]
     },
     "metadata": {},
     "output_type": "display_data"
    }
   ],
   "source": [
    "prob_fg = np.array([np.abs(levels['fg'].overlap(result[t]))**2 for t in range(len(times))])\n",
    "prob_ge = np.array([np.abs(levels['ge'].overlap(result[t]))**2 for t in range(len(times))])\n",
    "prob_eg = np.array([np.abs(levels['eg'].overlap(result[t]))**2 for t in range(len(times))])\n",
    "prob_gf = np.array([np.abs(levels['gf'].overlap(result[t]))**2 for t in range(len(times))])\n",
    "# prob_ee = np.array([np.abs(levels['ee'].overlap(result[t]))**2 for t in range(len(times))])\n",
    "# prob_gg = np.array([np.abs(levels['gg'].overlap(result[t]))**2 for t in range(len(times))])\n",
    "\n",
    "plt.plot(times, prob_fg, label=r'$|fg\\rangle_D$')\n",
    "plt.plot(times, prob_ge, label=r'$|ge\\rangle_D$')\n",
    "plt.plot(times, prob_eg, label=r'$|eg\\rangle_D$')\n",
    "plt.plot(times, prob_gf, label=r'$|gf\\rangle_D$')\n",
    "# plt.plot(times, prob_ee, label=r'$|ee\\rangle_D$')\n",
    "# plt.plot(times, prob_gg, label=r'$|gg\\rangle$')\n",
    "plt.plot(times, [1]*len(times), 'k--', linewidth=0.5)\n",
    "plt.legend()\n",
    "plt.xlabel('Time (ns)')\n",
    "plt.ylabel('Population')\n",
    "plt.title(r'$\\psi_0=|$'+psi0_name+r'$\\rangle_D$')\n",
    "plt.show()"
   ]
  },
  {
   "cell_type": "code",
   "execution_count": 10,
   "metadata": {},
   "outputs": [
    {
     "name": "stdout",
     "output_type": "stream",
     "text": [
      "298.5971943887775\n"
     ]
    }
   ],
   "source": [
    "# Get pi pulse length (could do a fit but this is easier)\n",
    "popln = np.array([np.abs(levels[psi0_name].overlap(result[t]))**2 for t in range(len(times))])\n",
    "search_ti = 0\n",
    "search_tf = 300 \n",
    "pi = np.argmin(np.abs(times-search_ti)) + \\\n",
    "    np.argmin(popln[np.argmin(np.abs(times-search_ti)):np.argmin(np.abs(times-search_tf))])\n",
    "print(times[pi])"
   ]
  },
  {
   "cell_type": "code",
   "execution_count": null,
   "metadata": {},
   "outputs": [],
   "source": []
  }
 ],
 "metadata": {
  "interpreter": {
   "hash": "43f6a75978c76bba6ea20234e87ef3db866a2e4af5d4176364e7769ae473e17b"
  },
  "kernelspec": {
   "display_name": "Python 3.7.6 64-bit ('base': conda)",
   "name": "python3"
  },
  "language_info": {
   "codemirror_mode": {
    "name": "ipython",
    "version": 3
   },
   "file_extension": ".py",
   "mimetype": "text/x-python",
   "name": "python",
   "nbconvert_exporter": "python",
   "pygments_lexer": "ipython3",
   "version": "3.8.8"
  }
 },
 "nbformat": 4,
 "nbformat_minor": 4
}
