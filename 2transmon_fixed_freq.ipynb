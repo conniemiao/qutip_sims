{
 "cells": [
  {
   "cell_type": "code",
   "execution_count": 1,
   "metadata": {},
   "outputs": [],
   "source": [
    "%load_ext autoreload\n",
    "%autoreload 2\n",
    "\n",
    "import matplotlib.style as style\n",
    "\n",
    "import matplotlib.pyplot as plt\n",
    "import numpy as np\n",
    "import time\n",
    "from tqdm import tqdm\n",
    "\n",
    "import scqubits as scq\n",
    "import qutip as qt\n",
    "import scipy as sp\n",
    "\n",
    "from PulseSequence import PulseSequence\n",
    "from QSwitch import QSwitch\n",
    "\n",
    "style.use('default')\n",
    "plt.rcParams['figure.figsize'] = [9.7, 6]\n",
    "default_colors = plt.rcParams['axes.prop_cycle'].by_key()['color']\n",
    "# scq.settings.PROGRESSBAR_DISABLED = True"
   ]
  },
  {
   "cell_type": "code",
   "execution_count": 2,
   "metadata": {},
   "outputs": [],
   "source": [
    "hbar = 1.054e-34\n",
    "h = hbar*2*np.pi\n",
    "qe = 1.602e-19\n",
    "red_flux_quant = hbar/2/qe \n",
    "\n",
    "# Unit conversions\n",
    "MHz = 10.0**(-3)\n",
    "GHz = 1.0\n",
    "kHz = 10.0**(-6)\n",
    "us = 10.0**3\n",
    "ns = 1.0"
   ]
  },
  {
   "cell_type": "markdown",
   "metadata": {},
   "source": [
    "# Set qubit parameters"
   ]
  },
  {
   "cell_type": "code",
   "execution_count": 20,
   "metadata": {},
   "outputs": [],
   "source": [
    "# q_in, q_switch eg->gf\n",
    "\n",
    "# EJs = [13.41, 12.52]\n",
    "# ECs = [0.159, 0.183]\n",
    "\n",
    "# qubit_freqs = [3.646, 4.536]\n",
    "# alphas = [-0.159, -0.183]\n",
    "# gs = [0.025]\n",
    "\n",
    "qubit_freqs = np.array([4146.29086882, 3464.74038527])*1e-3\n",
    "# ZZs = np.array([[0., 0.], [0., 0.]])\n",
    "ZZs = np.array([[ 0., -4.71267755], [-4.23607803, 0.]])*1e-3\n",
    "# ZZs = np.array([[0]*2]*2)"
   ]
  },
  {
   "cell_type": "markdown",
   "metadata": {},
   "source": [
    "# Analytical swap"
   ]
  },
  {
   "cell_type": "code",
   "execution_count": 164,
   "metadata": {},
   "outputs": [
    {
     "name": "stdout",
     "output_type": "stream",
     "text": [
      "qubit freqs (GHz) 4.1462908688199995 3.46474038527\n",
      "alphas (GHz) 0 0\n"
     ]
    },
    {
     "data": {
      "text/plain": [
       "array([ 0.        , 21.76960588, 26.05191387, 47.84963309])"
      ]
     },
     "execution_count": 164,
     "metadata": {},
     "output_type": "execute_result"
    }
   ],
   "source": [
    "cutoffs = [2, 2]\n",
    "# cutoffs = [4, 5]\n",
    "isCavity = [False, False]\n",
    "\n",
    "qram = QSwitch(\n",
    "    # EJs=EJs,\n",
    "    # ECs=ECs,\n",
    "    qubit_freqs=qubit_freqs,\n",
    "    # alphas=alphas,\n",
    "    # gs=gs,\n",
    "    ZZs=-ZZs,\n",
    "    useZZs=True,\n",
    "    cutoffs=cutoffs,\n",
    "    is2Q=True,\n",
    "    isCavity=isCavity,\n",
    ")\n",
    "\n",
    "qubit_freqs = qram.qubit_freqs\n",
    "alphas = qram.alphas\n",
    "print('qubit freqs (GHz)', *qubit_freqs)\n",
    "print('alphas (GHz)', *alphas)\n",
    "\n",
    "# print('capacitances (fF)', *(qe**2/(2*h*np.array(qram.ECs)*1e9)*1e15))\n",
    "# print('lumped L (nH)', *(red_flux_quant**2/h/np.array(qram.EJs)))\n",
    "\n",
    "qram.H.eigenenergies()"
   ]
  },
  {
   "cell_type": "markdown",
   "metadata": {},
   "source": [
    "## Create pulse sequence"
   ]
  },
  {
   "cell_type": "code",
   "execution_count": 230,
   "metadata": {
    "scrolled": true,
    "tags": []
   },
   "outputs": [
    {
     "data": {
      "text/plain": [
       "26.05191386624856"
      ]
     },
     "execution_count": 230,
     "metadata": {},
     "output_type": "execute_result"
    }
   ],
   "source": [
    "seq = PulseSequence(start_time=0)\n",
    "\n",
    "# print('wd1')\n",
    "# wd = qram.add_sequential_pi_pulse(seq, 'eg', 'gf', amp=0.12, drive_qubit=1)\n",
    "# analytical_sideband = 2*qubit_freqs[1]+alphas[1]-qubit_freqs[0]\n",
    "# print(f'Necessary drive frequency [MHz]: {1e3*wd/2/np.pi} vs. analytical: {1e3*analytical_sideband}: difference is [MHz] {(analytical_sideband - wd/2/np.pi)*1e3}')\n",
    "# print('Done.', flush=True)\n",
    "\n",
    "sigma_n = 4\n",
    "\n",
    "# def amp_eff(sigma_ns, sigma_n=sigma_n):\n",
    "#     # return 1/(4*sigma_ns) * np.sqrt(2) # multiply x sqrt(2) to convert from rabi rate to eff amp for a+a^dag, divide by 4 to convert pi/2 pulse to 2*pi pulse\n",
    "#     # sigma_n = total number of sigmas\n",
    "#     return 1/4 / (sigma_ns * np.sqrt(2*np.pi) * sp.special.erf(sigma_n/2 / np.sqrt(2)))\n",
    "\n",
    "    # pulse1_s_len, pulse1_s_amp, pulse1_s_phase = sigma_n*sigma_length, pulse1_amp*sqrt(2*pi)/2/sigma_n*special.erf(sqrt(2)/2*sigma_n), pulse1_phase\n",
    "# new_state = 'eg'\n",
    "# pulse_sigma = 39.52752976190476\n",
    "# amp = amp_eff(pulse_sigma)\n",
    "# drive_qubit = 0\n",
    "# phase_rad = np.pi/2\n",
    "# wd = 2*np.pi*4.146290868817749\n",
    "def amp_eff(len_ns):\n",
    "    # return 1/(4*sigma_ns) * np.sqrt(2) # multiply x sqrt(2) to convert from rabi rate to eff amp for a+a^dag, divide by 4 to convert pi/2 pulse to 2*pi pulse\n",
    "    # sigma_n = total number of sigmas\n",
    "    return 1/4 / len_ns\n",
    "\n",
    "# # t_pulse = qram.get_Tpi('gg', new_state, amp=2*amp, drive_qubit=drive_qubit)\n",
    "# qram.add_precise_pi_pulse(seq, 'gg', new_state, wd=wd, amp=amp, drive_qubit=drive_qubit, phase=phase_rad, type='gauss', t_offset=0, t_pulse=pulse_sigma)\n",
    "\n",
    "\n",
    "new_state = 'eg'\n",
    "pulse_sigma = 39.52752976190476*3\n",
    "amp = amp_eff(pulse_sigma)\n",
    "# amp = 0.0026434712259577457\n",
    "drive_qubit = 0\n",
    "phase_rad = np.pi/2\n",
    "wd = 2*np.pi*4.146290868817749\n",
    "\n",
    "# t_pulse = qram.get_Tpi('gg', new_state, amp=2*amp, drive_qubit=drive_qubit)\n",
    "qram.add_precise_pi_pulse(seq, 'gg', new_state, wd=wd, amp=amp, drive_qubit=drive_qubit, phase=phase_rad, type='const', t_offset=0, t_pulse=pulse_sigma, sigma_n=sigma_n)\n",
    "\n",
    "# new_state = 'ge'\n",
    "# pulse_sigma = 20.032051282051285\n",
    "# amp = amp_eff(pulse_sigma)\n",
    "# # amp = 0.005216135186934479\n",
    "# drive_qubit = 1\n",
    "# # phase_rad = -np.pi/2\n",
    "# phase_rad = 1.5707963267948966\n",
    "# wd = 2*np.pi*3.4647403852710683\n",
    "\n",
    "# # t_pulse = qram.get_Tpi('gg', new_state, amp=2*amp, drive_qubit=drive_qubit)\n",
    "# qram.add_precise_pi_pulse(seq, 'gg', new_state, wd=wd, amp=amp, drive_qubit=drive_qubit, phase=phase_rad, type='gauss', t_offset=0, t_pulse=pulse_sigma, sigma_n=sigma_n)\n"
   ]
  },
  {
   "cell_type": "code",
   "execution_count": 231,
   "metadata": {},
   "outputs": [
    {
     "name": "stdout",
     "output_type": "stream",
     "text": [
      "[4.146290868817749] (GHz)\n",
      "[118.58258928571428] (ns)\n",
      "total pulse length 118.58258928571428 ns\n",
      "238\n"
     ]
    },
    {
     "data": {
      "image/png": "[encoded data removed]",
      "text/plain": [
       "<Figure size 970x600 with 1 Axes>"
      ]
     },
     "metadata": {},
     "output_type": "display_data"
    }
   ],
   "source": [
    "\n",
    "envelope_seq = seq.get_envelope_seq()\n",
    "pulse_amps = seq.get_pulse_amps()\n",
    "print(seq.get_pulse_freqs(), '(GHz)')\n",
    "print(seq.get_pulse_lengths(), '(ns)')\n",
    "print('total pulse length', sum(seq.get_pulse_lengths()), 'ns')\n",
    "\n",
    "# times = np.linspace(0, 500, 500)\n",
    "# times = np.linspace(0, 2500, 1000)\n",
    "nsteps = int(sum(seq.get_pulse_lengths())//0.5 + 1)\n",
    "print(nsteps)\n",
    "times = np.linspace(0, sum(seq.get_pulse_lengths()), num=nsteps)\n",
    "\n",
    "for i in range(len(envelope_seq)):\n",
    "    plt.plot(times, [pulse_amps[i]*envelope_seq[i](t)/MHz for t in times], label=f'Pulse {i}')\n",
    "plt.xlabel('Time (ns)')\n",
    "plt.ylabel('Drive Amplitude (MHz)')\n",
    "plt.title('Pulse Sequence')\n",
    "plt.legend()\n",
    "plt.show()\n",
    "\n",
    "# tstart = seq.get_pulse_lengths()[0]\n",
    "# seq.pulse_seq[1](tstart, None)/pulse_amps[1]/envelope_seq[1](tstart)"
   ]
  },
  {
   "cell_type": "markdown",
   "metadata": {},
   "source": [
    "## Run simulation"
   ]
  },
  {
   "cell_type": "code",
   "execution_count": 232,
   "metadata": {},
   "outputs": [],
   "source": [
    "labframe = True\n",
    "T1 = 60e3 # ns\n",
    "T2 = 30e3 # ?\n",
    "\n",
    "# T1 = 10e3\n",
    "\n",
    "# c_ops = [\n",
    "#     np.sqrt(1/T1)*qram.a,\n",
    "#     np.sqrt(1/T1)*qram.b,\n",
    "# ]\n",
    "\n",
    "c_ops = None"
   ]
  },
  {
   "cell_type": "code",
   "execution_count": 233,
   "metadata": {},
   "outputs": [
    {
     "name": "stdout",
     "output_type": "stream",
     "text": [
      "Simulation in lab frame: True\n",
      "10.1%. Run time:   0.05s. Est. time left: 00:00:00:00\n",
      "20.2%. Run time:   0.11s. Est. time left: 00:00:00:00\n",
      "30.3%. Run time:   0.16s. Est. time left: 00:00:00:00\n",
      "40.3%. Run time:   0.22s. Est. time left: 00:00:00:00\n",
      "50.0%. Run time:   0.27s. Est. time left: 00:00:00:00\n",
      "60.1%. Run time:   0.32s. Est. time left: 00:00:00:00\n",
      "70.2%. Run time:   0.36s. Est. time left: 00:00:00:00\n",
      "80.3%. Run time:   0.42s. Est. time left: 00:00:00:00\n",
      "90.3%. Run time:   0.47s. Est. time left: 00:00:00:00\n",
      "Total run time:   0.51s\n",
      "Run time (s): 0.5189962387084961\n"
     ]
    }
   ],
   "source": [
    "# psi0_name = 'eggg'\n",
    "# psi0_name = 'gfgg'\n",
    "# psi0_name = 'efgg'\n",
    "# psi0_name = 'eegg'\n",
    "# psi0_name = 'ggeg'\n",
    "# psi0_name = 'ggge'\n",
    "# psi0 = qram.state(psi0_name)\n",
    "\n",
    "psi0 = qram.state('gg')\n",
    "# psi0 = np.sqrt(0.5) * (qram.state('gg') + qram.state('eg'))\n",
    "# psi0 = np.sqrt(0.25) * qram.state('gf') + np.sqrt(0.75) * qram.state('eg') # QRAM start\n",
    "# psi0 = np.sqrt(0.25) * qram.state('eggg') + np.sqrt(0.75) * qram.state('eegg') # QRAM start\n",
    "# psi0 = np.sqrt(0.25) * qram.state('gggg') + np.sqrt(0.75) * qram.state('gegg') # QRAM start\n",
    "\n",
    "start_time = time.time()\n",
    "\n",
    "print('Simulation in lab frame:', labframe)\n",
    "if labframe:\n",
    "    result = qram.evolve(psi0=psi0, seq=seq, times=times, c_ops=None, use_str_solve=False, nsteps=100000)\n",
    "else:\n",
    "    result = qram.evolve_rot_frame(psi0=psi0, seq=seq, times=times, nsteps=100000, c_ops=None)\n",
    "print(\"Run time (s):\", time.time() - start_time, flush=True)"
   ]
  },
  {
   "cell_type": "code",
   "execution_count": 234,
   "metadata": {},
   "outputs": [
    {
     "name": "stdout",
     "output_type": "stream",
     "text": [
      "gg probabilty 0.5089180086508299\n",
      "ge probabilty 0.0\n",
      "eg probabilty 0.4910819913491703\n",
      "ee probabilty 0.0\n"
     ]
    },
    {
     "data": {
      "image/png": "[encoded data removed]",
      "text/plain": [
       "<Figure size 970x600 with 1 Axes>"
      ]
     },
     "metadata": {},
     "output_type": "display_data"
    }
   ],
   "source": [
    "ref_states = ['gg', 'ge', 'eg', 'ee']\n",
    "# ref_states = ['gg', 'ge']\n",
    "# ref_states = ['eg', 'gf', 'gg']\n",
    "for ref_state in ref_states:\n",
    "    state = qram.state(ref_state)\n",
    "    # state = psi0\n",
    "    probs = [np.abs(state.overlap(result[t]))**2 for t in range(len(times))]\n",
    "    print(ref_state, 'probabilty', probs[-1])\n",
    "    plt.plot(times, probs, label=f'$|{ref_state}\\\\rangle_D$')\n",
    "\n",
    "# plt.plot(times, [0.5]*len(times), 'k--', linewidth=0.5)\n",
    "plt.legend(ncol=2)\n",
    "plt.ylim(-0.05, 1.05)\n",
    "# plt.xlim(750, 1000)\n",
    "# plt.tick_params(labelsize=12)\n",
    "plt.xlabel('Time (ns)')\n",
    "plt.ylabel('Probability')\n",
    "# plt.title(r'$\\psi_0=|$'+psi0_name+r'$\\rangle$')\n",
    "# plt.title('QRAM state evolution in memory access operation')\n",
    "plt.grid(linewidth=0.3)\n",
    "# plt.vlines([124], ymin=0, ymax=1)\n",
    "plt.show()"
   ]
  },
  {
   "cell_type": "code",
   "execution_count": 10,
   "metadata": {},
   "outputs": [
    {
     "name": "stdout",
     "output_type": "stream",
     "text": [
      "Quantum object: dims = [[2, 2], [1, 1]], shape = (4, 1), type = ket\n",
      "Qobj data =\n",
      "[[ 0.35334444-0.35232387j]\n",
      " [ 0.49823309-0.02504736j]\n",
      " [-0.13240812+0.48694768j]\n",
      " [-0.41539295+0.27377135j]]\n"
     ]
    }
   ],
   "source": [
    "print(result[-1])"
   ]
  },
  {
   "cell_type": "code",
   "execution_count": 11,
   "metadata": {},
   "outputs": [
    {
     "ename": "TypeError",
     "evalue": "state() missing 1 required positional argument: 'levels'",
     "output_type": "error",
     "traceback": [
      "\u001b[1;31m---------------------------------------------------------------------------\u001b[0m",
      "\u001b[1;31mTypeError\u001b[0m                                 Traceback (most recent call last)",
      "\u001b[1;32m<ipython-input-11-13474fd41ee5>\u001b[0m in \u001b[0;36m<module>\u001b[1;34m\u001b[0m\n\u001b[1;32m----> 1\u001b[1;33m \u001b[0mref_state\u001b[0m \u001b[1;33m=\u001b[0m \u001b[0mqram\u001b[0m\u001b[1;33m.\u001b[0m\u001b[0mstate\u001b[0m\u001b[1;33m(\u001b[0m\u001b[1;33m)\u001b[0m\u001b[1;33m\u001b[0m\u001b[1;33m\u001b[0m\u001b[0m\n\u001b[0m\u001b[0;32m      2\u001b[0m \u001b[0mprobs\u001b[0m \u001b[1;33m=\u001b[0m \u001b[1;33m[\u001b[0m\u001b[0mnp\u001b[0m\u001b[1;33m.\u001b[0m\u001b[0mabs\u001b[0m\u001b[1;33m(\u001b[0m\u001b[0mstate\u001b[0m\u001b[1;33m.\u001b[0m\u001b[0moverlap\u001b[0m\u001b[1;33m(\u001b[0m\u001b[0mresult\u001b[0m\u001b[1;33m[\u001b[0m\u001b[0mt\u001b[0m\u001b[1;33m]\u001b[0m\u001b[1;33m)\u001b[0m\u001b[1;33m)\u001b[0m\u001b[1;33m**\u001b[0m\u001b[1;36m2\u001b[0m \u001b[1;32mfor\u001b[0m \u001b[0mt\u001b[0m \u001b[1;32min\u001b[0m \u001b[0mrange\u001b[0m\u001b[1;33m(\u001b[0m\u001b[0mlen\u001b[0m\u001b[1;33m(\u001b[0m\u001b[0mtimes\u001b[0m\u001b[1;33m)\u001b[0m\u001b[1;33m)\u001b[0m\u001b[1;33m]\u001b[0m\u001b[1;33m\u001b[0m\u001b[1;33m\u001b[0m\u001b[0m\n\u001b[0;32m      3\u001b[0m \u001b[0mprint\u001b[0m\u001b[1;33m(\u001b[0m\u001b[0mref_state\u001b[0m\u001b[1;33m,\u001b[0m \u001b[1;34m'probabilty'\u001b[0m\u001b[1;33m,\u001b[0m \u001b[0mprobs\u001b[0m\u001b[1;33m[\u001b[0m\u001b[1;33m-\u001b[0m\u001b[1;36m1\u001b[0m\u001b[1;33m]\u001b[0m\u001b[1;33m)\u001b[0m\u001b[1;33m\u001b[0m\u001b[1;33m\u001b[0m\u001b[0m\n\u001b[0;32m      4\u001b[0m \u001b[0mplt\u001b[0m\u001b[1;33m.\u001b[0m\u001b[0mplot\u001b[0m\u001b[1;33m(\u001b[0m\u001b[0mtimes\u001b[0m\u001b[1;33m,\u001b[0m \u001b[0mprobs\u001b[0m\u001b[1;33m,\u001b[0m \u001b[0mlabel\u001b[0m\u001b[1;33m=\u001b[0m\u001b[1;34mf'$|{ref_state}\\\\rangle_D$'\u001b[0m\u001b[1;33m)\u001b[0m\u001b[1;33m\u001b[0m\u001b[1;33m\u001b[0m\u001b[0m\n",
      "\u001b[1;31mTypeError\u001b[0m: state() missing 1 required positional argument: 'levels'"
     ]
    }
   ],
   "source": [
    "ref_state = qram.state()\n",
    "probs = [np.abs(state.overlap(result[t]))**2 for t in range(len(times))]\n",
    "print(ref_state, 'probabilty', probs[-1])\n",
    "plt.plot(times, probs, label=f'$|{ref_state}\\\\rangle_D$')"
   ]
  },
  {
   "cell_type": "code",
   "execution_count": null,
   "metadata": {},
   "outputs": [],
   "source": []
  }
 ],
 "metadata": {
  "kernelspec": {
   "display_name": "base",
   "language": "python",
   "name": "python3"
  },
  "language_info": {
   "codemirror_mode": {
    "name": "ipython",
    "version": 3
   },
   "file_extension": ".py",
   "mimetype": "text/x-python",
   "name": "python",
   "nbconvert_exporter": "python",
   "pygments_lexer": "ipython3",
   "version": "3.8.8"
  },
  "vscode": {
   "interpreter": {
    "hash": "2c922461511010919a6549f466b17b4fd59210029bba93d8cfbc67f77787703d"
   }
  }
 },
 "nbformat": 4,
 "nbformat_minor": 4
}
