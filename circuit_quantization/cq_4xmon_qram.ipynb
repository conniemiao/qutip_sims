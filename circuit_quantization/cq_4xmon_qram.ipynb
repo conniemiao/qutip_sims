{
 "cells": [
  {
   "cell_type": "markdown",
   "metadata": {},
   "source": [
    "# xmon1 <-> xmon2 <-> (xmon3, xmon4)"
   ]
  },
  {
   "cell_type": "code",
   "execution_count": 2,
   "metadata": {},
   "outputs": [],
   "source": [
    "import numpy as np\n",
    "import numpy.linalg as alg\n",
    "import scqubits as scq\n",
    "import sys\n",
    "sys.path.insert(0, '..')\n",
    "from QSwitch import QSwitch"
   ]
  },
  {
   "cell_type": "code",
   "execution_count": 3,
   "metadata": {},
   "outputs": [],
   "source": [
    "hbar = 1.054e-34\n",
    "h = hbar*2*np.pi\n",
    "qe = 1.609e-19\n",
    "flux_quant = h/2/qe\n",
    "red_flux_quant = hbar/2/qe \n",
    "\n",
    "# Unit conversions\n",
    "MHz = 10.0**(-3)\n",
    "GHz = 1.0\n",
    "kHz = 10.0**(-6)\n",
    "us = 10.0**3\n",
    "ns = 1.0"
   ]
  },
  {
   "cell_type": "code",
   "execution_count": 25,
   "metadata": {},
   "outputs": [
    {
     "name": "stdout",
     "output_type": "stream",
     "text": [
      "Check symmetric: True True\n"
     ]
    }
   ],
   "source": [
    "# Q3D VALUES\n",
    "# All in SI units\n",
    "Cjs = np.array([78.490, 136.330, 68.713, 87.379])*1e-15 # fF -> F\n",
    "# Cjs = np.array([80.874, 140.519, 69.822, 89.644])*1e-15 # fF -> F\n",
    "# Cab = np.array([3.981, 3.858, 3.477])*1e-15 # [C12, C23, C24] fF -> F\n",
    "Cab = np.array([2.916, 2.868, 2.477])*1e-15 # [C12, C23, C24] fF -> F\n",
    "# Cab = np.array([6.587, 6.479, 6.036])*1e-15 # [C12, C23, C24] fF -> F\n",
    "Crqs = np.array([7.742, 14.431, 7.336, 7.769])*1e-15 # fF -> F\n",
    "Cds = np.array([79, 118, 70, 66])*1e-18 # aF -> F\n",
    "\n",
    "# HFSS VALUES\n",
    "res_freqs = np.array([6.882, 5.643, 6.174, 6.470]) # GHz\n",
    "# res_freqs = np.array([6, 4.5, 5.2, 5.4]) # GHz\n",
    "# res_freqs = np.array([7.6, 5.7, 6.8, 6.9]) # GHz\n",
    "Q_res = np.array([1.272e5, 2.860e5, 7.677e4, 1.526e5])\n",
    "Q_drives = np.array([np.inf, 8.159e6, np.inf, np.inf]) # currently only simulated for qubit 2\n",
    "\n",
    "# GET ZO FROM CPW MATHEMATICA\n",
    "Zo = 52.7066 # Ohm\n",
    "\n",
    "# Ej_targets = np.array([14.9, 13.91, 9.93, 13.91])*1e9 # GHz -> Hz\n",
    "EJs_targets = np.array([13.41, 12.52, 8.94, 12.52])*1e9\n",
    "\n",
    "# Ej_targets = np.array([10.53, 9.73, 6.95, 9.73])*1e9 # GHz -> Hz\n",
    "# Ej_targets = np.array([12.109, 11.195, 7.997, 11.195])*1e9\n",
    "\n",
    "# Ej_targets = np.array([19.5, 18.28, 12.91, 18.28])*1e9 # GHz -> Hz\n",
    "# Ej_targets = np.array([17.523, 16.450, 11.622, 16.450])*1e9\n",
    "\n",
    "Ljs = flux_quant**2/h/4/np.pi**2/Ej_targets # H\n",
    "\n",
    "c_matrix = np.array([\n",
    "    [Cab[0]+Cjs[0], -Cab[0], 0, 0],\n",
    "    [-Cab[0], sum(Cab)+Cjs[1], -Cab[1], -Cab[2]],\n",
    "    [0, -Cab[1], Cab[1]+Cjs[2], 0],\n",
    "    [0, -Cab[2], 0, Cab[2]+Cjs[3]],\n",
    "])\n",
    "\n",
    "inv_l_matrix = np.diag(1/Ljs)\n",
    "\n",
    "print('Check symmetric:', np.allclose(c_matrix, c_matrix.T), np.allclose(inv_l_matrix, inv_l_matrix.T))"
   ]
  },
  {
   "cell_type": "markdown",
   "metadata": {},
   "source": [
    "# BEGIN ANALYSIS"
   ]
  },
  {
   "cell_type": "code",
   "execution_count": 26,
   "metadata": {},
   "outputs": [
    {
     "name": "stdout",
     "output_type": "stream",
     "text": [
      "Modes (cols are evecs)\n",
      " [[-0.039  0.045  0.997 -0.046]\n",
      " [ 0.007  0.999 -0.044  0.015]\n",
      " [ 0.014  0.013 -0.046 -0.999]\n",
      " [ 0.999 -0.005  0.04   0.012]]\n",
      "all ECs\n",
      " [[2.40281007e-01 4.85194969e-03 1.94400633e-04 1.33750438e-04]\n",
      " [4.85194969e-03 1.35451926e-01 5.42708434e-03 3.73391227e-03]\n",
      " [1.94400633e-04 5.42708434e-03 2.73281070e-01 1.49604789e-04]\n",
      " [1.33750438e-04 3.73391227e-03 1.49604789e-04 2.17630612e-01]]\n",
      "all EJs\n",
      " [[2.40281007e-01 4.85194969e-03 1.94400633e-04 1.33750438e-04]\n",
      " [4.85194969e-03 1.35451926e-01 5.42708434e-03 3.73391227e-03]\n",
      " [1.94400633e-04 5.42708434e-03 2.73281070e-01 1.49604789e-04]\n",
      " [1.33750438e-04 3.73391227e-03 1.49604789e-04 2.17630612e-01]]\n",
      "all q-q gs\n",
      " [[2.90187666e+03 6.65654267e+01 2.05164756e+00 1.62983615e+00]\n",
      " [6.65654267e+01 2.11101122e+03 6.50645721e+01 5.16875285e+01]\n",
      " [2.05164756e+00 6.50645721e+01 2.52034624e+03 1.59308814e+00]\n",
      " [1.62983615e+00 5.16875285e+01 1.59308814e+00 2.67582644e+03]]\n",
      "impedances (unitless)\n",
      " 0.3312077456935885 0.25665789895913305 0.4337198834894003 0.3253284425197715\n"
     ]
    }
   ],
   "source": [
    "inv_c_matrix = alg.inv(c_matrix)\n",
    "\n",
    "evals_c, u1 = alg.eigh(inv_c_matrix)\n",
    "u1 = np.array([u1[i]/np.sqrt(evals_c[i]) for i in range(len(evals_c))])\n",
    "evals, evecs = alg.eigh(u1.transpose() @ inv_l_matrix @ u1)\n",
    "print('Modes (cols are evecs)\\n', np.around(evecs, 3))\n",
    "\n",
    "# ======== IDK WHY BUT THIS DOESN'T WORK ========\n",
    "# Look for col with max in Q1_NODE -> use q_modes to reference in EC, EJ\n",
    "# q_modes = np.array([np.argmax(np.abs(evecs[i,:])) for i in range(4)])\n",
    "# print('Qubit modes were mapped', f'q1: mode {q_modes[0]},', f'q2: mode {q_modes[1]},', f'q3: mode {q_modes[2]},', f'q4: mode {q_modes[3]}')\n",
    "# old_evecs = evecs.copy()\n",
    "# for i in range(4):\n",
    "#     evecs[:,i] = old_evecs[:,q_modes[i]]\n",
    "# # evals = np.array([evals[q_modes[i]] for i in range(4)])\n",
    "# ECs = qe**2/2/h * evecs.transpose() @ inv_c_matrix @ evecs\n",
    "# EJs = flux_quant**2/h/4/np.pi**2 * evecs.transpose() @ inv_l_matrix @ evecs\n",
    "# ===============================================\n",
    "\n",
    "ECs = qe**2/2/h * inv_c_matrix\n",
    "EJs = flux_quant**2/h/4/np.pi**2 * inv_l_matrix\n",
    "Zs = np.sqrt(8*np.diag(ECs)/np.diag(EJs))\n",
    "gs = np.array([[4*ECs[i,j]/np.sqrt(Zs[i]*Zs[j]) for i in range(len(c_matrix))] for j in range(len(c_matrix))])\n",
    "\n",
    "print('all ECs\\n', 1e-9*ECs)\n",
    "print('all EJs\\n', 1e-9*ECs)\n",
    "print('all q-q gs\\n', 1e-6*gs)\n",
    "print('impedances (unitless)\\n', *Zs)\n",
    "\n",
    "ECs = 1e-9 * np.diag(ECs)\n",
    "EJs = 1e-9 * np.diag(EJs)\n",
    "\n",
    "gs = 1e-9 * np.abs(np.array([gs[0,1], gs[1,2], gs[1,3]])) # g12, g23, g24\n",
    "\n",
    "# AFTER HERE EVERYTHING IS INDEXED SO QUBIT NUMBER = INDEX AND EVERYTHING IS IN GHz\n"
   ]
  },
  {
   "cell_type": "code",
   "execution_count": 27,
   "metadata": {},
   "outputs": [
    {
     "name": "stdout",
     "output_type": "stream",
     "text": [
      "EC values (GHz):\n",
      "\t 0.24028100703232189 0.13545192603300216 0.2732810697120541 0.21763061202224968\n",
      "EJ values (GHz):\n",
      "\t 17.523000000000003 16.45 11.621999999999998 16.45\n",
      "qubit freqs/2pi (GHz):\n",
      "\t 5.552244197986301 4.0818093191669576 4.749957007773085 5.1240571027715625\n",
      "alphas/2pi (GHz):\n",
      "\t -0.2681812466968925 -0.14696439295158825 -0.3192955221556524 -0.24233482648516969\n",
      "q-q couplings g12, g23, g24 (MHz)\n",
      "\t 66.56542672271766 65.06457214018066 51.68752851908644\n",
      "q-res couplings (MHz) [want 50-100]:\n",
      "\t 99.42202710084078 86.91619483782115 95.83313100669713 85.00666448105575\n",
      "delta wq-wr (GHz) [want 1.5-2]:\n",
      "\t -1.3297558020136986 -1.5611906808330422 -1.4240429922269158 -1.3459428972284373\n",
      "lamb shifts (MHz):\n",
      "\t -7.433499788360757 -4.838886766256566 -6.449235766530385 -5.368825840289972\n",
      "chi shifts (MHz) [want 0.15-0.5]:\n",
      "\t -1.2475618123832173 -0.41632288957743274 -1.181188899683394 -0.8191599359548578\n",
      "\n",
      "\n",
      "drive purcell limits - analytical (ms) [want >1 ms]:\n",
      "\t 1.2999003253841135 1.8721811199129588 1.9804131595750982 2.4337127453373864\n",
      "drive purcell limits - simulated (ms) [want >1 ms]:\n",
      "\t inf 1.998868482583881 inf inf\n",
      "res linewidth kappas - simulated (kHz):\n",
      "\t 54.10377358490566 19.73076923076923 80.42203985932005 42.39842726081258\n",
      "res purcell limits - simulated (s):\n",
      "\t 3306366.5876158425 16351834.152049895 2745615.7822333206 5912859.667687428\n"
     ]
    },
    {
     "name": "stderr",
     "output_type": "stream",
     "text": [
      "RuntimeWarning: divide by zero encountered in true_divide\n",
      " /Users/conniemiao/opt/anaconda3/lib/python3.7/site-packages/ipykernel_launcher.py: 35"
     ]
    }
   ],
   "source": [
    "cutoffs = [4, 5, 4, 4]\n",
    "isCavity = [False, False, False, False]\n",
    "\n",
    "qram = QSwitch(\n",
    "    EJs=EJs,\n",
    "    ECs=ECs,\n",
    "    gs=gs,\n",
    "    cutoffs=cutoffs,\n",
    "    isCavity=isCavity,\n",
    ")\n",
    "\n",
    "qubit_freqs = np.array(qram.qubit_freqs)\n",
    "alphas = qram.alphas\n",
    "charge_mat_el = 1/np.sqrt(2) * (EJs/8/ECs)**1/4\n",
    "g_rqs = Crqs/(Crqs+Cjs) * res_freqs * np.sqrt(2*Zo/(hbar/qe**2))\n",
    "deltas = qubit_freqs-res_freqs\n",
    "lamb_shifts = g_rqs**2/deltas\n",
    "chi_shifts = g_rqs**2/deltas * alphas/(deltas+alphas)\n",
    "drive_purcell_rate_analytical = (2*np.pi*qubit_freqs*1e9*Cds)**2/(Cjs+Cds) * 50 /2/np.pi\n",
    "drive_purcell_rate_sim = qubit_freqs*1e9/Q_drives\n",
    "kappas = res_freqs/Q_res\n",
    "res_purcell_rate = kappas * (g_rqs/deltas)**2\n",
    "\n",
    "print('EC values (GHz):\\n\\t', *ECs)\n",
    "print('EJ values (GHz):\\n\\t', *EJs)\n",
    "print('qubit freqs/2pi (GHz):\\n\\t', *qubit_freqs)\n",
    "print('alphas/2pi (GHz):\\n\\t', *alphas)\n",
    "print('q-q couplings g12, g23, g24 (MHz)\\n\\t', *(gs*1e3))\n",
    "print('q-res couplings (MHz) [want 50-100]:\\n\\t', *(1e3*g_rqs))\n",
    "print('delta wq-wr (GHz) [want 1.5-2]:\\n\\t', *deltas)\n",
    "print('lamb shifts (MHz):\\n\\t', *(1e3*lamb_shifts))\n",
    "print('chi shifts (MHz) [want 0.15-0.5]:\\n\\t', *(1e3*chi_shifts))\n",
    "print('\\n')\n",
    "print('drive purcell limits - analytical (ms) [want >1 ms]:\\n\\t', *(1e3/drive_purcell_rate_analytical))\n",
    "print('drive purcell limits - simulated (ms) [want >1 ms]:\\n\\t', *(1e3/drive_purcell_rate_sim))\n",
    "print('res linewidth kappas - simulated (kHz):\\n\\t', *(1e6*kappas))\n",
    "print('res purcell limits - simulated (s):\\n\\t', *(1/res_purcell_rate))"
   ]
  },
  {
   "cell_type": "code",
   "execution_count": null,
   "metadata": {},
   "outputs": [],
   "source": []
  },
  {
   "cell_type": "code",
   "execution_count": null,
   "metadata": {},
   "outputs": [],
   "source": []
  }
 ],
 "metadata": {
  "interpreter": {
   "hash": "43f6a75978c76bba6ea20234e87ef3db866a2e4af5d4176364e7769ae473e17b"
  },
  "kernelspec": {
   "display_name": "Python 3.7.6 64-bit ('base': conda)",
   "name": "python3"
  },
  "language_info": {
   "codemirror_mode": {
    "name": "ipython",
    "version": 3
   },
   "file_extension": ".py",
   "mimetype": "text/x-python",
   "name": "python",
   "nbconvert_exporter": "python",
   "pygments_lexer": "ipython3",
   "version": "3.7.6"
  },
  "orig_nbformat": 4
 },
 "nbformat": 4,
 "nbformat_minor": 2
}
