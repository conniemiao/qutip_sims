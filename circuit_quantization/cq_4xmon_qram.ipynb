{
 "cells": [
  {
   "cell_type": "markdown",
   "metadata": {},
   "source": [
    "# xmon1 <-> xmon2 <-> (xmon3, xmon4)"
   ]
  },
  {
   "cell_type": "code",
   "execution_count": 1,
   "metadata": {},
   "outputs": [],
   "source": [
    "import numpy as np\n",
    "import numpy.linalg as alg\n",
    "import scqubits as scq\n",
    "import sys\n",
    "sys.path.insert(0, '..')\n",
    "from QSwitch import QSwitch"
   ]
  },
  {
   "cell_type": "code",
   "execution_count": 2,
   "metadata": {},
   "outputs": [],
   "source": [
    "hbar = 1.054e-34\n",
    "h = hbar*2*np.pi\n",
    "qe = 1.609e-19\n",
    "flux_quant = h/2/qe\n",
    "red_flux_quant = hbar/2/qe \n",
    "\n",
    "# Unit conversions\n",
    "MHz = 10.0**(-3)\n",
    "GHz = 1.0\n",
    "kHz = 10.0**(-6)\n",
    "us = 10.0**3\n",
    "ns = 1.0"
   ]
  },
  {
   "cell_type": "code",
   "execution_count": 6,
   "metadata": {},
   "outputs": [
    {
     "name": "stdout",
     "output_type": "stream",
     "text": [
      "[1.61897e+10 1.60826e+10 1.04793e+10 1.47755e+10]\n",
      "Check symmetric: True True\n"
     ]
    }
   ],
   "source": [
    "# Q3D VALUES\n",
    "# All in SI units\n",
    "Cjs = 1.10*np.array([78.490, 136.330, 68.713, 87.379])*1e-15 # fF -> F\n",
    "# Cjs = np.array([80.874, 140.519, 69.822, 89.644])*1e-15 # fF -> F\n",
    "# Cab = np.array([3.981, 3.858, 3.477])*1e-15 # [C12, C23, C24] fF -> F\n",
    "Cab = 1.10*np.array([2.916, 2.868, 2.477])*1e-15 # [C12, C23, C24] fF -> F\n",
    "# Cab = np.array([6.587, 6.479, 6.036])*1e-15 # [C12, C23, C24] fF -> F\n",
    "Crqs = 1.10*np.array([7.742, 14.431, 7.336, 7.769])*1e-15 # fF -> F\n",
    "Cds = 1.10*np.array([79, 118, 70, 66])*1e-18 # aF -> F\n",
    "\n",
    "# HFSS VALUES\n",
    "res_freqs = np.array([6.882, 5.643, 6.174, 6.470]) # GHz\n",
    "# res_freqs = np.array([6, 4.5, 5.2, 5.4]) # GHz\n",
    "# res_freqs = np.array([7.6, 5.7, 6.8, 6.9]) # GHz\n",
    "Q_res = np.array([1.272e5, 2.860e5, 7.677e4, 1.526e5])\n",
    "Q_drives = np.array([np.inf, 8.159e6, np.inf, np.inf]) # currently only simulated for qubit 2\n",
    "\n",
    "# GET ZO FROM CPW MATHEMATICA\n",
    "Zo = 52.7066 # Ohm\n",
    "\n",
    "EJs_targets = np.array([10.4793, 16.0826, 16.1897, 14.7755])*1e9 # GHz -> Hz\n",
    "# EJs_targets = np.array([15.854, 15.71400194, 16.28918353, 15.0654866])*1e9\n",
    "EJs_targets2 = EJs_targets[2]\n",
    "EJs_targets[2] = EJs_targets[0]\n",
    "EJs_targets[0] = EJs_targets2\n",
    "print(EJs_targets)\n",
    "\n",
    "# Ej_targets = np.array([10.53, 9.73, 6.95, 9.73])*1e9 # GHz -> Hz\n",
    "# Ej_targets = np.array([12.109, 11.195, 7.997, 11.195])*1e9\n",
    "\n",
    "# Ej_targets = np.array([19.5, 18.28, 12.91, 18.28])*1e9 # GHz -> Hz\n",
    "# Ej_targets = np.array([17.523, 16.450, 11.622, 16.450])*1e9\n",
    "\n",
    "Ljs = flux_quant**2/h/4/np.pi**2/EJs_targets # H\n",
    "\n",
    "c_matrix = np.array([\n",
    "    [Cab[0]+Cjs[0], -Cab[0], 0, 0],\n",
    "    [-Cab[0], sum(Cab)+Cjs[1], -Cab[1], -Cab[2]],\n",
    "    [0, -Cab[1], Cab[1]+Cjs[2], 0],\n",
    "    [0, -Cab[2], 0, Cab[2]+Cjs[3]],\n",
    "])\n",
    "\n",
    "inv_l_matrix = np.diag(1/Ljs)\n",
    "\n",
    "print('Check symmetric:', np.allclose(c_matrix, c_matrix.T), np.allclose(inv_l_matrix, inv_l_matrix.T))"
   ]
  },
  {
   "cell_type": "markdown",
   "metadata": {},
   "source": [
    "# BEGIN ANALYSIS"
   ]
  },
  {
   "cell_type": "code",
   "execution_count": 7,
   "metadata": {},
   "outputs": [
    {
     "name": "stdout",
     "output_type": "stream",
     "text": [
      "Modes (cols are evecs)\n",
      " [[-0.039 -0.045 -0.997 -0.046]\n",
      " [-0.007  0.999 -0.044 -0.015]\n",
      " [ 0.014 -0.013  0.046 -0.999]\n",
      " [-0.999 -0.005  0.04  -0.012]]\n",
      "all ECs\n",
      " [[2.18437279e-01 4.41086335e-03 1.76727848e-04 1.21591307e-04]\n",
      " [4.41086335e-03 1.23138115e-01 4.93371303e-03 3.39446570e-03]\n",
      " [1.76727848e-04 4.93371303e-03 2.48437336e-01 1.36004353e-04]\n",
      " [1.21591307e-04 3.39446570e-03 1.36004353e-04 1.97846011e-01]]\n",
      "all EJs\n",
      " [[2.18437279e-01 4.41086335e-03 1.76727848e-04 1.21591307e-04]\n",
      " [4.41086335e-03 1.23138115e-01 4.93371303e-03 3.39446570e-03]\n",
      " [1.76727848e-04 4.93371303e-03 2.48437336e-01 1.36004353e-04]\n",
      " [1.21591307e-04 3.39446570e-03 1.36004353e-04 1.97846011e-01]]\n",
      "all q-q gs\n",
      " [[2.65948642e+03 6.18739087e+01 1.86886035e+00 1.48319844e+00]\n",
      " [6.18739087e+01 1.99016635e+03 6.01116537e+01 4.77068876e+01]\n",
      " [1.86886035e+00 6.01116537e+01 2.28186300e+03 1.44095488e+00]\n",
      " [1.48319844e+00 4.77068876e+01 1.44095488e+00 2.41796350e+03]]\n",
      "impedances (unitless)\n",
      " 0.3285405440827375 0.24749311001276364 0.435499126919312 0.3272936274513108\n"
     ]
    }
   ],
   "source": [
    "inv_c_matrix = alg.inv(c_matrix)\n",
    "\n",
    "evals_c, u1 = alg.eigh(inv_c_matrix)\n",
    "u1 = np.array([u1[i]/np.sqrt(evals_c[i]) for i in range(len(evals_c))])\n",
    "evals, evecs = alg.eigh(u1.transpose() @ inv_l_matrix @ u1)\n",
    "print('Modes (cols are evecs)\\n', np.around(evecs, 3))\n",
    "\n",
    "# ======== IDK WHY BUT THIS DOESN'T WORK ========\n",
    "# Look for col with max in Q1_NODE -> use q_modes to reference in EC, EJ\n",
    "# q_modes = np.array([np.argmax(np.abs(evecs[i,:])) for i in range(4)])\n",
    "# print('Qubit modes were mapped', f'q1: mode {q_modes[0]},', f'q2: mode {q_modes[1]},', f'q3: mode {q_modes[2]},', f'q4: mode {q_modes[3]}')\n",
    "# old_evecs = evecs.copy()\n",
    "# for i in range(4):\n",
    "#     evecs[:,i] = old_evecs[:,q_modes[i]]\n",
    "# # evals = np.array([evals[q_modes[i]] for i in range(4)])\n",
    "# ECs = qe**2/2/h * evecs.transpose() @ inv_c_matrix @ evecs\n",
    "# EJs = flux_quant**2/h/4/np.pi**2 * evecs.transpose() @ inv_l_matrix @ evecs\n",
    "# ===============================================\n",
    "\n",
    "ECs = qe**2/2/h * inv_c_matrix\n",
    "EJs = flux_quant**2/h/4/np.pi**2 * inv_l_matrix\n",
    "Zs = np.sqrt(8*np.diag(ECs)/np.diag(EJs))\n",
    "gs = np.array([[4*ECs[i,j]/np.sqrt(Zs[i]*Zs[j]) for i in range(len(c_matrix))] for j in range(len(c_matrix))])\n",
    "\n",
    "print('all ECs\\n', 1e-9*ECs)\n",
    "print('all EJs\\n', 1e-9*ECs)\n",
    "print('all q-q gs\\n', 1e-6*gs)\n",
    "print('impedances (unitless)\\n', *Zs)\n",
    "\n",
    "ECs = 1e-9 * np.diag(ECs)\n",
    "EJs = 1e-9 * np.diag(EJs)\n",
    "\n",
    "gs = 1e-9 * np.abs(np.array([gs[0,1], gs[1,2], gs[1,3]])) # g12, g23, g24\n",
    "\n",
    "# AFTER HERE EVERYTHING IS INDEXED SO QUBIT NUMBER = INDEX AND EVERYTHING IS IN GHz\n"
   ]
  },
  {
   "cell_type": "code",
   "execution_count": 12,
   "metadata": {},
   "outputs": [
    {
     "name": "stdout",
     "output_type": "stream",
     "text": [
      "EC values (GHz):\n",
      "\t 0.21843727912029262 0.12313811457545648 0.24843733610186738 0.19784601092931786\n",
      "EJ values (GHz):\n",
      "\t 16.1897 16.0826 10.479300000000002 14.7755\n",
      "qubit freqs/2pi (GHz):\n",
      "\t 5.090421439707718 3.8530355318752534 4.299344329949664 4.628959696445456\n",
      "alphas/2pi (GHz):\n",
      "\t -0.24354265529597185 -0.13316361963781898 -0.2905413850208749 -0.22047574693968564\n",
      "q-q couplings g12, g23, g24 (MHz)\n",
      "\t 61.873908745043856 60.11165370311256 47.70688764330272\n",
      "q-res couplings (MHz) [want 50-100]:\n",
      "\t 99.4220271008408 86.91619483782115 95.83313100669712 85.00666448105572\n",
      "delta wq-wr (GHz) [want 1.5-2]:\n",
      "\t -1.7915785602922814 -1.7899644681247464 -1.8746556700503367 -1.8410403035545437\n",
      "lamb shifts (MHz):\n",
      "\t -5.517335210367614 -4.220432896637591 -4.899027136167449 -3.9250270579319197\n",
      "chi shifts (MHz) [want 0.15-0.5]:\n",
      "\t -0.6602586897520445 -0.29223644775977803 -0.6573859529612779 -0.4197751805757474\n",
      "qubit dephasing time from resonator shot rate (us):\n",
      "\t 225.34785303561145 238.0813479744376 225.37518732294498 229.93758394589545\n",
      "\n",
      "\n",
      "drive purcell limits - analytical (ms) [want >1 ms]:\n",
      "\t 1.4058759655681259 1.9100932676680225 2.197546222037673 2.7110514160545045\n",
      "drive purcell limits - simulated (ms) [want >1 ms]:\n",
      "\t inf 2.1175511963236566 inf inf\n",
      "res linewidth kappas - simulated (kHz):\n",
      "\t 54.10377358490566 19.73076923076923 80.42203985932005 42.39842726081258\n",
      "res purcell limits - simulated (s):\n",
      "\t 6001764.204155868 21495294.19123 4758133.030935694 11062948.58540942\n"
     ]
    },
    {
     "name": "stderr",
     "output_type": "stream",
     "text": [
      "RuntimeWarning: divide by zero encountered in divide\n",
      " C:\\Users\\slab\\AppData\\Local\\Temp\\ipykernel_19812\\3226943260.py: 40"
     ]
    }
   ],
   "source": [
    "cutoffs = [4, 5, 4, 4]\n",
    "isCavity = [False, False, False, False]\n",
    "\n",
    "qram = QSwitch(\n",
    "    EJs=EJs,\n",
    "    ECs=ECs,\n",
    "    gs=gs,\n",
    "    cutoffs=cutoffs,\n",
    "    isCavity=isCavity,\n",
    ")\n",
    "\n",
    "qubit_freqs = np.array(qram.qubit_freqs)\n",
    "alphas = qram.alphas\n",
    "charge_mat_el = 1/np.sqrt(2) * (EJs/8/ECs)**1/4\n",
    "g_rqs = Crqs/(Crqs+Cjs) * res_freqs * np.sqrt(2*Zo/(hbar/qe**2))\n",
    "deltas = qubit_freqs-res_freqs\n",
    "lamb_shifts = g_rqs**2/deltas\n",
    "chi_shifts = g_rqs**2/deltas * alphas/(deltas+alphas)\n",
    "\n",
    "kappa_res = 0.15e-3\n",
    "nth = 0.03 # BE 80 mK around 7 GHz\n",
    "shot_rate = kappa_res/2*np.real(((1 + 2*1j*chi_shifts/kappa_res)**2 + 8j*chi_shifts*nth/kappa_res)**0.5 - 1)\n",
    "drive_purcell_rate_analytical = (2*np.pi*qubit_freqs*1e9*Cds)**2/(Cjs+Cds) * 50 /2/np.pi\n",
    "drive_purcell_rate_sim = qubit_freqs*1e9/Q_drives\n",
    "kappas = res_freqs/Q_res\n",
    "res_purcell_rate = kappas * (g_rqs/deltas)**2\n",
    "\n",
    "print('EC values (GHz):\\n\\t', *ECs)\n",
    "print('EJ values (GHz):\\n\\t', *EJs)\n",
    "print('qubit freqs/2pi (GHz):\\n\\t', *qubit_freqs)\n",
    "print('alphas/2pi (GHz):\\n\\t', *alphas)\n",
    "print('q-q couplings g12, g23, g24 (MHz)\\n\\t', *(gs*1e3))\n",
    "print('q-res couplings (MHz) [want 50-100]:\\n\\t', *(1e3*g_rqs))\n",
    "print('delta wq-wr (GHz) [want 1.5-2]:\\n\\t', *deltas)\n",
    "print('lamb shifts (MHz):\\n\\t', *(1e3*lamb_shifts))\n",
    "print('chi shifts (MHz) [want 0.15-0.5]:\\n\\t', *(1e3*chi_shifts))\n",
    "print('qubit dephasing time from resonator shot rate (us):\\n\\t', *(1e-3/shot_rate))\n",
    "print('\\n')\n",
    "print('drive purcell limits - analytical (ms) [want >1 ms]:\\n\\t', *(1e3/drive_purcell_rate_analytical))\n",
    "print('drive purcell limits - simulated (ms) [want >1 ms]:\\n\\t', *(1e3/drive_purcell_rate_sim))\n",
    "print('res linewidth kappas - simulated (kHz):\\n\\t', *(1e6*kappas))\n",
    "print('res purcell limits - simulated (s):\\n\\t', *(1/res_purcell_rate))"
   ]
  },
  {
   "cell_type": "code",
   "execution_count": null,
   "metadata": {},
   "outputs": [],
   "source": []
  },
  {
   "cell_type": "code",
   "execution_count": null,
   "metadata": {},
   "outputs": [],
   "source": []
  }
 ],
 "metadata": {
  "kernelspec": {
   "display_name": "Python 3.6.6 64-bit",
   "language": "python",
   "name": "python3"
  },
  "language_info": {
   "codemirror_mode": {
    "name": "ipython",
    "version": 3
   },
   "file_extension": ".py",
   "mimetype": "text/x-python",
   "name": "python",
   "nbconvert_exporter": "python",
   "pygments_lexer": "ipython3",
   "version": "3.9.13"
  },
  "orig_nbformat": 4,
  "vscode": {
   "interpreter": {
    "hash": "8a9681e39844f652d5b4b9546f20ca4205a8167fe914e7d0f37c2626a073f228"
   }
  }
 },
 "nbformat": 4,
 "nbformat_minor": 2
}
