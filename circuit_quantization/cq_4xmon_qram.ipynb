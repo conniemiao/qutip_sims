{
 "cells": [
  {
   "cell_type": "markdown",
   "metadata": {},
   "source": [
    "# xmon1 <-> xmon2 <-> (xmon3, xmon4)"
   ]
  },
  {
   "cell_type": "code",
   "execution_count": 108,
   "metadata": {},
   "outputs": [],
   "source": [
    "import numpy as np\n",
    "import numpy.linalg as alg\n",
    "import scqubits as scq\n",
    "import sys\n",
    "sys.path.insert(0, '..')\n",
    "from QSwitch import QSwitch"
   ]
  },
  {
   "cell_type": "code",
   "execution_count": 109,
   "metadata": {},
   "outputs": [],
   "source": [
    "hbar = 1.054e-34\n",
    "h = hbar*2*np.pi\n",
    "qe = 1.609e-19\n",
    "flux_quant = h/2/qe\n",
    "red_flux_quant = hbar/2/qe \n",
    "\n",
    "# Unit conversions\n",
    "MHz = 10.0**(-3)\n",
    "GHz = 1.0\n",
    "kHz = 10.0**(-6)\n",
    "us = 10.0**3\n",
    "ns = 1.0"
   ]
  },
  {
   "cell_type": "code",
   "execution_count": 110,
   "metadata": {},
   "outputs": [
    {
     "name": "stdout",
     "output_type": "stream",
     "text": [
      "Check symmetric: True True\n"
     ]
    }
   ],
   "source": [
    "# Q3D VALUES\n",
    "# All in SI units\n",
    "Cjs = np.array([78.490, 136.330, 68.713, 87.379])*1e-15 # fF -> F\n",
    "# Cjs = np.array([80.874, 140.519, 69.822, 89.644])*1e-15 # fF -> F\n",
    "Cab = np.array([3.981, 3.858, 3.477])*1e-15 # [C12, C23, C24] fF -> F\n",
    "# Cab = np.array([2.916, 2.868, 2.477])*1e-15 # [C12, C23, C24] fF -> F\n",
    "# Cab = np.array([6.587, 6.479, 6.036])*1e-15 # [C12, C23, C24] fF -> F\n",
    "Crqs = np.array([7.742, 14.431, 7.336, 7.769])*1e-15 # fF -> F\n",
    "Cds = np.array([79, 118, 70, 66])*1e-18 # aF -> F\n",
    "\n",
    "# HFSS VALUES\n",
    "res_freqs = np.array([6.882, 5.643, 6.174, 6.470]) # GHz\n",
    "# res_freqs = np.array([6, 4.5, 5.2, 5.4]) # GHz\n",
    "# res_freqs = np.array([7.6, 5.7, 6.8, 6.9]) # GHz\n",
    "Q_res = np.array([1.272e5, 2.860e5, 7.677e4, 1.526e5])\n",
    "Q_drives = np.array([np.inf, 8.159e6, np.inf, np.inf]) # currently only simulated for qubit 2\n",
    "\n",
    "# GET ZO FROM CPW MATHEMATICA\n",
    "Zo = 52.7066 # Ohm\n",
    "\n",
    "Ej_targets = np.array([14.9, 13.91, 9.93, 13.91])*1e9 # GHz -> Hz\n",
    "# Ej_targets = np.array([10.53, 9.73, 6.95, 9.73])*1e9 # GHz -> Hz\n",
    "# Ej_targets = np.array([19.5, 18.28, 12.91, 18.28])*1e9 # GHz -> Hz\n",
    "Ljs = flux_quant**2/h/4/np.pi**2/Ej_targets # H\n",
    "\n",
    "c_matrix = np.array([\n",
    "    [Cab[0]+Cjs[0], -Cab[0], 0, 0],\n",
    "    [-Cab[0], sum(Cab)+Cjs[1], -Cab[1], -Cab[2]],\n",
    "    [0, -Cab[1], Cab[1]+Cjs[2], 0],\n",
    "    [0, -Cab[2], 0, Cab[2]+Cjs[3]],\n",
    "])\n",
    "\n",
    "inv_l_matrix = np.diag(1/Ljs)\n",
    "\n",
    "print('Check symmetric:', np.allclose(c_matrix, c_matrix.T), np.allclose(inv_l_matrix, inv_l_matrix.T))"
   ]
  },
  {
   "cell_type": "markdown",
   "metadata": {},
   "source": [
    "# BEGIN ANALYSIS"
   ]
  },
  {
   "cell_type": "code",
   "execution_count": 111,
   "metadata": {},
   "outputs": [
    {
     "name": "stdout",
     "output_type": "stream",
     "text": [
      "Modes (cols are evecs)\n",
      " [[-0.051  0.06   0.995 -0.06 ]\n",
      " [ 0.012  0.998 -0.058  0.028]\n",
      " [ 0.024  0.024 -0.061 -0.998]\n",
      " [ 0.998 -0.01   0.053  0.021]]\n",
      "all ECs\n",
      " [[2.37316141e-01 6.41347778e-03 3.40951582e-04 2.45439621e-04]\n",
      " [6.41347778e-03 1.32862579e-01 7.06320471e-03 5.08456444e-03]\n",
      " [3.40951582e-04 7.06320471e-03 2.69714035e-01 2.70304248e-04]\n",
      " [2.45439621e-04 5.08456444e-03 2.70304248e-04 2.15328062e-01]]\n",
      "all EJs\n",
      " [[2.37316141e-01 6.41347778e-03 3.40951582e-04 2.45439621e-04]\n",
      " [6.41347778e-03 1.32862579e-01 7.06320471e-03 5.08456444e-03]\n",
      " [3.40951582e-04 7.06320471e-03 2.69714035e-01 2.70304248e-04]\n",
      " [2.45439621e-04 5.08456444e-03 2.70304248e-04 2.15328062e-01]]\n",
      "all q-q gs\n",
      " [[2659.32716843   81.66847636    3.34336569    2.77000812]\n",
      " [  81.66847636 1922.5599967    78.70626979   65.20884245]\n",
      " [   3.34336569   78.70626979 2314.4158508     2.66953684]\n",
      " [   2.77000812   65.20884245    2.66953684 2447.53481807]]\n",
      "impedances (unitless)\n",
      " 0.3569566669027231 0.27642846825269585 0.46614619351470044 0.35191011043383846\n"
     ]
    }
   ],
   "source": [
    "inv_c_matrix = alg.inv(c_matrix)\n",
    "\n",
    "evals_c, u1 = alg.eigh(inv_c_matrix)\n",
    "u1 = np.array([u1[i]/np.sqrt(evals_c[i]) for i in range(len(evals_c))])\n",
    "evals, evecs = alg.eigh(u1.transpose() @ inv_l_matrix @ u1)\n",
    "print('Modes (cols are evecs)\\n', np.around(evecs, 3))\n",
    "\n",
    "# ======== IDK WHY BUT THIS DOESN'T WORK ========\n",
    "# Look for col with max in Q1_NODE -> use q_modes to reference in EC, EJ\n",
    "# q_modes = np.array([np.argmax(np.abs(evecs[i,:])) for i in range(4)])\n",
    "# print('Qubit modes were mapped', f'q1: mode {q_modes[0]},', f'q2: mode {q_modes[1]},', f'q3: mode {q_modes[2]},', f'q4: mode {q_modes[3]}')\n",
    "# old_evecs = evecs.copy()\n",
    "# for i in range(4):\n",
    "#     evecs[:,i] = old_evecs[:,q_modes[i]]\n",
    "# # evals = np.array([evals[q_modes[i]] for i in range(4)])\n",
    "# ECs = qe**2/2/h * evecs.transpose() @ inv_c_matrix @ evecs\n",
    "# EJs = flux_quant**2/h/4/np.pi**2 * evecs.transpose() @ inv_l_matrix @ evecs\n",
    "# ===============================================\n",
    "\n",
    "ECs = qe**2/2/h * inv_c_matrix\n",
    "EJs = flux_quant**2/h/4/np.pi**2 * inv_l_matrix\n",
    "Zs = np.sqrt(8*np.diag(ECs)/np.diag(EJs))\n",
    "gs = np.array([[4*ECs[i,j]/np.sqrt(Zs[i]*Zs[j]) for i in range(len(c_matrix))] for j in range(len(c_matrix))])\n",
    "\n",
    "print('all ECs\\n', 1e-9*ECs)\n",
    "print('all EJs\\n', 1e-9*ECs)\n",
    "print('all q-q gs\\n', 1e-6*gs)\n",
    "print('impedances (unitless)\\n', *Zs)\n",
    "\n",
    "ECs = 1e-9 * np.diag(ECs)\n",
    "EJs = 1e-9 * np.diag(EJs)\n",
    "\n",
    "gs = 1e-9 * np.abs(np.array([gs[0,1], gs[1,2], gs[1,3]])) # g12, g23, g24\n",
    "\n",
    "# AFTER HERE EVERYTHING IS INDEXED SO QUBIT NUMBER = INDEX AND EVERYTHING IS IN GHz\n"
   ]
  },
  {
   "cell_type": "code",
   "execution_count": 112,
   "metadata": {},
   "outputs": [
    {
     "name": "stdout",
     "output_type": "stream",
     "text": [
      "EC values (GHz):\n",
      "\t 0.23731614056123682 0.13286257875274943 0.2697140347651836 0.2153280620291862\n",
      "EJ values (GHz):\n",
      "\t 14.9 13.91 9.930000000000001 13.91\n",
      "qubit freqs/2pi (GHz):\n",
      "\t 5.069258499685212 3.7071885004802088 4.3403653553659405 4.668958740871519\n",
      "alphas/2pi (GHz):\n",
      "\t -0.2676605209663876 -0.1452030948815537 -0.3210446073938158 -0.2423543381126212\n",
      "q-q couplings g12, g23, g24 (MHz)\n",
      "\t 81.66847636073615 78.70626978513529 65.20884244800864\n",
      "q-res couplings (MHz) [want 50-100]:\n",
      "\t 99.42202710084078 86.91619483782115 95.83313100669713 85.00666448105575\n",
      "delta wq-wr (GHz) [want 1.5-2]:\n",
      "\t -1.8127415003147878 -1.935811499519791 -1.83363464463406 -1.801041259128481\n",
      "lamb shifts (MHz):\n",
      "\t -5.452922808422383 -3.9024589568561208 -5.008625368975635 -4.0121973716979085\n",
      "chi shifts (MHz) [want 0.15-0.5]:\n",
      "\t -0.7015625560645282 -0.27229463921504066 -0.7462791334961466 -0.4758615706659536\n",
      "\n",
      "\n",
      "drive purcell limits - analytical (ms) [want >1 ms]:\n",
      "\t 1.5594027447691334 2.2696764342614992 2.3718246839177026 2.931279063223826\n",
      "drive purcell limits - simulated (ms) [want >1 ms]:\n",
      "\t inf 2.2008592222767005 inf inf\n",
      "res linewidth kappas - simulated (kHz):\n",
      "\t 54.10377358490566 19.73076923076923 80.42203985932005 42.39842726081258\n",
      "res purcell limits - simulated (s):\n",
      "\t 6144392.786589239 25140893.255740754 4552177.3385498235 10587456.179206397\n"
     ]
    },
    {
     "name": "stderr",
     "output_type": "stream",
     "text": [
      "RuntimeWarning: divide by zero encountered in true_divide\n",
      " /Users/conniemiao/opt/anaconda3/lib/python3.7/site-packages/ipykernel_launcher.py: 35"
     ]
    }
   ],
   "source": [
    "cutoffs = [4, 5, 4, 4]\n",
    "isCavity = [False, False, False, False]\n",
    "\n",
    "qram = QSwitch(\n",
    "    EJs=EJs,\n",
    "    ECs=ECs,\n",
    "    gs=gs,\n",
    "    cutoffs=cutoffs,\n",
    "    isCavity=isCavity,\n",
    ")\n",
    "\n",
    "qubit_freqs = np.array(qram.qubit_freqs)\n",
    "alphas = qram.alphas\n",
    "charge_mat_el = 1/np.sqrt(2) * (EJs/8/ECs)**1/4\n",
    "g_rqs = Crqs/(Crqs+Cjs) * res_freqs * np.sqrt(2*Zo/(hbar/qe**2))\n",
    "deltas = qubit_freqs-res_freqs\n",
    "lamb_shifts = g_rqs**2/deltas\n",
    "chi_shifts = g_rqs**2/deltas * alphas/(deltas+alphas)\n",
    "drive_purcell_rate_analytical = (2*np.pi*qubit_freqs*1e9*Cds)**2/(Cjs+Cds) * 50 /2/np.pi\n",
    "drive_purcell_rate_sim = qubit_freqs*1e9/Q_drives\n",
    "kappas = res_freqs/Q_res\n",
    "res_purcell_rate = kappas * (g_rqs/deltas)**2\n",
    "\n",
    "print('EC values (GHz):\\n\\t', *ECs)\n",
    "print('EJ values (GHz):\\n\\t', *EJs)\n",
    "print('qubit freqs/2pi (GHz):\\n\\t', *qubit_freqs)\n",
    "print('alphas/2pi (GHz):\\n\\t', *alphas)\n",
    "print('q-q couplings g12, g23, g24 (MHz)\\n\\t', *(gs*1e3))\n",
    "print('q-res couplings (MHz) [want 50-100]:\\n\\t', *(1e3*g_rqs))\n",
    "print('delta wq-wr (GHz) [want 1.5-2]:\\n\\t', *deltas)\n",
    "print('lamb shifts (MHz):\\n\\t', *(1e3*lamb_shifts))\n",
    "print('chi shifts (MHz) [want 0.15-0.5]:\\n\\t', *(1e3*chi_shifts))\n",
    "print('\\n')\n",
    "print('drive purcell limits - analytical (ms) [want >1 ms]:\\n\\t', *(1e3/drive_purcell_rate_analytical))\n",
    "print('drive purcell limits - simulated (ms) [want >1 ms]:\\n\\t', *(1e3/drive_purcell_rate_sim))\n",
    "print('res linewidth kappas - simulated (kHz):\\n\\t', *(1e6*kappas))\n",
    "print('res purcell limits - simulated (s):\\n\\t', *(1/res_purcell_rate))"
   ]
  },
  {
   "cell_type": "code",
   "execution_count": null,
   "metadata": {},
   "outputs": [],
   "source": []
  },
  {
   "cell_type": "code",
   "execution_count": null,
   "metadata": {},
   "outputs": [],
   "source": []
  }
 ],
 "metadata": {
  "interpreter": {
   "hash": "43f6a75978c76bba6ea20234e87ef3db866a2e4af5d4176364e7769ae473e17b"
  },
  "kernelspec": {
   "display_name": "Python 3.7.6 64-bit ('base': conda)",
   "name": "python3"
  },
  "language_info": {
   "codemirror_mode": {
    "name": "ipython",
    "version": 3
   },
   "file_extension": ".py",
   "mimetype": "text/x-python",
   "name": "python",
   "nbconvert_exporter": "python",
   "pygments_lexer": "ipython3",
   "version": "3.7.6"
  },
  "orig_nbformat": 4
 },
 "nbformat": 4,
 "nbformat_minor": 2
}
