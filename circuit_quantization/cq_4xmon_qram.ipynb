{
 "cells": [
  {
   "cell_type": "markdown",
   "metadata": {},
   "source": [
    "# xmon1 <-> xmon2 <-> (xmon3, xmon4)"
   ]
  },
  {
   "cell_type": "code",
   "execution_count": 46,
   "metadata": {},
   "outputs": [],
   "source": [
    "import numpy as np\n",
    "import numpy.linalg as alg\n",
    "import scqubits as scq\n",
    "import sys\n",
    "sys.path.insert(0, '..')\n",
    "from QSwitch import QSwitch"
   ]
  },
  {
   "cell_type": "code",
   "execution_count": 47,
   "metadata": {},
   "outputs": [],
   "source": [
    "hbar = 1.054e-34\n",
    "h = hbar*2*np.pi\n",
    "qe = 1.609e-19\n",
    "flux_quant = h/2/qe\n",
    "red_flux_quant = hbar/2/qe \n",
    "\n",
    "# Unit conversions\n",
    "MHz = 10.0**(-3)\n",
    "GHz = 1.0\n",
    "kHz = 10.0**(-6)\n",
    "us = 10.0**3\n",
    "ns = 1.0"
   ]
  },
  {
   "cell_type": "code",
   "execution_count": 110,
   "metadata": {},
   "outputs": [
    {
     "name": "stdout",
     "output_type": "stream",
     "text": [
      "Check symmetric: True True\n"
     ]
    }
   ],
   "source": [
    "# Q3D VALUES\n",
    "# All in SI units\n",
    "Cjs = np.array([76.694, 127.669, 66.517, 86.189])*1e-15 # fF -> F\n",
    "Cab = np.array([4.185, 4.142, 4.345])*1e-15 # [C12, C23, C24] fF -> F\n",
    "Crqs = np.array([10.054, 19.666, 9.601, 10.807])*1e-15 # fF -> F\n",
    "Cds = np.array([72, 135, 72, 62])*1e-18 # aF -> F\n",
    "\n",
    "# HFSS VALUES\n",
    "res_freqs = np.array([7.073, 5.545, 6.178, 6.410]) # GHz\n",
    "Q_res = np.array([1.272e5, 2.860e5, 7.677e4, 1.526e5])\n",
    "Q_drives = np.array([np.inf, 8.159e6, np.inf, np.inf]) # currently only simulated for qubit 2\n",
    "\n",
    "# GET ZO FROM CPW MATHEMATICA\n",
    "Zo = 52.7066 # Ohm\n",
    "\n",
    "Ljs = np.array([10.894, 12.570, 16.341, 11.672])*1e-9 # nH -> H\n",
    "\n",
    "c_matrix = np.array([\n",
    "    [Cab[0]+Cjs[0], -Cab[0], 0, 0],\n",
    "    [-Cab[0], sum(Cab)+Cjs[1], -Cab[1], -Cab[2]],\n",
    "    [0, -Cab[1], Cab[1]+Cjs[2], 0],\n",
    "    [0, -Cab[2], 0, Cab[2]+Cjs[3]],\n",
    "])\n",
    "\n",
    "inv_l_matrix = np.diag(1/Ljs)\n",
    "\n",
    "print('Check symmetric:', np.allclose(c_matrix, c_matrix.T), np.allclose(inv_l_matrix, inv_l_matrix.T))"
   ]
  },
  {
   "cell_type": "markdown",
   "metadata": {},
   "source": [
    "### simultaneous diagonalization"
   ]
  },
  {
   "cell_type": "code",
   "execution_count": 111,
   "metadata": {},
   "outputs": [
    {
     "name": "stdout",
     "output_type": "stream",
     "text": [
      "Modes (cols are evecs)\n",
      " [[-0.058  0.085  0.992 -0.069]\n",
      " [ 0.017  0.996 -0.082  0.037]\n",
      " [ 0.029  0.031 -0.07  -0.997]\n",
      " [ 0.998 -0.013  0.061  0.025]]\n",
      "all ECs\n",
      " [[0.24204641 0.00724117 0.00042447 0.00034753]\n",
      " [0.00724117 0.13994223 0.00820335 0.00671625]\n",
      " [0.00042447 0.00820335 0.2771076  0.0003937 ]\n",
      " [0.00034753 0.00671625 0.0003937  0.21622097]]\n",
      "all EJs\n",
      " [[0.24204641 0.00724117 0.00042447 0.00034753]\n",
      " [0.00724117 0.13994223 0.00820335 0.00671625]\n",
      " [0.00042447 0.00820335 0.2771076  0.0003937 ]\n",
      " [0.00034753 0.00671625 0.0003937  0.21622097]]\n",
      "all q-q gs\n",
      " [[2682.96475335   88.81274226    4.11014494    3.89460657]\n",
      " [  88.81274226 1899.17979178   87.89171471   83.28262269]\n",
      " [   4.11014494   87.89171471 2343.92780049    3.85421778]\n",
      " [   3.89460657   83.28262269    3.85421778 2449.82801981]]\n",
      "impedances (unitless)\n",
      " 0.3608640931885057 0.2947424511402884 0.4728944235090966 0.3530386137389365\n"
     ]
    }
   ],
   "source": [
    "inv_c_matrix = alg.inv(c_matrix)\n",
    "\n",
    "evals_c, u1 = alg.eigh(inv_c_matrix)\n",
    "u1 = np.array([u1[i]/np.sqrt(evals_c[i]) for i in range(len(evals_c))])\n",
    "evals, evecs = alg.eigh(u1.transpose() @ inv_l_matrix @ u1)\n",
    "print('Modes (cols are evecs)\\n', np.around(evecs, 3))\n",
    "\n",
    "# ======== IDK WHY BUT THIS DOESN'T WORK ========\n",
    "# Look for col with max in Q1_NODE -> use q_modes to reference in EC, EJ\n",
    "# q_modes = np.array([np.argmax(np.abs(evecs[i,:])) for i in range(4)])\n",
    "# print('Qubit modes were mapped', f'q1: mode {q_modes[0]},', f'q2: mode {q_modes[1]},', f'q3: mode {q_modes[2]},', f'q4: mode {q_modes[3]}')\n",
    "# old_evecs = evecs.copy()\n",
    "# for i in range(4):\n",
    "#     evecs[:,i] = old_evecs[:,q_modes[i]]\n",
    "# # evals = np.array([evals[q_modes[i]] for i in range(4)])\n",
    "# ECs = qe**2/2/h * evecs.transpose() @ inv_c_matrix @ evecs\n",
    "# EJs = flux_quant**2/h/4/np.pi**2 * evecs.transpose() @ inv_l_matrix @ evecs\n",
    "# ===============================================\n",
    "\n",
    "ECs = qe**2/2/h * inv_c_matrix\n",
    "EJs = flux_quant**2/h/4/np.pi**2 * inv_l_matrix\n",
    "Zs = np.sqrt(8*np.diag(ECs)/np.diag(EJs))\n",
    "gs = np.array([[4*ECs[i,j]/np.sqrt(Zs[i]*Zs[j]) for i in range(len(c_matrix))] for j in range(len(c_matrix))])\n",
    "\n",
    "print('all ECs\\n', 1e-9*ECs)\n",
    "print('all EJs\\n', 1e-9*ECs)\n",
    "print('all q-q gs\\n', 1e-6*gs)\n",
    "print('impedances (unitless)\\n', *Zs)\n",
    "\n",
    "ECs = 1e-9 * np.diag(ECs)\n",
    "EJs = 1e-9 * np.diag(EJs)\n",
    "gs = 1e-9 * np.abs(np.array([gs[0,1], gs[1,2], gs[1,3]])) # g12, g23, g24\n",
    "\n",
    "# AFTER HERE EVERYTHING IS INDEXED SO QUBIT NUMBER = INDEX AND EVERYTHING IS IN GHz\n"
   ]
  },
  {
   "cell_type": "code",
   "execution_count": 113,
   "metadata": {},
   "outputs": [
    {
     "name": "stdout",
     "output_type": "stream",
     "text": [
      "EC values (GHz):\n",
      "\t 0.24204641069391794 0.1399422267463943 0.27710759648940253 0.21622097200303578\n",
      "EJ values (GHz):\n",
      "\t 14.869668686887596 12.887046195302583 9.913112457925065 13.878527302514861\n",
      "qubit freqs/2pi (GHz):\n",
      "\t 5.111407419491645 3.652683164225361 4.391154341382721 4.672567698878251\n",
      "alphas/2pi (GHz):\n",
      "\t -0.2734410007153798 -0.15399422156579679 -0.33128181755694186 -0.2434725859171163\n",
      "q-q couplings g12, g23, g24 (MHz)\n",
      "\t 88.81274225683256 87.89171471023947 83.2826226886706\n",
      "q-res couplings (MHz) [want 50-100]:\n",
      "\t 52.62309306159774 47.51218037265018 50.02306614250445 45.84612764869781\n",
      "delta wq-wr (GHz) [want 1.5-2]:\n",
      "\t -1.9615925805083556 -1.892316835774639 -1.7868456586172785 -1.737432301121749\n",
      "lamb shifts (MHz):\n",
      "\t -1.4117049334739675 -1.192933044343577 -1.4004047491341503 -1.2097550039927614\n",
      "chi shifts (MHz) [want 0.15-0.5]:\n",
      "\t -0.17271239813435202 -0.08977364163909862 -0.21902771944891922 -0.1486907226467507\n",
      "\n",
      "\n",
      "drive purcell limits - analytical (ms) [want >1 ms]:\n",
      "\t 1.8041516840766467 1.6730273128998172 2.1204606778360566 3.2712947940344552\n",
      "drive purcell limits - simulated (ms) [want >1 ms]:\n",
      "\t inf 2.2337004424336135 inf inf\n",
      "res linewidth kappas - simulated (kHz):\n",
      "\t 55.605345911949684 19.38811188811189 80.47414354565586 42.00524246395806\n",
      "res purcell limits - simulated (s):\n",
      "\t 2158207.1378133446 3144728.3845419106 4038350.2586889383 2704991.561983675\n"
     ]
    },
    {
     "name": "stderr",
     "output_type": "stream",
     "text": [
      "RuntimeWarning: divide by zero encountered in true_divide\n",
      " /Users/conniemiao/opt/anaconda3/lib/python3.7/site-packages/ipykernel_launcher.py: 36"
     ]
    }
   ],
   "source": [
    "cutoffs = [4, 5, 4, 4]\n",
    "isCavity = [False, False, False, False]\n",
    "\n",
    "qram = QSwitch(\n",
    "    EJs=EJs,\n",
    "    ECs=ECs,\n",
    "    gs=gs,\n",
    "    cutoffs=cutoffs,\n",
    "    isCavity=isCavity,\n",
    ")\n",
    "\n",
    "qubit_freqs = np.array(qram.qubit_freqs)\n",
    "alphas = qram.alphas\n",
    "charge_mat_el = 1/np.sqrt(2) * (EJs/8/ECs)**1/4\n",
    "g_01s = qe * Crqs/(Crqs+Cjs) * res_freqs * np.sqrt(2*Zo/hbar) * charge_mat_el\n",
    "g_rqs = Crqs/(Crqs+Cjs) * res_freqs * np.sqrt(2*Zo/(h/qe**2))\n",
    "deltas = qubit_freqs-res_freqs\n",
    "lamb_shifts = g_rqs**2/deltas\n",
    "chi_shifts = g_rqs**2/deltas * alphas/(deltas+alphas)\n",
    "drive_purcell_rate_analytical = (2*np.pi*qubit_freqs*1e9*Cds)**2/(Cjs+Cds) * 50 /2/np.pi\n",
    "drive_purcell_rate_sim = qubit_freqs*1e9/Q_drives\n",
    "kappas = res_freqs/Q_res\n",
    "res_purcell_rate = kappas * (g_01s/deltas)**2\n",
    "\n",
    "print('EC values (GHz):\\n\\t', *ECs)\n",
    "print('EJ values (GHz):\\n\\t', *EJs)\n",
    "print('qubit freqs/2pi (GHz):\\n\\t', *qubit_freqs)\n",
    "print('alphas/2pi (GHz):\\n\\t', *alphas)\n",
    "print('q-q couplings g12, g23, g24 (MHz)\\n\\t', *(gs*1e3))\n",
    "print('q-res couplings (MHz) [want 50-100]:\\n\\t', *(1e3*g_rqs))\n",
    "print('delta wq-wr (GHz) [want 1.5-2]:\\n\\t', *deltas)\n",
    "print('lamb shifts (MHz):\\n\\t', *(1e3*lamb_shifts))\n",
    "print('chi shifts (MHz) [want 0.15-0.5]:\\n\\t', *(1e3*chi_shifts))\n",
    "print('\\n')\n",
    "print('drive purcell limits - analytical (ms) [want >1 ms]:\\n\\t', *(1e3/drive_purcell_rate_analytical))\n",
    "print('drive purcell limits - simulated (ms) [want >1 ms]:\\n\\t', *(1e3/drive_purcell_rate_sim))\n",
    "print('res linewidth kappas - simulated (kHz):\\n\\t', *(1e6*kappas))\n",
    "print('res purcell limits - simulated (s):\\n\\t', *(1/res_purcell_rate))"
   ]
  },
  {
   "cell_type": "code",
   "execution_count": null,
   "metadata": {},
   "outputs": [],
   "source": []
  }
 ],
 "metadata": {
  "interpreter": {
   "hash": "43f6a75978c76bba6ea20234e87ef3db866a2e4af5d4176364e7769ae473e17b"
  },
  "kernelspec": {
   "display_name": "Python 3.7.6 64-bit ('base': conda)",
   "name": "python3"
  },
  "language_info": {
   "codemirror_mode": {
    "name": "ipython",
    "version": 3
   },
   "file_extension": ".py",
   "mimetype": "text/x-python",
   "name": "python",
   "nbconvert_exporter": "python",
   "pygments_lexer": "ipython3",
   "version": "3.7.6"
  },
  "orig_nbformat": 4
 },
 "nbformat": 4,
 "nbformat_minor": 2
}
