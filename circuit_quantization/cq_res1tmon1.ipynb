{
 "cells": [
  {
   "cell_type": "markdown",
   "metadata": {},
   "source": [
    "# hamburgermon + lumped resonator"
   ]
  },
  {
   "cell_type": "code",
   "execution_count": 6,
   "metadata": {},
   "outputs": [],
   "source": [
    "import numpy as np\n",
    "import numpy.linalg as alg"
   ]
  },
  {
   "cell_type": "code",
   "execution_count": 7,
   "metadata": {},
   "outputs": [],
   "source": [
    "hbar = 1.054e-34\n",
    "h = hbar*2*np.pi\n",
    "qe = 1.609e-19\n",
    "flux_quant = h/2/qe\n",
    "\n",
    "# Unit conversions\n",
    "MHz = 10.0**(-3)\n",
    "GHz = 1.0\n",
    "kHz = 10.0**(-6)\n",
    "us = 10.0**3\n",
    "ns = 1.0"
   ]
  },
  {
   "cell_type": "code",
   "execution_count": 8,
   "metadata": {},
   "outputs": [
    {
     "name": "stdout",
     "output_type": "stream",
     "text": [
      "Check symmetric: True True\n"
     ]
    }
   ],
   "source": [
    "# F\n",
    "Crq = 13.4e-15 # res <-> pad1\n",
    "Cr  = 146.5e-15 # res <-> gnd\n",
    "Cj  = 19.6e-15 # pad1 <-> pad 2\n",
    "C1  = 65.9e-15 # pad1 <-> gnd\n",
    "C2  = 77.2e-15 # pad2 <-> gnd\n",
    "\n",
    "res_freq = 6.7e9 # Hz\n",
    "\n",
    "# H\n",
    "Lr = 1/(2*np.pi * res_freq)**2/Cr\n",
    "# print(Lr * 1e9, 'nH')\n",
    "Lj = 5e-9\n",
    "\n",
    "c_matrix = np.array([\n",
    "    [Crq + Cr, -Crq, 0], \n",
    "    [-Crq, C1 + Cj + Crq, -Cj],\n",
    "    [0, -Cj, C2 + Cj]\n",
    "    ])\n",
    "\n",
    "inv_l_matrix = np.array([\n",
    "    [1/Lr, 0, 0],\n",
    "    [0, 1/Lj, -1/Lj],\n",
    "    [0, -1/Lj, 1/Lj]\n",
    "])\n",
    "\n",
    "print('Check symmetric:', np.allclose(c_matrix, c_matrix.T), np.allclose(l_matrix, l_matrix.T))"
   ]
  },
  {
   "cell_type": "markdown",
   "metadata": {},
   "source": [
    "### simultaneous diagonalization"
   ]
  },
  {
   "cell_type": "code",
   "execution_count": 9,
   "metadata": {},
   "outputs": [
    {
     "name": "stdout",
     "output_type": "stream",
     "text": [
      "Modes (cols are evecs)\n",
      " [[-0.98976579  0.08599201  0.11388172]\n",
      " [ 0.0933194  -0.21371242  0.97242917]\n",
      " [-0.10795908 -0.9731045  -0.20350052]]\n",
      "EC values (GHz)\n",
      " [[ 0.12213162  0.01177473 -0.01159349]\n",
      " [ 0.01177473  0.22604219 -0.03791878]\n",
      " [-0.01159349 -0.03791878  0.19435761]]\n",
      "EJ values (GHz)\n",
      " [[42.51285498  1.37248493  2.92779156]\n",
      " [ 1.37248493 18.99417346 29.34303374]\n",
      " [ 2.92779156 29.34303374 45.34578217]]\n",
      "impedances (unitless)\n",
      " [0.1515999  0.30855284 0.18517285]\n",
      "couplings (GHz)\n",
      " [[ 3.22247233  0.21776931 -0.27678086]\n",
      " [ 0.21776931  2.93035307 -0.63454285]\n",
      " [-0.27678086 -0.63454285  4.19840392]]\n"
     ]
    }
   ],
   "source": [
    "inv_c_matrix = alg.inv(c_matrix)\n",
    "evals_c, u1 = alg.eig(inv_c_matrix)\n",
    "# print(evals_c)\n",
    "# print(u1)\n",
    "u1 = np.array([u1[i]/np.sqrt(evals_c[i]) for i in range(len(evals_c))])\n",
    "evals, evecs = alg.eig(u1.transpose() @ inv_l_matrix @ u1)\n",
    "\n",
    "ECs = 1e-9 * qe**2/2/h * evecs.transpose() @ inv_c_matrix @ evecs\n",
    "EJs = 1e-9 * flux_quant**2/h/4/np.pi**2 * evecs.transpose() @ inv_l_matrix @ evecs\n",
    "Zs = np.array([np.sqrt(8*ECs[i,i]/EJs[i,i]) for i in range(len(evals_c))])\n",
    "gs = np.array([[4*ECs[i,j]/np.sqrt(Zs[i]*Zs[j]) for i in range(len(evals_c))] for j in range(len(evals_c))])\n",
    "\n",
    "print('Modes (cols are evecs)\\n', evecs)\n",
    "print('EC values (GHz)\\n', ECs)\n",
    "print('EJ values (GHz)\\n', EJs)\n",
    "print('impedances (unitless)\\n', Zs)\n",
    "print('couplings (GHz)\\n', gs)\n",
    "\n"
   ]
  },
  {
   "cell_type": "code",
   "execution_count": 10,
   "metadata": {},
   "outputs": [
    {
     "name": "stdout",
     "output_type": "stream",
     "text": [
      "res mode 0\n",
      "qubit mode 2\n",
      "EC 0.19435760740377528\n",
      "EJ 45.34578217475182\n",
      "coupling to res -0.2767808626494465\n",
      "transmon freq 8.396807835999358\n"
     ]
    }
   ],
   "source": [
    "res_mode = np.argmax(np.abs(evecs[0,:])) # look for column with max in row 0\n",
    "print('res mode', res_mode)\n",
    "assert np.abs(evecs[0,res_mode]) > 0.90, 'resonator mode is not the resonator mode??'\n",
    "qubit_mode = -1\n",
    "for i in range(len(evals_c)):\n",
    "    if i == res_mode: continue\n",
    "    sign1 = np.sign(evecs[i, i])\n",
    "    j = (i+1)%len(evals_c)\n",
    "    if j == res_mode: j = (j+1)%len(evals_c)\n",
    "    sign2 = np.sign([evecs[j, i]])\n",
    "    if sign1 * sign2 == -1: qubit_mode = i\n",
    "if qubit_mode == -1: assert False, 'check it yourself'\n",
    "print('qubit mode', qubit_mode)\n",
    "print('EC', ECs[qubit_mode, qubit_mode])\n",
    "print('EJ', EJs[qubit_mode, qubit_mode])\n",
    "print('coupling to res', gs[res_mode, qubit_mode])\n",
    "print('transmon freq', np.sqrt(8*ECs[qubit_mode,qubit_mode]*EJs[qubit_mode,qubit_mode]))"
   ]
  },
  {
   "cell_type": "code",
   "execution_count": null,
   "metadata": {},
   "outputs": [],
   "source": []
  }
 ],
 "metadata": {
  "interpreter": {
   "hash": "43f6a75978c76bba6ea20234e87ef3db866a2e4af5d4176364e7769ae473e17b"
  },
  "kernelspec": {
   "display_name": "Python 3.7.6 64-bit ('base': conda)",
   "name": "python3"
  },
  "language_info": {
   "codemirror_mode": {
    "name": "ipython",
    "version": 3
   },
   "file_extension": ".py",
   "mimetype": "text/x-python",
   "name": "python",
   "nbconvert_exporter": "python",
   "pygments_lexer": "ipython3",
   "version": "3.7.6"
  },
  "orig_nbformat": 4
 },
 "nbformat": 4,
 "nbformat_minor": 2
}
