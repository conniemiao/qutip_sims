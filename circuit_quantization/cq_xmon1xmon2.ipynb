{
 "cells": [
  {
   "cell_type": "markdown",
   "metadata": {},
   "source": [
    "# xmon1 <-> xmon2"
   ]
  },
  {
   "cell_type": "code",
   "execution_count": 2,
   "metadata": {},
   "outputs": [],
   "source": [
    "import numpy as np\n",
    "import numpy.linalg as alg\n",
    "import scqubits as scq"
   ]
  },
  {
   "cell_type": "code",
   "execution_count": 3,
   "metadata": {},
   "outputs": [],
   "source": [
    "hbar = 1.054e-34\n",
    "h = hbar*2*np.pi\n",
    "qe = 1.609e-19\n",
    "flux_quant = h/2/qe\n",
    "\n",
    "# Unit conversions\n",
    "MHz = 10.0**(-3)\n",
    "GHz = 1.0\n",
    "kHz = 10.0**(-6)\n",
    "us = 10.0**3\n",
    "ns = 1.0"
   ]
  },
  {
   "cell_type": "code",
   "execution_count": 4,
   "metadata": {},
   "outputs": [
    {
     "name": "stdout",
     "output_type": "stream",
     "text": [
      "Check symmetric: True True\n"
     ]
    }
   ],
   "source": [
    "# F\n",
    "Cj1     = 100.282e-15 # pad1 <-> gnd\n",
    "Cj2     = 82.822e-15 # pad2 <-> gnd\n",
    "Cq1q2   = 2.81e-15 # pad1 <-> pad2\n",
    "\n",
    "C_q1_res1 = 10.2e-15 # F # pad1 <-> res1\n",
    "C_q2_res2 = 9.4e-15 # F # pad2 <-> res2\n",
    "\n",
    "# GET ZO FROM CPW MATHEMATICA\n",
    "Zo = 52.7066 # Ohm\n",
    "res1_freq = 6.1 # GHz\n",
    "res2_freq = 7.4 # GHz\n",
    "\n",
    "# H\n",
    "# Lr1 = 1/(2*np.pi * res1_freq)**2/Cr1\n",
    "# Lr2 = 1/(2*np.pi * res2_freq)**2/Cr2\n",
    "# print(Lr * 1e9, 'nH')\n",
    "Lj1 = 14e-9\n",
    "Lj2 = 9.0e-9\n",
    "\n",
    "c_matrix = np.array([\n",
    "    [Cj1+Cq1q2, -Cq1q2],\n",
    "    [-Cq1q2,    Cj2+Cq1q2],\n",
    "])\n",
    "\n",
    "inv_l_matrix = np.array([ # DON'T FORGET INDUCTANCES SHOULD BE IN DENOMINATOR\n",
    "    [1/Lj1,   0],\n",
    "    [0,     1/Lj2],\n",
    "])\n",
    "\n",
    "print('Check symmetric:', np.allclose(c_matrix, c_matrix.T), np.allclose(inv_l_matrix, inv_l_matrix.T))"
   ]
  },
  {
   "cell_type": "markdown",
   "metadata": {},
   "source": [
    "### simultaneous diagonalization"
   ]
  },
  {
   "cell_type": "code",
   "execution_count": 5,
   "metadata": {},
   "outputs": [
    {
     "name": "stdout",
     "output_type": "stream",
     "text": [
      "[[0.20211559 0.00734633]\n",
      " [0.00734633 0.25309547]]\n",
      "EC values (GHz)\n",
      " 0.20211559303880722 0.2530954671075789\n",
      "EJ values (GHz)\n",
      " 11.570726476782394 17.99890785277261\n",
      "impedances (unitless)\n",
      " 0.3738217704072386 0.3354008047216689\n",
      "q-q couplings g12, g23, g24 (MHz)\n",
      " 82.98815570123774\n"
     ]
    }
   ],
   "source": [
    "inv_c_matrix = alg.inv(c_matrix)\n",
    "\n",
    "# Look for col with max in Q1_NODE -> use q_modes to reference in EC, EJ\n",
    "# IDK WHY BUT THIS DOESN'T WORK\n",
    "# evals_c, u1 = alg.eigh(inv_c_matrix)\n",
    "# u1 = np.array([u1[i]/np.sqrt(evals_c[i]) for i in range(len(evals_c))])\n",
    "# evals, evecs = alg.eigh(u1.transpose() @ inv_l_matrix @ u1)\n",
    "# print('Modes (cols are evecs)\\n', np.around(evecs, 3))\n",
    "# q_modes = np.array([np.argmax(np.abs(evecs[i,:])) for i in range(4)])\n",
    "# print('Qubit modes were mapped', f'q1: mode {q_modes[0]},', f'q2: mode {q_modes[1]},', f'q3: mode {q_modes[2]},', f'q4: mode {q_modes[3]}')\n",
    "# old_evecs = evecs.copy()\n",
    "# for i in range(4):\n",
    "#     evecs[:,i] = old_evecs[:,q_modes[i]]\n",
    "# # evals = np.array([evals[q_modes[i]] for i in range(4)])\n",
    "# ECs = qe**2/2/h * evecs.transpose() @ inv_c_matrix @ evecs\n",
    "# EJs = flux_quant**2/h/4/np.pi**2 * evecs.transpose() @ inv_l_matrix @ evecs\n",
    "\n",
    "ECs = qe**2/2/h * inv_c_matrix\n",
    "EJs = flux_quant**2/h/4/np.pi**2 * inv_l_matrix\n",
    "\n",
    "print(ECs*1e-9)\n",
    "Zs = np.sqrt(8*np.diag(ECs)/np.diag(EJs))\n",
    "gs = np.array([[4*ECs[i,j]/np.sqrt(Zs[i]*Zs[j]) for i in range(len(c_matrix))] for j in range(len(c_matrix))])\n",
    "\n",
    "ECs = 1e-9 * np.diag(ECs)\n",
    "EJs = 1e-9 * np.diag(EJs)\n",
    "g_q1_q2 = 1e-9 * gs[0,1]\n",
    "\n",
    "# AFTER HERE EVERYTHING IS INDEXED SO QUBIT NUMBER = INDEX AND EVERYTHING IS IN GHz\n",
    "\n",
    "print('EC values (GHz)\\n', *ECs)\n",
    "print('EJ values (GHz)\\n', *EJs)\n",
    "print('impedances (unitless)\\n', *Zs)\n",
    "print('q-q couplings g12, g23, g24 (MHz)\\n', g_q1_q2*1e3)\n"
   ]
  },
  {
   "cell_type": "code",
   "execution_count": 6,
   "metadata": {},
   "outputs": [
    {
     "name": "stdout",
     "output_type": "stream",
     "text": [
      "qubit freq 1: 4.177461420308671 alpha/2pi: -0.22904819869831172\n",
      "qubit freq 2: 5.751820449688871 alpha/2pi: -0.28308347422669655\n"
     ]
    }
   ],
   "source": [
    "transmon1_consts = dict(\n",
    "    EC=ECs[0],\n",
    "    EJ=11.9203,\n",
    ")\n",
    "\n",
    "transmon2_consts = dict(\n",
    "    EC=ECs[1],\n",
    "    EJ=17.8805,\n",
    ")\n",
    "\n",
    "transmon1 = scq.Transmon(\n",
    "    **transmon1_consts,\n",
    "    ng=0,\n",
    "    ncut = 110,\n",
    "    truncated_dim = 5\n",
    ")\n",
    "\n",
    "transmon2 = scq.Transmon(\n",
    "    **transmon2_consts,\n",
    "    ng=0,\n",
    "    ncut = 110,\n",
    "    truncated_dim = 5\n",
    ")\n",
    "\n",
    "evals_count = 5\n",
    "cutoff = evals_count\n",
    "\n",
    "evals1, evecs1 = transmon1.eigensys(evals_count=evals_count)\n",
    "evals1 = evals1 - evals1[0] \n",
    "wq1 = evals1[1]\n",
    "\n",
    "evals2, evecs2 = transmon2.eigensys(evals_count=evals_count)\n",
    "evals2 = evals2 - evals2[0]\n",
    "wq2 = evals2[1]\n",
    "\n",
    "alpha1 = evals1[2]-2*evals1[1]\n",
    "alpha2 = evals2[2]-2*evals2[1]\n",
    "\n",
    "print('qubit freq 1:', wq1, 'alpha/2pi:', alpha1)\n",
    "print('qubit freq 2:', wq2, 'alpha/2pi:', alpha2)"
   ]
  },
  {
   "cell_type": "code",
   "execution_count": 7,
   "metadata": {},
   "outputs": [
    {
     "name": "stdout",
     "output_type": "stream",
     "text": [
      "g q1<->res1: 38.33148026520377 MHz\tdelta wr-wq: -1922.538579691329 MHz\tstark: -0.08135872465515642 MHz\n",
      "g q2<->res2: 53.221966298829926 MHz\tdelta wr-wq: -1648.1795503111289 MHz\tstark: -0.22057725676679432 MHz\n"
     ]
    }
   ],
   "source": [
    "\n",
    "g_q1_res1 =  C_q1_res1/(C_q1_res1+Cj1) * res1_freq * np.sqrt(2*Zo/(h/qe**2))\n",
    "g_q2_res2 =  C_q2_res2/(C_q2_res2+Cj2) * res2_freq * np.sqrt(2*Zo/(h/qe**2))\n",
    "\n",
    "# g_q1_res1 = 50e6\n",
    "delta1 = wq1-res1_freq\n",
    "delta2 = wq2-res2_freq\n",
    "stark_res1 = g_q1_res1**2/(delta1) * alpha1/(delta1+alpha1)\n",
    "stark_res2 = g_q2_res2**2/(delta2) * alpha2/(delta1+alpha2)\n",
    "print('g q1<->res1:', 1e3*g_q1_res1, 'MHz\\tdelta wr-wq:', 1e3*delta1, 'MHz\\tstark:', 1e3*stark_res1, 'MHz')\n",
    "print('g q2<->res2:', 1e3*g_q2_res2, 'MHz\\tdelta wr-wq:', 1e3*delta2, 'MHz\\tstark:', 1e3*stark_res2, 'MHz')"
   ]
  },
  {
   "cell_type": "code",
   "execution_count": null,
   "metadata": {},
   "outputs": [],
   "source": []
  }
 ],
 "metadata": {
  "interpreter": {
   "hash": "43f6a75978c76bba6ea20234e87ef3db866a2e4af5d4176364e7769ae473e17b"
  },
  "kernelspec": {
   "display_name": "Python 3.7.6 64-bit ('base': conda)",
   "name": "python3"
  },
  "language_info": {
   "codemirror_mode": {
    "name": "ipython",
    "version": 3
   },
   "file_extension": ".py",
   "mimetype": "text/x-python",
   "name": "python",
   "nbconvert_exporter": "python",
   "pygments_lexer": "ipython3",
   "version": "3.7.6"
  },
  "orig_nbformat": 4
 },
 "nbformat": 4,
 "nbformat_minor": 2
}
