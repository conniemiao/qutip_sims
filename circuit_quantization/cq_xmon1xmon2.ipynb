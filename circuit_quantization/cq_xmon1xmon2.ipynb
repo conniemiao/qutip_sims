{
 "cells": [
  {
   "cell_type": "markdown",
   "metadata": {},
   "source": [
    "# xmon1 <-> xmon2"
   ]
  },
  {
   "cell_type": "code",
   "execution_count": 71,
   "metadata": {},
   "outputs": [],
   "source": [
    "import numpy as np\n",
    "import numpy.linalg as alg\n",
    "import scqubits as scq"
   ]
  },
  {
   "cell_type": "code",
   "execution_count": 72,
   "metadata": {},
   "outputs": [],
   "source": [
    "hbar = 1.054e-34\n",
    "h = hbar*2*np.pi\n",
    "qe = 1.609e-19\n",
    "flux_quant = h/2/qe\n",
    "\n",
    "# Unit conversions\n",
    "MHz = 10.0**(-3)\n",
    "GHz = 1.0\n",
    "kHz = 10.0**(-6)\n",
    "us = 10.0**3\n",
    "ns = 1.0"
   ]
  },
  {
   "cell_type": "code",
   "execution_count": 73,
   "metadata": {},
   "outputs": [
    {
     "name": "stdout",
     "output_type": "stream",
     "text": [
      "Check symmetric: True True\n"
     ]
    }
   ],
   "source": [
    "# Q3D VALUES\n",
    "# All in SI units\n",
    "Cjs = np.array([100.282, 82.822])*1e-15 # fF -> F\n",
    "Cab = np.array([2.64])*1e-15 # [C12] fF -> F\n",
    "Crqs = np.array([10.3, 7.744])*1e-15 # fF -> F\n",
    "Cds = np.array([64, 56])*1e-18 # aF -> F\n",
    "\n",
    "# HFSS VALUES\n",
    "res_freqs = np.array([6.047, 7.252]) # GHz\n",
    "# res_freqs = np.array([5.4, 6.4]) # GHz\n",
    "# res_freqs = np.array([6.5, 7.7]) # GHz\n",
    "Q_res = np.array([np.inf]*len(Cjs))\n",
    "Q_drives = np.array([np.inf]*len(Cjs))\n",
    "\n",
    "# GET ZO FROM CPW MATHEMATICA\n",
    "Zo = 52.7066 # Ohm\n",
    "\n",
    "# Ej_targets = np.array([13.51, 17.88])*1e9 # GHz -> Hz\n",
    "Ej_targets = np.array([9.54, 12.52])*1e9 # GHz -> Hz\n",
    "# Ej_targets = np.array([17.48, 21.85])*1e9 # GHz -> Hz\n",
    "Ljs = flux_quant**2/h/4/np.pi**2/Ej_targets # H\n",
    "\n",
    "c_matrix = np.array([\n",
    "    [Cjs[0]+Cab[0], -Cab[0]],\n",
    "    [-Cab[0],    Cjs[1]+Cab[0]],\n",
    "])\n",
    "\n",
    "inv_l_matrix = np.diag(1/Ljs)\n",
    "\n",
    "print('Check symmetric:', np.allclose(c_matrix, c_matrix.T), np.allclose(inv_l_matrix, inv_l_matrix.T))"
   ]
  },
  {
   "cell_type": "markdown",
   "metadata": {},
   "source": [
    "# BEGIN ANALYSIS"
   ]
  },
  {
   "cell_type": "code",
   "execution_count": 74,
   "metadata": {},
   "outputs": [
    {
     "name": "stdout",
     "output_type": "stream",
     "text": [
      "Modes (cols are evecs)\n",
      " [[-0.989  0.146]\n",
      " [ 0.146  0.989]]\n",
      "all ECs\n",
      " [[0.19006303 0.00587122]\n",
      " [0.00587122 0.22889316]]\n",
      "all EJs\n",
      " [[0.19006303 0.00587122]\n",
      " [0.00587122 0.22889316]]\n",
      "all q-q gs\n",
      " [[1904.31159593   60.10340605]\n",
      " [  60.10340605 2394.05195711]]\n",
      "impedances (unitless)\n",
      " 0.39922674967106897 0.38243641487447083\n"
     ]
    }
   ],
   "source": [
    "inv_c_matrix = alg.inv(c_matrix)\n",
    "\n",
    "evals_c, u1 = alg.eigh(inv_c_matrix)\n",
    "u1 = np.array([u1[i]/np.sqrt(evals_c[i]) for i in range(len(evals_c))])\n",
    "evals, evecs = alg.eigh(u1.transpose() @ inv_l_matrix @ u1)\n",
    "print('Modes (cols are evecs)\\n', np.around(evecs, 3))\n",
    "\n",
    "# ======== IDK WHY BUT THIS DOESN'T WORK ========\n",
    "# Look for col with max in Q1_NODE -> use q_modes to reference in EC, EJ\n",
    "# q_modes = np.array([np.argmax(np.abs(evecs[i,:])) for i in range(4)])\n",
    "# print('Qubit modes were mapped', f'q1: mode {q_modes[0]},', f'q2: mode {q_modes[1]},', f'q3: mode {q_modes[2]},', f'q4: mode {q_modes[3]}')\n",
    "# old_evecs = evecs.copy()\n",
    "# for i in range(4):\n",
    "#     evecs[:,i] = old_evecs[:,q_modes[i]]\n",
    "# # evals = np.array([evals[q_modes[i]] for i in range(4)])\n",
    "# ECs = qe**2/2/h * evecs.transpose() @ inv_c_matrix @ evecs\n",
    "# EJs = flux_quant**2/h/4/np.pi**2 * evecs.transpose() @ inv_l_matrix @ evecs\n",
    "# ===============================================\n",
    "\n",
    "ECs = qe**2/2/h * inv_c_matrix\n",
    "EJs = flux_quant**2/h/4/np.pi**2 * inv_l_matrix\n",
    "Zs = np.sqrt(8*np.diag(ECs)/np.diag(EJs))\n",
    "gs = np.array([[4*ECs[i,j]/np.sqrt(Zs[i]*Zs[j]) for i in range(len(c_matrix))] for j in range(len(c_matrix))])\n",
    "\n",
    "print('all ECs\\n', 1e-9*ECs)\n",
    "print('all EJs\\n', 1e-9*ECs)\n",
    "print('all q-q gs\\n', 1e-6*gs)\n",
    "print('impedances (unitless)\\n', *Zs)\n",
    "\n",
    "ECs = 1e-9 * np.diag(ECs)\n",
    "EJs = 1e-9 * np.diag(EJs)\n",
    "\n",
    "gs = 1e-9 * np.abs(np.array([gs[0,1]])) # g12, g23, g24\n",
    "\n",
    "# AFTER HERE EVERYTHING IS INDEXED SO QUBIT NUMBER = INDEX AND EVERYTHING IS IN GHz"
   ]
  },
  {
   "cell_type": "code",
   "execution_count": 75,
   "metadata": {},
   "outputs": [
    {
     "name": "stdout",
     "output_type": "stream",
     "text": [
      "EC values (GHz):\n",
      "\t 0.19006303220111473 0.22889316187549003\n",
      "EJ values (GHz):\n",
      "\t 9.540000000000003 12.52\n",
      "qubit freqs/2pi (GHz):\n",
      "\t 3.6075460265547523 4.546593968554438\n",
      "alphas/2pi (GHz):\n",
      "\t -0.2183470938636214 -0.26098169191327614\n",
      "q-q couplings g12, g23, g24 (MHz)\n",
      "\t 60.10340605249436\n",
      "q-res couplings (MHz) [want 50-100]:\n",
      "\t 80.93377197396795 88.05689523601055\n",
      "delta wq-wr (GHz) [want 1.5-2]:\n",
      "\t -1.792453973445248 -1.8534060314455623\n",
      "lamb shifts (MHz):\n",
      "\t -3.654361865339313 -4.183657907144069\n",
      "chi shifts (MHz) [want 0.15-0.5]:\n",
      "\t -0.39681662507309434 -0.5163944658448592\n",
      "\n",
      "\n",
      "drive purcell limits - analytical (ms) [want >1 ms]:\n",
      "\t 5.99192657948907 4.069499435236433\n",
      "drive purcell limits - simulated (ms) [want >1 ms]:\n",
      "\t inf inf\n",
      "res linewidth kappas - simulated (kHz):\n",
      "\t 0.0 0.0\n",
      "res purcell limits - simulated (s):\n",
      "\t inf inf\n"
     ]
    },
    {
     "name": "stderr",
     "output_type": "stream",
     "text": [
      "RuntimeWarning: divide by zero encountered in true_divide\n",
      " /Users/conniemiao/opt/anaconda3/lib/python3.7/site-packages/ipykernel_launcher.py: 38RuntimeWarning: divide by zero encountered in true_divide\n",
      " /Users/conniemiao/opt/anaconda3/lib/python3.7/site-packages/ipykernel_launcher.py: 40"
     ]
    }
   ],
   "source": [
    "cutoffs = [5,5]\n",
    "transmon1 = scq.Transmon(EC=ECs[0], EJ=EJs[0], ng=0, ncut=110, truncated_dim=cutoffs[0])\n",
    "transmon2 = scq.Transmon(EC=ECs[1], EJ=EJs[1], ng=0, ncut=110, truncated_dim=cutoffs[1])\n",
    "\n",
    "evals1, evecs1 = transmon1.eigensys(evals_count=cutoffs[0])\n",
    "evals2, evecs2 = transmon2.eigensys(evals_count=cutoffs[1])\n",
    "\n",
    "evals1 -= evals1[0]\n",
    "evals2 -= evals2[0]\n",
    "\n",
    "alpha1 = evals1[2]-2*evals1[1]\n",
    "alpha2 = evals2[2]-2*evals2[1]\n",
    "\n",
    "qubit_freqs = np.array([evals1[1], evals2[1]])\n",
    "alphas = np.array([alpha1, alpha2])\n",
    "\n",
    "charge_mat_el = 1/np.sqrt(2) * (EJs/8/ECs)**1/4\n",
    "g_rqs = Crqs/(Crqs+Cjs) * res_freqs * np.sqrt(2*Zo/(hbar/qe**2))\n",
    "deltas = qubit_freqs-res_freqs\n",
    "lamb_shifts = g_rqs**2/deltas\n",
    "chi_shifts = g_rqs**2/deltas * alphas/(deltas+alphas)\n",
    "drive_purcell_rate_analytical = (2*np.pi*qubit_freqs*1e9*Cds)**2/(Cjs+Cds) * 50 /2/np.pi\n",
    "drive_purcell_rate_sim = qubit_freqs*1e9/Q_drives\n",
    "kappas = res_freqs/Q_res\n",
    "res_purcell_rate = kappas * (g_01s/deltas)**2\n",
    "\n",
    "print('EC values (GHz):\\n\\t', *ECs)\n",
    "print('EJ values (GHz):\\n\\t', *EJs)\n",
    "print('qubit freqs/2pi (GHz):\\n\\t', *qubit_freqs)\n",
    "print('alphas/2pi (GHz):\\n\\t', *alphas)\n",
    "print('q-q couplings g12, g23, g24 (MHz)\\n\\t', *(gs*1e3))\n",
    "print('q-res couplings (MHz) [want 50-100]:\\n\\t', *(1e3*g_rqs))\n",
    "print('delta wq-wr (GHz) [want 1.5-2]:\\n\\t', *deltas)\n",
    "print('lamb shifts (MHz):\\n\\t', *(1e3*lamb_shifts))\n",
    "print('chi shifts (MHz) [want 0.15-0.5]:\\n\\t', *(1e3*chi_shifts))\n",
    "print('\\n')\n",
    "print('drive purcell limits - analytical (ms) [want >1 ms]:\\n\\t', *(1e3/drive_purcell_rate_analytical))\n",
    "print('drive purcell limits - simulated (ms) [want >1 ms]:\\n\\t', *(1e3/drive_purcell_rate_sim))\n",
    "print('res linewidth kappas - simulated (kHz):\\n\\t', *(1e6*kappas))\n",
    "print('res purcell limits - simulated (s):\\n\\t', *(1/res_purcell_rate))"
   ]
  },
  {
   "cell_type": "code",
   "execution_count": null,
   "metadata": {},
   "outputs": [],
   "source": []
  },
  {
   "cell_type": "code",
   "execution_count": null,
   "metadata": {},
   "outputs": [],
   "source": []
  }
 ],
 "metadata": {
  "interpreter": {
   "hash": "43f6a75978c76bba6ea20234e87ef3db866a2e4af5d4176364e7769ae473e17b"
  },
  "kernelspec": {
   "display_name": "Python 3.7.6 64-bit ('base': conda)",
   "name": "python3"
  },
  "language_info": {
   "codemirror_mode": {
    "name": "ipython",
    "version": 3
   },
   "file_extension": ".py",
   "mimetype": "text/x-python",
   "name": "python",
   "nbconvert_exporter": "python",
   "pygments_lexer": "ipython3",
   "version": "3.7.6"
  },
  "orig_nbformat": 4
 },
 "nbformat": 4,
 "nbformat_minor": 2
}
