{
 "cells": [
  {
   "cell_type": "markdown",
   "metadata": {},
   "source": [
    "# lumped resonator + hamburgermon + hamburgermon + lumped resonator"
   ]
  },
  {
   "cell_type": "code",
   "execution_count": 7,
   "metadata": {},
   "outputs": [],
   "source": [
    "import numpy as np\n",
    "import numpy.linalg as alg"
   ]
  },
  {
   "cell_type": "code",
   "execution_count": 8,
   "metadata": {},
   "outputs": [],
   "source": [
    "hbar = 1.054e-34\n",
    "h = hbar*2*np.pi\n",
    "qe = 1.609e-19\n",
    "flux_quant = h/2/qe\n",
    "\n",
    "# Unit conversions\n",
    "MHz = 10.0**(-3)\n",
    "GHz = 1.0\n",
    "kHz = 10.0**(-6)\n",
    "us = 10.0**3\n",
    "ns = 1.0"
   ]
  },
  {
   "cell_type": "code",
   "execution_count": 9,
   "metadata": {},
   "outputs": [
    {
     "name": "stdout",
     "output_type": "stream",
     "text": [
      "Check symmetric: True True\n"
     ]
    }
   ],
   "source": [
    "# F\n",
    "Crq1 = 13.8e-15 # res1 <-> pad11\n",
    "Cr1  = 151.7e-15 # res1 <-> gnd\n",
    "Cj1  = 20.3e-15 # pad11 <-> pad21\n",
    "C11  = 64.8e-15 # pad11 <-> gnd\n",
    "C21  = 65.6e-15 # pad21 <-> gnd\n",
    "\n",
    "Crq2 = 9.40e-15 # res2 <-> pad12\n",
    "Cr2  = 138.5e-15 # res2 <-> gnd\n",
    "Cj2  = 22.7e-15 # pad12 <-> pad22\n",
    "C12  = 41.8e-15 # pad12 <-> gnd\n",
    "C22  = 41.1e-15 # pad22 <-> gnd\n",
    "\n",
    "Cg = 9.25e-15 # pad21 <-> pad22\n",
    "\n",
    "res1_freq = 6.7e9 # Hz\n",
    "res2_freq = 7.7e9 # Hz\n",
    "\n",
    "# H\n",
    "Lr1 = 1/(2*np.pi * res1_freq)**2/Cr1\n",
    "Lr2 = 1/(2*np.pi * res2_freq)**2/Cr2\n",
    "# print(Lr * 1e9, 'nH')\n",
    "Lj1 = 12e-9\n",
    "Lj2 = 12e-9\n",
    "\n",
    "c_matrix = np.array([\n",
    "    [Crq1+Cr1,  -Crq1,          0,          0,          0,              0], \n",
    "    [-Crq1,     Crq1+Cj1+C11,   -Cj1,       0,          0,              0],\n",
    "    [0,         -Cj1,           Cj1+Cg+C21, 0,          0,              -Cg],\n",
    "    [0,         0,              0,          Crq2+Cr2,   -Crq2,          0],\n",
    "    [0,         0,              0,          -Crq2,      Crq2+Cj2+C12,   -Cj2],\n",
    "    [0,         0,              -Cg,          0,          -Cj2,         Cj2+Cg+C22],\n",
    "    ])\n",
    "\n",
    "inv_l_matrix = np.array([\n",
    "    [1/Lr1, 0,      0,      0,      0,      0], \n",
    "    [0,     1/Lj1,  -1/Lj1, 0,      0,      0],\n",
    "    [0,     -1/Lj1, 1/Lj1,  0,      0,      0],\n",
    "    [0,     0,      0,      1/Lr2,  0,      0],\n",
    "    [0,     0,      0,      0,      1/Lj2,  -1/Lj2],\n",
    "    [0,     0,      0,      0,      -1/Lj2, 1/Lj2],\n",
    "])\n",
    "\n",
    "print('Check symmetric:', np.allclose(c_matrix, c_matrix.T), np.allclose(l_matrix, l_matrix.T))"
   ]
  },
  {
   "cell_type": "markdown",
   "metadata": {},
   "source": [
    "### simultaneous diagonalization"
   ]
  },
  {
   "cell_type": "code",
   "execution_count": 10,
   "metadata": {},
   "outputs": [
    {
     "name": "stdout",
     "output_type": "stream",
     "text": [
      "Modes (cols are evecs)\n",
      " [[-0.095  0.003 -0.005 -0.197  0.001 -0.976]\n",
      " [-0.008 -0.053  0.132  0.007 -0.99  -0.002]\n",
      " [ 0.085 -0.099 -0.203 -0.952 -0.03   0.185]\n",
      " [-0.204  0.125  0.936 -0.222  0.118  0.06 ]\n",
      " [ 0.938 -0.219  0.243  0.034  0.037 -0.1  ]\n",
      " [-0.248 -0.961  0.08   0.061  0.064  0.009]]\n",
      "EC values (GHz)\n",
      " [[ 0.23703407 -0.07161194  0.04823364 -0.00402293  0.00758908 -0.01133378]\n",
      " [-0.07161194  0.34046161 -0.04732414  0.02726825 -0.00145545  0.00428078]\n",
      " [ 0.04823364 -0.04732414  0.15753967  0.00850969  0.00354482 -0.00844023]\n",
      " [-0.00402293  0.02726825  0.00850969  0.20721916  0.04634854 -0.01371953]\n",
      " [ 0.00758908 -0.00145545  0.00354482  0.04634854  0.21103916  0.00772458]\n",
      " [-0.01133378  0.00428078 -0.00844023 -0.01371953  0.00772458  0.12283632]]\n",
      "EJ values (GHz)\n",
      " [[ 21.70142734  10.49403525  -7.79158507   1.5617997   -0.50453141\n",
      "    1.89175879]\n",
      " [ 10.49403525   8.29235608   7.97594122  -1.14956601  -0.10280575\n",
      "   -0.94023027]\n",
      " [ -7.79158507   7.97594122  47.87699445  -6.60067102   1.40648568\n",
      "    2.09721118]\n",
      " [  1.5617997   -1.14956601  -6.60067102  16.72509469 -13.80825601\n",
      "    5.2846155 ]\n",
      " [ -0.50453141  -0.10280575   1.40648568 -13.80825601  13.17906489\n",
      "    2.80831475]\n",
      " [  1.89175879  -0.94023027   2.09721118   5.2846155    2.80831475\n",
      "   42.2858745 ]]\n",
      "impedances (unitless)\n",
      " [0.29560122 0.57311278 0.16224694 0.31482967 0.35791856 0.15244414]\n",
      "couplings (GHz)\n",
      " [[ 3.20748424 -0.69594079  0.88098533 -0.05274866  0.09332628 -0.21356307]\n",
      " [-0.69594079  2.37622764 -0.62077526  0.25677889 -0.0128542   0.05793059]\n",
      " [ 0.88098533 -0.62077526  3.88394799  0.15060792  0.05884022 -0.21466968]\n",
      " [-0.05274866  0.25677889  0.15060792  2.63277806  0.55228868 -0.25049909]\n",
      " [ 0.09332628 -0.0128542   0.05884022  0.55228868  2.35851594  0.13227795]\n",
      " [-0.21356307  0.05793059 -0.21466968 -0.25049909  0.13227795  3.22311685]]\n"
     ]
    }
   ],
   "source": [
    "inv_c_matrix = alg.inv(c_matrix)\n",
    "evals_c, u1 = alg.eigh(inv_c_matrix)\n",
    "# print(evals_c)\n",
    "# print(u1)\n",
    "u1 = np.array([u1[i]/np.sqrt(evals_c[i]) for i in range(len(evals_c))])\n",
    "evals, evecs = alg.eigh(u1.transpose() @ inv_l_matrix @ u1)\n",
    "\n",
    "ECs = 1e-9 * qe**2/2/h * evecs.transpose() @ inv_c_matrix @ evecs\n",
    "EJs = 1e-9 * flux_quant**2/h/4/np.pi**2 * evecs.transpose() @ inv_l_matrix @ evecs\n",
    "Zs = np.array([np.sqrt(8*ECs[i,i]/EJs[i,i]) for i in range(len(evals_c))])\n",
    "gs = np.array([[4*ECs[i,j]/np.sqrt(Zs[i]*Zs[j]) for i in range(len(evals_c))] for j in range(len(evals_c))])\n",
    "\n",
    "print('Modes (cols are evecs)\\n', np.around(evecs, 3))\n",
    "print('EC values (GHz)\\n', ECs)\n",
    "print('EJ values (GHz)\\n', EJs)\n",
    "print('impedances (unitless)\\n', Zs)\n",
    "print('couplings (GHz)\\n', gs)"
   ]
  },
  {
   "cell_type": "code",
   "execution_count": 11,
   "metadata": {},
   "outputs": [
    {
     "name": "stdout",
     "output_type": "stream",
     "text": [
      "res1 mode: 5\n",
      "res2 mode: 2\n",
      "qubit 1 mode: 3\n",
      "qubit 2 mode: 0\n"
     ]
    }
   ],
   "source": [
    "# expected nodes from the circuit (indexed from 1)\n",
    "RES1_NODE = 1\n",
    "RES2_NODE = 4\n",
    "Q1_NODES = [2, 3]\n",
    "Q2_NODES = [5, 6]\n",
    "\n",
    "res1_mode = np.argmax(np.abs(evecs[RES1_NODE-1,:])) # look for col with max in row (node) 1\n",
    "print('res1 mode:', res1_mode)\n",
    "assert np.abs(evecs[RES1_NODE-1,res1_mode]) > 0.90, f'res1 mode is bad ({np.abs(evecs[RES1_NODE-1,res1_mode])})'\n",
    "\n",
    "res2_mode = np.argmax(np.abs(evecs[RES2_NODE-1,:])) # look for col with max in node 4\n",
    "print('res2 mode:', res2_mode)\n",
    "assert np.abs(evecs[RES2_NODE-1,res2_mode]) > 0.90, f'res2 mode is bad ({np.abs(evecs[RES2_NODE-1,res2_mode])})'\n",
    "\n",
    "q1_mode = -1\n",
    "q1_mode_node0 = np.argmax(np.abs(evecs[Q1_NODES[0]-1,:])) # look for col with max in node 2\n",
    "q1_mode_node1 = np.argmax(np.abs(evecs[Q1_NODES[1]-1,:])) # look for col with max in node 3\n",
    "# Get the differential mode\n",
    "if np.sign(evecs[Q1_NODES[0]-1,q1_mode_node0]) == -(np.sign(evecs[Q1_NODES[1]-1,q1_mode_node0])):\n",
    "    q1_mode = q1_mode_node0\n",
    "elif np.sign(evecs[Q1_NODES[1]-1,q1_mode_node1]) == -(np.sign(evecs[Q1_NODES[0]-1,q1_mode_node1])):\n",
    "    q1_mode = q1_mode_node1\n",
    "else: assert False, 'could not find qubit 1 mode'\n",
    "print('qubit 1 mode:', q1_mode)\n",
    "\n",
    "q2_mode = -1\n",
    "q2_mode_node0 = np.argmax(np.abs(evecs[Q2_NODES[0]-1,:])) # look for col with max in node 2\n",
    "q2_mode_node1 = np.argmax(np.abs(evecs[Q2_NODES[1]-1,:])) # look for col with max in node 3\n",
    "# Get the differential mode\n",
    "if np.sign(evecs[Q2_NODES[0]-1,q2_mode_node0]) == -(np.sign(evecs[Q2_NODES[1]-1,q2_mode_node0])):\n",
    "    q2_mode = q2_mode_node0\n",
    "elif np.sign(evecs[Q2_NODES[1]-1,q2_mode_node1]) == -(np.sign(evecs[Q2_NODES[0]-1,q2_mode_node1])):\n",
    "    q2_mode = q2_mode_node1\n",
    "else: assert False, 'could not find qubit 1 mode'\n",
    "print('qubit 2 mode:', q2_mode)"
   ]
  },
  {
   "cell_type": "code",
   "execution_count": 12,
   "metadata": {},
   "outputs": [
    {
     "name": "stdout",
     "output_type": "stream",
     "text": [
      "EC1: 0.20721916432350027 EJ1: 16.725094685063073 wo: 5.2655561103231525\n",
      "EC2: 0.23703406737860752 EJ2: 21.701427335506146 wo: 6.41496848893668\n",
      "coupling q1 <-> res1 (MHz): 250.49908943507754\n",
      "coupling q2 <-> res2 (MHz): 880.9853286969854\n",
      "coupling q1 <-> q2 (MHz): 52.74865730423706\n"
     ]
    }
   ],
   "source": [
    "print('EC1:', ECs[q1_mode, q1_mode], 'EJ1:', EJs[q1_mode, q1_mode], 'wo:', np.sqrt(8*ECs[q1_mode,q1_mode]*EJs[q1_mode,q1_mode]))\n",
    "print('EC2:', ECs[q2_mode, q2_mode], 'EJ2:', EJs[q2_mode, q2_mode], 'wo:', np.sqrt(8*ECs[q2_mode,q2_mode]*EJs[q2_mode,q2_mode]))\n",
    "print('coupling q1 <-> res1 (MHz):', np.abs(gs[res1_mode, q1_mode])*1e3)\n",
    "print('coupling q2 <-> res2 (MHz):', np.abs(gs[res2_mode, q2_mode])*1e3)\n",
    "print('coupling q1 <-> q2 (MHz):', np.abs(gs[q1_mode, q2_mode])*1e3)"
   ]
  },
  {
   "cell_type": "code",
   "execution_count": null,
   "metadata": {},
   "outputs": [],
   "source": []
  }
 ],
 "metadata": {
  "interpreter": {
   "hash": "43f6a75978c76bba6ea20234e87ef3db866a2e4af5d4176364e7769ae473e17b"
  },
  "kernelspec": {
   "display_name": "Python 3.7.6 64-bit ('base': conda)",
   "name": "python3"
  },
  "language_info": {
   "codemirror_mode": {
    "name": "ipython",
    "version": 3
   },
   "file_extension": ".py",
   "mimetype": "text/x-python",
   "name": "python",
   "nbconvert_exporter": "python",
   "pygments_lexer": "ipython3",
   "version": "3.7.6"
  },
  "orig_nbformat": 4
 },
 "nbformat": 4,
 "nbformat_minor": 2
}
