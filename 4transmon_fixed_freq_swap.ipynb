{
 "cells": [
  {
   "cell_type": "code",
   "execution_count": 1,
   "source": [
    "%matplotlib inline\n",
    "import matplotlib.style as style\n",
    "\n",
    "import matplotlib.pyplot as plt\n",
    "import numpy as np\n",
    "import time\n",
    "from tqdm import tqdm\n",
    "\n",
    "import scqubits as scq\n",
    "import qutip as qt\n",
    "\n",
    "from PulseSequence import PulseSequence\n",
    "from QSwitch import QSwitch\n",
    "\n",
    "style.use('default')\n",
    "plt.rcParams['figure.figsize'] = [6, 4]\n",
    "default_colors = plt.rcParams['axes.prop_cycle'].by_key()['color']\n",
    "scq.settings.PROGRESSBAR_DISABLED = True"
   ],
   "outputs": [],
   "metadata": {}
  },
  {
   "cell_type": "code",
   "execution_count": 2,
   "source": [
    "hbar = 1\n",
    "h = hbar*2*np.pi\n",
    "qe = 1\n",
    "\n",
    "# Unit conversions\n",
    "MHz = 10.0**(-3)\n",
    "GHz = 1.0\n",
    "kHz = 10.0**(-6)\n",
    "us = 10.0**3\n",
    "ns = 1.0"
   ],
   "outputs": [],
   "metadata": {}
  },
  {
   "cell_type": "code",
   "execution_count": 3,
   "source": [
    "# q_in, q_switch, q_out1, q_out2\n",
    "EJs = [21, 20, 22, 21.5]\n",
    "ECs = [0.25, 0.35, 0.35, 0.28]\n",
    "gs = [0.1, 0.1, 0.1] # g12, g23, g24\n",
    "# EJs = [22, 21, 24, 23]\n",
    "# ECs = [0.25, 0.4, 0.4, 0.28]\n",
    "# gs = [0.15, 0.15, 0.15] # g12, g23, g24\n",
    "cutoffs = [4, 5, 4, 4]\n",
    "isCavity = [False, False, False, False]\n",
    "\n",
    "qram = QSwitch(\n",
    "    EJs=EJs,\n",
    "    ECs=ECs,\n",
    "    gs=gs,\n",
    "    cutoffs=cutoffs,\n",
    "    isCavity=isCavity,\n",
    ")\n",
    "\n",
    "qubit_freqs = qram.qubit_freqs\n",
    "alphas = qram.alphas\n",
    "print(qubit_freqs[0], qubit_freqs[1], qubit_freqs[2], qubit_freqs[3])\n",
    "print(alphas[0], alphas[1], alphas[2], alphas[3])"
   ],
   "outputs": [
    {
     "output_type": "stream",
     "name": "stdout",
     "text": [
      "6.219955176682236 7.114505318471956 7.480762973458866 6.647033320874119\n",
      "-0.2765666000150251 -0.3976349542294244 -0.3947192737976515 -0.3114706721669016\n"
     ]
    }
   ],
   "metadata": {}
  },
  {
   "cell_type": "code",
   "execution_count": 4,
   "source": [
    "# MAKE SURE DRESSED STATES ARE MAPPED CORRECTLY, AT LEAST FOR <= n EXCITATIONS\n",
    "\n",
    "# qram.check_state_mapping(n=3)"
   ],
   "outputs": [],
   "metadata": {
    "scrolled": true,
    "tags": []
   }
  },
  {
   "cell_type": "code",
   "execution_count": 5,
   "source": [
    "# times = np.linspace(0, 650, 200)\n",
    "# times = np.linspace(0, 1450, 400)\n",
    "times = np.linspace(0, 200, 200)\n",
    "# times = np.linspace(0, 10, 100)\n",
    "\n",
    "seq = PulseSequence(start_time=0)\n",
    "# qram.add_sequential_pi_pulse(seq, 'eggg', 'gfgg', amp=0.12)\n",
    "# qram.add_sequential_pi_pulse(seq, 'gfgg', 'ggeg', amp=0.04)\n",
    "# qram.add_sequential_pi_pulse(seq, 'eegg', 'eggg', amp=0.07)\n",
    "# qram.add_sequential_pi_pulse(seq, 'eggg', 'gfgg', amp=0.12) # repeat of pulse 0\n",
    "# qram.add_sequential_pi_pulse(seq, 'gfgg', 'ggge', amp=0.18)\n",
    "\n",
    "# seq.wait(50)\n",
    "\n",
    "# qram.add_sequential_pi_pulse(seq, 'gfgg', 'ggge', amp=0.18)\n",
    "# qram.add_sequential_pi_pulse(seq, 'eggg', 'gfgg', amp=0.12) # repeat of pulse 0\n",
    "# qram.add_sequential_pi_pulse(seq, 'eegg', 'eggg', amp=0.07)\n",
    "# qram.add_sequential_pi_pulse(seq, 'gfgg', 'ggeg', amp=0.04)\n",
    "# qram.add_sequential_pi_pulse(seq, 'eggg', 'gfgg', amp=0.12)\n",
    "\n",
    "qram.add_sequential_pi_pulse(seq, 'eggg', 'gfgg', amp=0.12)\n",
    "\n",
    "# qram.add_sequential_pi_pulse(seq, 'eggg', 'gfgg', amp=0.07)\n",
    "# qram.add_sequential_pi_pulse(seq, 'gfgg', 'ggeg', amp=0.03)\n",
    "# qram.add_sequential_pi_pulse(seq, 'eegg', 'eggg', amp=0.04)\n",
    "# qram.add_sequential_pi_pulse(seq, 'eggg', 'gfgg', amp=0.07)\n",
    "# qram.add_sequential_pi_pulse(seq, 'gfgg', 'ggge', amp=0.06)\n",
    "\n",
    "# seq.wait(50)\n",
    "\n",
    "# qram.add_sequential_pi_pulse(seq, 'gfgg', 'ggge', amp=0.06)\n",
    "# qram.add_sequential_pi_pulse(seq, 'eggg', 'gfgg', amp=0.07)\n",
    "# qram.add_sequential_pi_pulse(seq, 'eegg', 'eggg', amp=0.04)\n",
    "# qram.add_sequential_pi_pulse(seq, 'gfgg', 'ggeg', amp=0.03)\n",
    "# qram.add_sequential_pi_pulse(seq, 'eggg', 'gfgg', amp=0.07)"
   ],
   "outputs": [
    {
     "output_type": "stream",
     "name": "stdout",
     "text": [
      "init overlap 0.7079453642843581\n",
      "positive n 1 wd -48.61264560369273 wd_res 0.001 overlap 0.7079453657951069\n",
      "positive n 2 wd -48.61164560369272 wd_res 0.001 overlap 0.7079453673057203\n",
      "positive n 3 wd -48.610645603692724 wd_res 0.001 overlap 0.7079453688161975\n",
      "positive n 4 wd -48.60964560369273 wd_res 0.001 overlap 0.7079453703265381\n",
      "positive n 5 wd -48.60864560369272 wd_res 0.001 overlap 0.7079453718367449\n",
      "positive n 6 wd -48.607645603692724 wd_res 0.001 overlap 0.7079453733468147\n",
      "positive n 7 wd -48.606645603692726 wd_res 0.001 overlap 0.7079453748567492\n",
      "positive n 8 wd -48.60564560369272 wd_res 0.001 overlap 0.707945376366547\n",
      "positive n 9 wd -48.604645603692724 wd_res 0.001 overlap 0.7079453778762117\n",
      "positive n 10 wd -48.603645603692726 wd_res 0.001 overlap 0.7079453793857375\n",
      "positive n 11 wd -48.60264560369272 wd_res 0.001 overlap 0.7079453808951287\n",
      "positive n 12 wd -48.601645603692724 wd_res 0.001 overlap 0.7079453824043844\n",
      "positive n 13 wd -48.600645603692726 wd_res 0.001 overlap 0.7079453839135047\n",
      "positive n 14 wd -48.59964560369272 wd_res 0.001 overlap 0.7079453854224886\n",
      "positive n 15 wd -48.598645603692724 wd_res 0.001 overlap 0.7079453869313361\n",
      "positive n 16 wd -48.597645603692726 wd_res 0.001 overlap 0.7079453884400488\n",
      "positive n 17 wd -48.59664560369272 wd_res 0.001 overlap 0.7079453899486248\n",
      "positive n 18 wd -48.595645603692724 wd_res 0.001 overlap 0.7079453914570648\n",
      "positive n 19 wd -48.594645603692726 wd_res 0.001 overlap 0.707945392965369\n",
      "positive n 20 wd -48.59364560369272 wd_res 0.001 overlap 0.7079453944735392\n",
      "positive n 21 wd -48.59264560369272 wd_res 0.001 overlap 0.7079453959815717\n",
      "positive n 22 wd -48.591645603692726 wd_res 0.001 overlap 0.7079453974894694\n",
      "positive n 23 wd -48.59064560369272 wd_res 0.001 overlap 0.7079453989972295\n",
      "positive n 24 wd -48.58964560369272 wd_res 0.001 overlap 0.7079454005048553\n",
      "positive n 25 wd -48.588645603692726 wd_res 0.001 overlap 0.7079454020123425\n",
      "positive n 26 wd -48.58764560369272 wd_res 0.001 overlap 0.7079454035196966\n",
      "positive n 27 wd -48.58664560369272 wd_res 0.001 overlap 0.7079454050269144\n",
      "positive n 28 wd -48.585645603692726 wd_res 0.001 overlap 0.7079454065339965\n",
      "positive n 29 wd -48.58464560369272 wd_res 0.001 overlap 0.7079454080409406\n",
      "positive n 30 wd -48.58364560369272 wd_res 0.001 overlap 0.7079454095477506\n",
      "positive n 31 wd -48.582645603692725 wd_res 0.001 overlap 0.7079454110544234\n",
      "positive n 32 wd -48.58164560369273 wd_res 0.001 overlap 0.7079454125609611\n",
      "positive n 33 wd -48.58064560369272 wd_res 0.001 overlap 0.7079454140673622\n",
      "positive n 34 wd -48.579645603692725 wd_res 0.001 overlap 0.7079454155736271\n",
      "positive n 35 wd -48.57864560369273 wd_res 0.001 overlap 0.7079454170797579\n",
      "positive n 36 wd -48.57764560369272 wd_res 0.001 overlap 0.7079454185857503\n",
      "positive n 37 wd -48.576645603692725 wd_res 0.001 overlap 0.707945420091607\n",
      "positive n 38 wd -48.57564560369273 wd_res 0.001 overlap 0.7079454215973294\n",
      "positive n 39 wd -48.57464560369272 wd_res 0.001 overlap 0.7079454231029136\n",
      "positive n 40 wd -48.573645603692725 wd_res 0.001 overlap 0.7079454246083619\n",
      "positive n 41 wd -48.57264560369273 wd_res 0.001 overlap 0.707945426113677\n",
      "positive n 42 wd -48.57164560369272 wd_res 0.001 overlap 0.7079454276188528\n",
      "positive n 43 wd -48.570645603692725 wd_res 0.001 overlap 0.7079454291238929\n",
      "positive n 44 wd -48.56964560369273 wd_res 0.001 overlap 0.707945430628798\n",
      "positive n 45 wd -48.56864560369272 wd_res 0.001 overlap 0.7079454321335665\n",
      "positive n 46 wd -48.567645603692725 wd_res 0.001 overlap 0.7079454336381992\n",
      "positive n 47 wd -48.56664560369273 wd_res 0.001 overlap 0.7079454351426946\n",
      "positive n 48 wd -48.56564560369272 wd_res 0.001 overlap 0.707945436647055\n",
      "positive n 49 wd -48.564645603692725 wd_res 0.001 overlap 0.7079454381512784\n",
      "positive n 50 wd -48.56364560369273 wd_res 0.001 overlap 0.7079454396553659\n",
      "positive n 51 wd -48.56264560369272 wd_res 0.001 overlap 0.7079454411593187\n",
      "positive n 52 wd -48.561645603692725 wd_res 0.001 overlap 0.7079454426631322\n",
      "positive n 53 wd -48.56064560369273 wd_res 0.001 overlap 0.7079454441668116\n",
      "positive n 54 wd -48.55964560369272 wd_res 0.001 overlap 0.707945445670354\n",
      "positive n 55 wd -48.558645603692725 wd_res 0.001 overlap 0.7079454471737607\n",
      "positive n 56 wd -48.55764560369273 wd_res 0.001 overlap 0.7079454486770309\n",
      "positive n 57 wd -48.55664560369272 wd_res 0.001 overlap 0.7079454501801647\n",
      "positive n 58 wd -48.555645603692724 wd_res 0.001 overlap 0.7079454516831627\n",
      "positive n 59 wd -48.55464560369273 wd_res 0.001 overlap 0.7079454531860244\n",
      "positive n 60 wd -48.55364560369272 wd_res 0.001 overlap 0.7079454546887499\n",
      "positive n 61 wd -48.552645603692724 wd_res 0.001 overlap 0.7079454561913399\n",
      "positive n 62 wd -48.55164560369273 wd_res 0.001 overlap 0.7079454576937909\n",
      "positive n 63 wd -48.55064560369272 wd_res 0.001 overlap 0.707945459196108\n",
      "positive n 64 wd -48.549645603692724 wd_res 0.001 overlap 0.7079454606982871\n",
      "positive n 65 wd -48.54864560369273 wd_res 0.001 overlap 0.7079454622003309\n",
      "positive n 66 wd -48.54764560369272 wd_res 0.001 overlap 0.7079454637022383\n",
      "positive n 67 wd -48.546645603692724 wd_res 0.001 overlap 0.7079454652040096\n",
      "positive n 68 wd -48.545645603692726 wd_res 0.001 overlap 0.7079454667056451\n",
      "positive n 69 wd -48.54464560369272 wd_res 0.001 overlap 0.7079454682071429\n",
      "positive n 70 wd -48.543645603692724 wd_res 0.001 overlap 0.707945469708504\n",
      "positive n 71 wd -48.542645603692726 wd_res 0.001 overlap 0.7079454712097281\n",
      "positive n 72 wd -48.54164560369272 wd_res 0.001 overlap 0.7079454727108185\n",
      "positive n 73 wd -48.540645603692724 wd_res 0.001 overlap 0.7079454742117717\n",
      "positive n 74 wd -48.539645603692726 wd_res 0.001 overlap 0.7079454757125876\n",
      "positive n 75 wd -48.53864560369272 wd_res 0.001 overlap 0.7079454772132667\n",
      "positive n 76 wd -48.537645603692724 wd_res 0.001 overlap 0.7079454787138106\n",
      "positive n 77 wd -48.536645603692726 wd_res 0.001 overlap 0.7079454802142172\n",
      "positive n 78 wd -48.53564560369272 wd_res 0.001 overlap 0.7079454817144879\n",
      "positive n 79 wd -48.534645603692724 wd_res 0.001 overlap 0.7079454832146218\n",
      "positive n 80 wd -48.533645603692726 wd_res 0.001 overlap 0.7079454847146184\n",
      "positive n 81 wd -48.53264560369272 wd_res 0.001 overlap 0.707945486214481\n",
      "positive n 82 wd -48.53164560369272 wd_res 0.001 overlap 0.7079454877142048\n",
      "positive n 83 wd -48.530645603692726 wd_res 0.001 overlap 0.7079454892137926\n",
      "positive n 84 wd -48.52964560369272 wd_res 0.001 overlap 0.707945490713244\n",
      "positive n 85 wd -48.52864560369272 wd_res 0.001 overlap 0.7079454922125573\n",
      "positive n 86 wd -48.527645603692726 wd_res 0.001 overlap 0.7079454937117373\n",
      "positive n 87 wd -48.52664560369272 wd_res 0.001 overlap 0.7079454952107787\n",
      "positive n 88 wd -48.52564560369272 wd_res 0.001 overlap 0.7079454967096841\n",
      "positive n 89 wd -48.524645603692726 wd_res 0.001 overlap 0.707945498208452\n",
      "positive n 90 wd -48.52364560369272 wd_res 0.001 overlap 0.7079454997070853\n",
      "positive n 91 wd -48.52264560369272 wd_res 0.001 overlap 0.7079455012055799\n",
      "positive n 92 wd -48.521645603692726 wd_res 0.001 overlap 0.707945502703939\n",
      "positive n 93 wd -48.52064560369272 wd_res 0.001 overlap 0.7079455042021615\n",
      "positive n 94 wd -48.51964560369272 wd_res 0.001 overlap 0.7079455057002462\n",
      "positive n 95 wd -48.518645603692725 wd_res 0.001 overlap 0.7079455071981958\n",
      "positive n 96 wd -48.51764560369273 wd_res 0.001 overlap 0.7079455086960067\n",
      "positive n 97 wd -48.51664560369272 wd_res 0.001 overlap 0.7079455101936836\n",
      "positive n 98 wd -48.515645603692725 wd_res 0.001 overlap 0.7079455116912226\n",
      "positive n 99 wd -48.51464560369273 wd_res 0.001 overlap 0.7079455131886252\n",
      "positive n 100 wd -48.51364560369272 wd_res 0.001 overlap 0.7079455146858913\n",
      "Too many iterations, try lower resolution!\n"
     ]
    }
   ],
   "metadata": {
    "scrolled": true,
    "tags": []
   }
  },
  {
   "cell_type": "code",
   "execution_count": 6,
   "source": [
    "7.562031562144199*2*np.pi"
   ],
   "outputs": [
    {
     "output_type": "execute_result",
     "data": {
      "text/plain": [
       "47.51364560369272"
      ]
     },
     "metadata": {},
     "execution_count": 6
    }
   ],
   "metadata": {}
  },
  {
   "cell_type": "code",
   "execution_count": 7,
   "source": [
    "envelope_seq = seq.get_envelope_seq()\n",
    "print(seq.pulse_freqs)\n",
    "for i in range(len(envelope_seq)):\n",
    "    plt.plot(times, [envelope_seq[i](t)/MHz for t in times], label=f'Pulse {i}')\n",
    "plt.xlabel('Time (ns)')\n",
    "plt.ylabel('Drive Amplitude (MHz)')\n",
    "plt.title('Pulse Sequence')\n",
    "plt.legend()\n",
    "plt.show()"
   ],
   "outputs": [
    {
     "output_type": "stream",
     "name": "stdout",
     "text": [
      "[-7.721186505236094]\n"
     ]
    },
    {
     "output_type": "display_data",
     "data": {
      "image/png": "[encoded data removed]",
      "text/plain": [
       "<Figure size 600x400 with 1 Axes>"
      ]
     },
     "metadata": {}
    }
   ],
   "metadata": {}
  },
  {
   "cell_type": "code",
   "execution_count": 8,
   "source": [
    "# incl_dissipation = True\n",
    "incl_dissipation = False\n",
    "\n",
    "T1 = 60e3 # ns\n",
    "T2 = 30e3 # ?\n",
    "\n",
    "# T1 = 10e3\n",
    "\n",
    "c_ops = [\n",
    "    np.sqrt(1/T1)*qram.a,\n",
    "    np.sqrt(1/T1)*qram.b,\n",
    "    np.sqrt(1/T1)*qram.c,\n",
    "    np.sqrt(1/T1)*qram.d,\n",
    "]"
   ],
   "outputs": [],
   "metadata": {}
  },
  {
   "cell_type": "code",
   "execution_count": 9,
   "source": [
    "# psi0_name = 'eggg'\n",
    "# psi0_name = 'gfgg'\n",
    "# psi0_name = 'eegg'\n",
    "# psi0_name = 'ggeg'\n",
    "# psi0_name = 'ggge'\n",
    "\n",
    "# psi0 = qram.state(psi0_name)\n",
    "psi0 = np.sqrt(1/2) * qram.state('eggg') + np.sqrt(1/2) * qram.state('eegg') # QRAM start\n",
    "\n",
    "# print(seq.get_pulse_str())\n",
    "\n",
    "if incl_dissipation:\n",
    "    full_result = qt.mcsolve(qram.H_solver_str(seq), psi0, times, c_ops, progress_bar=True, options=qt.Options(nsteps=10000))\n",
    "    result = np.sum(full_result.states, axis=0)/full_result.ntraj\n",
    "else:\n",
    "    # result = qt.mesolve(qram.H_solver(seq), psi0, times, progress_bar=True, options=qt.Options(nsteps=10000)).states\n",
    "    result = qt.mesolve(qram.H_solver_str(seq), psi0, times, progress_bar=True, options=qt.Options(nsteps=12000)).states"
   ],
   "outputs": [
    {
     "output_type": "stream",
     "name": "stdout",
     "text": [
      "10.0%. Run time:   2.31s. Est. time left: 00:00:00:20\n",
      "20.0%. Run time:   4.81s. Est. time left: 00:00:00:19\n",
      "30.0%. Run time:   7.96s. Est. time left: 00:00:00:18\n",
      "40.0%. Run time:  11.09s. Est. time left: 00:00:00:16\n",
      "50.0%. Run time:  14.35s. Est. time left: 00:00:00:14\n",
      "60.0%. Run time:  17.61s. Est. time left: 00:00:00:11\n",
      "70.0%. Run time:  20.86s. Est. time left: 00:00:00:08\n",
      "80.0%. Run time:  24.14s. Est. time left: 00:00:00:06\n",
      "90.0%. Run time:  27.33s. Est. time left: 00:00:00:03\n",
      "Total run time:  30.33s\n"
     ]
    }
   ],
   "metadata": {}
  },
  {
   "cell_type": "code",
   "execution_count": 10,
   "source": [
    "eggg = qram.state('eggg')\n",
    "gfgg = qram.state('gfgg')\n",
    "ggeg = qram.state('ggeg')\n",
    "eegg = qram.state('eegg')\n",
    "ggge = qram.state('ggge')\n",
    "\n",
    "prob_eggg = [np.abs(eggg.overlap(result[t]))**2 for t in range(len(times))]\n",
    "prob_gfgg = [np.abs(gfgg.overlap(result[t]))**2 for t in range(len(times))]\n",
    "prob_ggeg = [np.abs(ggeg.overlap(result[t]))**2 for t in range(len(times))]\n",
    "prob_eegg = [np.abs(eegg.overlap(result[t]))**2 for t in range(len(times))]\n",
    "prob_ggge = [np.abs(ggge.overlap(result[t]))**2 for t in range(len(times))]\n",
    "\n",
    "plt.plot(times, prob_eggg, label=r'$|eggg\\rangle_D$')\n",
    "plt.plot(times, prob_gfgg, label=r'$|gfgg\\rangle_D$')\n",
    "plt.plot(times, prob_ggeg, label=r'$|ggeg\\rangle_D$')\n",
    "plt.plot(times, prob_eegg, label=r'$|eegg\\rangle_D$')\n",
    "plt.plot(times, prob_ggge, label=r'$|ggge\\rangle_D$')\n",
    "\n",
    "# plt.plot(times, [np.abs(state('geeg').overlap(result[t]))**2 for t in range(len(times))], 'k--', label=r'$|geeg\\rangle_D$')\n",
    "# plt.plot(times, [np.abs(state('efgg').overlap(result[t]))**2 for t in range(len(times))], 'k-.', label=r'$|efgg\\rangle_D$')\n",
    "\n",
    "# for i1 in range(cutoffs[0]):\n",
    "#     for i2 in range(cutoffs[1]):\n",
    "#         for i3 in range(cutoffs[2]):\n",
    "#             for i4 in range(cutoffs[3]):\n",
    "#                 # print(qram.levels_nums_to_name([i1, i2, i3, i4]))\n",
    "#                 plt.plot(times, \n",
    "#                          [np.abs(qram.state([i1, i2, i3, i4]).overlap(result[t]))**2 for t in range(len(times))],\n",
    "#                          label='qram.level_nums_to_name[i1, i2, i3, i4]')\n",
    "\n",
    "# plt.plot(times, [1]*len(times), 'k--', linewidth=0.5)\n",
    "plt.legend()\n",
    "plt.ylim(0, 1)\n",
    "# plt.xlim(750, 1000)\n",
    "plt.xlabel('Time (ns)')\n",
    "plt.ylabel('Population')\n",
    "# plt.title(r'$\\psi_0=|$'+psi0_name+r'$\\rangle$')\n",
    "plt.grid(linewidth=0.3)\n",
    "plt.show()"
   ],
   "outputs": [
    {
     "output_type": "display_data",
     "data": {
      "image/png": "[encoded data removed]",
      "text/plain": [
       "<Figure size 600x400 with 1 Axes>"
      ]
     },
     "metadata": {}
    }
   ],
   "metadata": {
    "tags": []
   }
  },
  {
   "cell_type": "code",
   "execution_count": 11,
   "source": [
    "T = 700 # ns\n",
    "\n",
    "sum_psi = 0\n",
    "T = np.argmin(np.abs(times-T))\n",
    "for i1 in range(cutoffs[0]):\n",
    "    for i2 in range(cutoffs[1]):\n",
    "        for i3 in range(cutoffs[2]):\n",
    "            for i4 in range(cutoffs[3]):\n",
    "                sum_psi += np.abs(qram.state([i1, i2, i3, i4]).overlap(result[T]))**2\n",
    "print('Sum probabilities:', sum_psi)\n",
    "print(\"Non-zero levels:\")\n",
    "for i1 in range(cutoffs[0]):\n",
    "    for i2 in range(cutoffs[1]):\n",
    "        for i3 in range(cutoffs[2]):\n",
    "            for i4 in range(cutoffs[3]):\n",
    "                prob = np.abs(qram.state([i1, i2, i3, i4]).overlap(result[T]))**2\n",
    "                if prob > 0.01: print(qram.level_nums_to_name([i1, i2, i3, i4]), prob)"
   ],
   "outputs": [
    {
     "output_type": "stream",
     "name": "stdout",
     "text": [
      "Sum probabilities: 1.0006509685847333\n",
      "Non-zero levels:\n",
      "gfgg 0.054547450344019595\n",
      "eggg 0.5076415377207798\n",
      "eegg 0.43451746718873613\n"
     ]
    }
   ],
   "metadata": {
    "scrolled": true,
    "tags": []
   }
  },
  {
   "cell_type": "code",
   "execution_count": 12,
   "source": [
    "print('want', qram.get_wd('eggg', 'eegg')/2/np.pi)\n",
    "print('resonant to', qram.get_wd('ggeg', 'geeg')/2/np.pi)\n",
    "print('2 photon transition to', qram.get_wd('eggg', 'efgg')/2/np.pi)"
   ],
   "outputs": [
    {
     "output_type": "error",
     "ename": "TypeError",
     "evalue": "get_wd() missing 1 required positional argument: 'amp'",
     "traceback": [
      "\u001b[0;31m---------------------------------------------------------------------------\u001b[0m",
      "\u001b[0;31mTypeError\u001b[0m                                 Traceback (most recent call last)",
      "\u001b[0;32m<ipython-input-12-b92ed89e9206>\u001b[0m in \u001b[0;36m<module>\u001b[0;34m\u001b[0m\n\u001b[0;32m----> 1\u001b[0;31m \u001b[0mprint\u001b[0m\u001b[0;34m(\u001b[0m\u001b[0;34m'want'\u001b[0m\u001b[0;34m,\u001b[0m \u001b[0mqram\u001b[0m\u001b[0;34m.\u001b[0m\u001b[0mget_wd\u001b[0m\u001b[0;34m(\u001b[0m\u001b[0;34m'eggg'\u001b[0m\u001b[0;34m,\u001b[0m \u001b[0;34m'eegg'\u001b[0m\u001b[0;34m)\u001b[0m\u001b[0;34m/\u001b[0m\u001b[0;36m2\u001b[0m\u001b[0;34m/\u001b[0m\u001b[0mnp\u001b[0m\u001b[0;34m.\u001b[0m\u001b[0mpi\u001b[0m\u001b[0;34m)\u001b[0m\u001b[0;34m\u001b[0m\u001b[0;34m\u001b[0m\u001b[0m\n\u001b[0m\u001b[1;32m      2\u001b[0m \u001b[0mprint\u001b[0m\u001b[0;34m(\u001b[0m\u001b[0;34m'resonant to'\u001b[0m\u001b[0;34m,\u001b[0m \u001b[0mqram\u001b[0m\u001b[0;34m.\u001b[0m\u001b[0mget_wd\u001b[0m\u001b[0;34m(\u001b[0m\u001b[0;34m'ggeg'\u001b[0m\u001b[0;34m,\u001b[0m \u001b[0;34m'geeg'\u001b[0m\u001b[0;34m)\u001b[0m\u001b[0;34m/\u001b[0m\u001b[0;36m2\u001b[0m\u001b[0;34m/\u001b[0m\u001b[0mnp\u001b[0m\u001b[0;34m.\u001b[0m\u001b[0mpi\u001b[0m\u001b[0;34m)\u001b[0m\u001b[0;34m\u001b[0m\u001b[0;34m\u001b[0m\u001b[0m\n\u001b[1;32m      3\u001b[0m \u001b[0mprint\u001b[0m\u001b[0;34m(\u001b[0m\u001b[0;34m'2 photon transition to'\u001b[0m\u001b[0;34m,\u001b[0m \u001b[0mqram\u001b[0m\u001b[0;34m.\u001b[0m\u001b[0mget_wd\u001b[0m\u001b[0;34m(\u001b[0m\u001b[0;34m'eggg'\u001b[0m\u001b[0;34m,\u001b[0m \u001b[0;34m'efgg'\u001b[0m\u001b[0;34m)\u001b[0m\u001b[0;34m/\u001b[0m\u001b[0;36m2\u001b[0m\u001b[0;34m/\u001b[0m\u001b[0mnp\u001b[0m\u001b[0;34m.\u001b[0m\u001b[0mpi\u001b[0m\u001b[0;34m)\u001b[0m\u001b[0;34m\u001b[0m\u001b[0;34m\u001b[0m\u001b[0m\n",
      "\u001b[0;31mTypeError\u001b[0m: get_wd() missing 1 required positional argument: 'amp'"
     ]
    }
   ],
   "metadata": {}
  },
  {
   "cell_type": "code",
   "execution_count": null,
   "source": [
    "print('want', qram.get_wd('gfgg', 'ggeg')/2/np.pi)\n",
    "print(qram.get_wd('eegg', 'eege')/2/np.pi)"
   ],
   "outputs": [
    {
     "output_type": "stream",
     "name": "stdout",
     "text": [
      "want 6.790158176784276\n",
      "-6.801440393632177\n"
     ]
    }
   ],
   "metadata": {}
  },
  {
   "cell_type": "code",
   "execution_count": null,
   "source": [],
   "outputs": [],
   "metadata": {}
  }
 ],
 "metadata": {
  "interpreter": {
   "hash": "35c7c595a57264ab9b774ac3f4884fda11f637b416906965a24c806e415eb554"
  },
  "kernelspec": {
   "name": "python3",
   "display_name": "Python 3.8.8 64-bit ('base': conda)"
  },
  "language_info": {
   "name": "python",
   "version": "3.8.8",
   "mimetype": "text/x-python",
   "codemirror_mode": {
    "name": "ipython",
    "version": 3
   },
   "pygments_lexer": "ipython3",
   "nbconvert_exporter": "python",
   "file_extension": ".py"
  }
 },
 "nbformat": 4,
 "nbformat_minor": 4
}