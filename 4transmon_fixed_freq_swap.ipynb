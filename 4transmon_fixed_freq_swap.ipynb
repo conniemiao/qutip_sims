{
 "cells": [
  {
   "cell_type": "code",
   "execution_count": 1,
   "source": [
    "%matplotlib inline\n",
    "import matplotlib.style as style\n",
    "\n",
    "import matplotlib.pyplot as plt\n",
    "import numpy as np\n",
    "import time\n",
    "from tqdm import tqdm\n",
    "\n",
    "import scqubits as scq\n",
    "import qutip as qt\n",
    "\n",
    "from PulseSequence import PulseSequence\n",
    "from QSwitch import QSwitch\n",
    "\n",
    "style.use('default')\n",
    "plt.rcParams['figure.figsize'] = [6, 4]\n",
    "default_colors = plt.rcParams['axes.prop_cycle'].by_key()['color']\n",
    "scq.settings.PROGRESSBAR_DISABLED = True"
   ],
   "outputs": [],
   "metadata": {}
  },
  {
   "cell_type": "code",
   "execution_count": 2,
   "source": [
    "hbar = 1\n",
    "h = hbar*2*np.pi\n",
    "qe = 1\n",
    "\n",
    "# Unit conversions\n",
    "MHz = 10.0**(-3)\n",
    "GHz = 1.0\n",
    "kHz = 10.0**(-6)\n",
    "us = 10.0**3\n",
    "ns = 1.0"
   ],
   "outputs": [],
   "metadata": {}
  },
  {
   "cell_type": "code",
   "execution_count": 3,
   "source": [
    "# q_in, q_switch, q_out1, q_out2\n",
    "# EJs = [21, 20, 22, 21.5]\n",
    "# ECs = [0.25, 0.35, 0.35, 0.28]\n",
    "# gs = [0.1, 0.1, 0.1] # g12, g23, g24\n",
    "EJs = [22, 21, 24, 23]\n",
    "ECs = [0.25, 0.4, 0.4, 0.28]\n",
    "gs = [0.1, 0.1, 0.1] # g12, g23, g24\n",
    "cutoffs = [4, 5, 4, 4]\n",
    "isCavity = [False, False, False, False]\n",
    "\n",
    "qram = QSwitch(\n",
    "    EJs=EJs,\n",
    "    ECs=ECs,\n",
    "    gs=gs,\n",
    "    cutoffs=cutoffs,\n",
    "    isCavity=isCavity,\n",
    ")\n",
    "\n",
    "qubit_freqs = qram.qubit_freqs\n",
    "alphas = qram.alphas\n",
    "print(qubit_freqs[0], qubit_freqs[1], qubit_freqs[2], qubit_freqs[3])\n",
    "print(alphas[0], alphas[1], alphas[2], alphas[3])"
   ],
   "outputs": [
    {
     "output_type": "stream",
     "name": "stdout",
     "text": [
      "6.372742057696335 7.77498011533865 8.342661717476677 6.885510681734878\n",
      "-0.27581343076221465 -0.4576807972507133 -0.45269668911903693 -0.31017075005341965\n"
     ]
    }
   ],
   "metadata": {}
  },
  {
   "cell_type": "code",
   "execution_count": 4,
   "source": [
    "# MAKE SURE DRESSED STATES ARE MAPPED CORRECTLY, AT LEAST FOR <= n EXCITATIONS\n",
    "\n",
    "# qram.check_state_mapping(n=3)"
   ],
   "outputs": [],
   "metadata": {
    "scrolled": true,
    "tags": []
   }
  },
  {
   "cell_type": "code",
   "execution_count": 5,
   "source": [
    "# times = np.linspace(0, 650, 200)\n",
    "# times = np.linspace(0, 1450, 400)\n",
    "times = np.linspace(0, 200, 200)\n",
    "# times = np.linspace(0, 10, 100)\n",
    "\n",
    "seq = PulseSequence(start_time=0)\n",
    "# qram.add_sequential_pi_pulse(seq, 'eggg', 'gfgg', amp=0.12)\n",
    "# qram.add_sequential_pi_pulse(seq, 'gfgg', 'ggeg', amp=0.04)\n",
    "# qram.add_sequential_pi_pulse(seq, 'eegg', 'eggg', amp=0.07)\n",
    "# qram.add_sequential_pi_pulse(seq, 'eggg', 'gfgg', amp=0.12) # repeat of pulse 0\n",
    "# qram.add_sequential_pi_pulse(seq, 'gfgg', 'ggge', amp=0.18)\n",
    "\n",
    "# seq.wait(50)\n",
    "\n",
    "# qram.add_sequential_pi_pulse(seq, 'gfgg', 'ggge', amp=0.18)\n",
    "# qram.add_sequential_pi_pulse(seq, 'eggg', 'gfgg', amp=0.12) # repeat of pulse 0\n",
    "# qram.add_sequential_pi_pulse(seq, 'eegg', 'eggg', amp=0.07)\n",
    "# qram.add_sequential_pi_pulse(seq, 'gfgg', 'ggeg', amp=0.04)\n",
    "# qram.add_sequential_pi_pulse(seq, 'eggg', 'gfgg', amp=0.12)\n",
    "\n",
    "qram.add_sequential_pi_pulse(seq, 'eggg', 'gfgg', amp=0.12)\n",
    "\n",
    "# qram.add_sequential_pi_pulse(seq, 'eggg', 'gfgg', amp=0.07)\n",
    "# qram.add_sequential_pi_pulse(seq, 'gfgg', 'ggeg', amp=0.03)\n",
    "# qram.add_sequential_pi_pulse(seq, 'eegg', 'eggg', amp=0.04)\n",
    "# qram.add_sequential_pi_pulse(seq, 'eggg', 'gfgg', amp=0.07)\n",
    "# qram.add_sequential_pi_pulse(seq, 'gfgg', 'ggge', amp=0.06)\n",
    "\n",
    "# seq.wait(50)\n",
    "\n",
    "# qram.add_sequential_pi_pulse(seq, 'gfgg', 'ggge', amp=0.06)\n",
    "# qram.add_sequential_pi_pulse(seq, 'eggg', 'gfgg', amp=0.07)\n",
    "# qram.add_sequential_pi_pulse(seq, 'eegg', 'eggg', amp=0.04)\n",
    "# qram.add_sequential_pi_pulse(seq, 'gfgg', 'ggeg', amp=0.03)\n",
    "# qram.add_sequential_pi_pulse(seq, 'eggg', 'gfgg', amp=0.07)"
   ],
   "outputs": [
    {
     "output_type": "stream",
     "name": "stdout",
     "text": [
      "55.09317745111447 0\n",
      "55.07317745111447 -0.02\n",
      "55.07517745111447 -0.018000000000000002\n"
     ]
    }
   ],
   "metadata": {
    "scrolled": true,
    "tags": []
   }
  },
  {
   "cell_type": "code",
   "execution_count": 6,
   "source": [
    "7.562031562144199*2*np.pi"
   ],
   "outputs": [
    {
     "output_type": "execute_result",
     "data": {
      "text/plain": [
       "47.51364560369272"
      ]
     },
     "metadata": {},
     "execution_count": 6
    }
   ],
   "metadata": {}
  },
  {
   "cell_type": "code",
   "execution_count": 7,
   "source": [
    "envelope_seq = seq.get_envelope_seq()\n",
    "print(seq.pulse_freqs)\n",
    "for i in range(len(envelope_seq)):\n",
    "    plt.plot(times, [envelope_seq[i](t)/MHz for t in times], label=f'Pulse {i}')\n",
    "plt.xlabel('Time (ns)')\n",
    "plt.ylabel('Drive Amplitude (MHz)')\n",
    "plt.title('Pulse Sequence')\n",
    "plt.legend()\n",
    "plt.show()"
   ],
   "outputs": [
    {
     "output_type": "stream",
     "name": "stdout",
     "text": [
      "[8.765486733008162]\n"
     ]
    },
    {
     "output_type": "display_data",
     "data": {
      "image/png": "[encoded data removed]",
      "text/plain": [
       "<Figure size 600x400 with 1 Axes>"
      ]
     },
     "metadata": {}
    }
   ],
   "metadata": {}
  },
  {
   "cell_type": "code",
   "execution_count": 8,
   "source": [
    "# incl_dissipation = True\n",
    "incl_dissipation = False\n",
    "\n",
    "T1 = 60e3 # ns\n",
    "T2 = 30e3 # ?\n",
    "\n",
    "# T1 = 10e3\n",
    "\n",
    "c_ops = [\n",
    "    np.sqrt(1/T1)*qram.a,\n",
    "    np.sqrt(1/T1)*qram.b,\n",
    "    np.sqrt(1/T1)*qram.c,\n",
    "    np.sqrt(1/T1)*qram.d,\n",
    "]"
   ],
   "outputs": [],
   "metadata": {}
  },
  {
   "cell_type": "code",
   "execution_count": 9,
   "source": [
    "# psi0_name = 'eggg'\n",
    "# psi0_name = 'gfgg'\n",
    "# psi0_name = 'eegg'\n",
    "# psi0_name = 'ggeg'\n",
    "# psi0_name = 'ggge'\n",
    "\n",
    "# psi0 = qram.state(psi0_name)\n",
    "psi0 = np.sqrt(1/2) * qram.state('eggg') + np.sqrt(1/2) * qram.state('eegg') # QRAM start\n",
    "\n",
    "# print(seq.get_pulse_str())\n",
    "\n",
    "if incl_dissipation:\n",
    "    full_result = qt.mcsolve(qram.H_solver_str(seq), psi0, times, c_ops, progress_bar=True, options=qt.Options(nsteps=10000))\n",
    "    result = np.sum(full_result.states, axis=0)/full_result.ntraj\n",
    "else:\n",
    "    # result = qt.mesolve(qram.H_solver(seq), psi0, times, progress_bar=True, options=qt.Options(nsteps=10000)).states\n",
    "    result = qt.mesolve(qram.H_solver_str(seq), psi0, times, progress_bar=True, options=qt.Options(nsteps=12000)).states"
   ],
   "outputs": [
    {
     "output_type": "stream",
     "name": "stdout",
     "text": [
      "10.0%. Run time:   1.81s. Est. time left: 00:00:00:16\n",
      "20.0%. Run time:   3.73s. Est. time left: 00:00:00:14\n",
      "30.0%. Run time:   5.62s. Est. time left: 00:00:00:13\n",
      "40.0%. Run time:   7.50s. Est. time left: 00:00:00:11\n",
      "50.0%. Run time:   9.84s. Est. time left: 00:00:00:09\n",
      "60.0%. Run time:  11.88s. Est. time left: 00:00:00:07\n",
      "70.0%. Run time:  13.74s. Est. time left: 00:00:00:05\n",
      "80.0%. Run time:  15.66s. Est. time left: 00:00:00:03\n",
      "90.0%. Run time:  17.56s. Est. time left: 00:00:00:01\n",
      "Total run time:  19.69s\n"
     ]
    }
   ],
   "metadata": {}
  },
  {
   "cell_type": "code",
   "execution_count": 10,
   "source": [
    "eggg = qram.state('eggg')\n",
    "gfgg = qram.state('gfgg')\n",
    "ggeg = qram.state('ggeg')\n",
    "eegg = qram.state('eegg')\n",
    "ggge = qram.state('ggge')\n",
    "\n",
    "prob_eggg = [np.abs(eggg.overlap(result[t]))**2 for t in range(len(times))]\n",
    "prob_gfgg = [np.abs(gfgg.overlap(result[t]))**2 for t in range(len(times))]\n",
    "prob_ggeg = [np.abs(ggeg.overlap(result[t]))**2 for t in range(len(times))]\n",
    "prob_eegg = [np.abs(eegg.overlap(result[t]))**2 for t in range(len(times))]\n",
    "prob_ggge = [np.abs(ggge.overlap(result[t]))**2 for t in range(len(times))]\n",
    "\n",
    "plt.plot(times, prob_eggg, label=r'$|eggg\\rangle_D$')\n",
    "plt.plot(times, prob_gfgg, label=r'$|gfgg\\rangle_D$')\n",
    "plt.plot(times, prob_ggeg, label=r'$|ggeg\\rangle_D$')\n",
    "plt.plot(times, prob_eegg, label=r'$|eegg\\rangle_D$')\n",
    "plt.plot(times, prob_ggge, label=r'$|ggge\\rangle_D$')\n",
    "\n",
    "# plt.plot(times, [np.abs(state('geeg').overlap(result[t]))**2 for t in range(len(times))], 'k--', label=r'$|geeg\\rangle_D$')\n",
    "# plt.plot(times, [np.abs(state('efgg').overlap(result[t]))**2 for t in range(len(times))], 'k-.', label=r'$|efgg\\rangle_D$')\n",
    "\n",
    "# for i1 in range(cutoffs[0]):\n",
    "#     for i2 in range(cutoffs[1]):\n",
    "#         for i3 in range(cutoffs[2]):\n",
    "#             for i4 in range(cutoffs[3]):\n",
    "#                 # print(qram.levels_nums_to_name([i1, i2, i3, i4]))\n",
    "#                 plt.plot(times, \n",
    "#                          [np.abs(qram.state([i1, i2, i3, i4]).overlap(result[t]))**2 for t in range(len(times))],\n",
    "#                          label='qram.level_nums_to_name[i1, i2, i3, i4]')\n",
    "\n",
    "# plt.plot(times, [1]*len(times), 'k--', linewidth=0.5)\n",
    "plt.legend()\n",
    "plt.ylim(0, 1)\n",
    "# plt.xlim(750, 1000)\n",
    "plt.xlabel('Time (ns)')\n",
    "plt.ylabel('Population')\n",
    "# plt.title(r'$\\psi_0=|$'+psi0_name+r'$\\rangle$')\n",
    "plt.grid(linewidth=0.3)\n",
    "plt.show()"
   ],
   "outputs": [
    {
     "output_type": "display_data",
     "data": {
      "image/png": "[encoded data removed]",
      "text/plain": [
       "<Figure size 600x400 with 1 Axes>"
      ]
     },
     "metadata": {}
    }
   ],
   "metadata": {
    "tags": []
   }
  },
  {
   "cell_type": "code",
   "execution_count": 11,
   "source": [
    "T = 700 # ns\n",
    "\n",
    "sum_psi = 0\n",
    "T = np.argmin(np.abs(times-T))\n",
    "for i1 in range(cutoffs[0]):\n",
    "    for i2 in range(cutoffs[1]):\n",
    "        for i3 in range(cutoffs[2]):\n",
    "            for i4 in range(cutoffs[3]):\n",
    "                sum_psi += np.abs(qram.state([i1, i2, i3, i4]).overlap(result[T]))**2\n",
    "print('Sum probabilities:', sum_psi)\n",
    "print(\"Non-zero levels:\")\n",
    "for i1 in range(cutoffs[0]):\n",
    "    for i2 in range(cutoffs[1]):\n",
    "        for i3 in range(cutoffs[2]):\n",
    "            for i4 in range(cutoffs[3]):\n",
    "                prob = np.abs(qram.state([i1, i2, i3, i4]).overlap(result[T]))**2\n",
    "                if prob > 0.01: print(qram.level_nums_to_name([i1, i2, i3, i4]), prob)"
   ],
   "outputs": [
    {
     "output_type": "stream",
     "name": "stdout",
     "text": [
      "Sum probabilities: 1.000000003556003\n",
      "Non-zero levels:\n",
      "gfgg 0.25630226547755786\n",
      "eggg 0.23717468643359887\n",
      "eegg 0.5063339034445032\n"
     ]
    }
   ],
   "metadata": {
    "scrolled": true,
    "tags": []
   }
  },
  {
   "cell_type": "code",
   "execution_count": 12,
   "source": [
    "print('want', qram.get_wd('eggg', 'eegg')/2/np.pi)\n",
    "print('resonant to', qram.get_wd('ggeg', 'geeg')/2/np.pi)\n",
    "print('2 photon transition to', qram.get_wd('eggg', 'efgg')/2/np.pi)"
   ],
   "outputs": [
    {
     "output_type": "error",
     "ename": "TypeError",
     "evalue": "get_wd() missing 1 required positional argument: 'amp'",
     "traceback": [
      "\u001b[1;31m---------------------------------------------------------------------------\u001b[0m",
      "\u001b[1;31mTypeError\u001b[0m                                 Traceback (most recent call last)",
      "\u001b[1;32m~\\AppData\\Local\\Temp/ipykernel_130080/4069177448.py\u001b[0m in \u001b[0;36m<module>\u001b[1;34m\u001b[0m\n\u001b[1;32m----> 1\u001b[1;33m \u001b[0mprint\u001b[0m\u001b[1;33m(\u001b[0m\u001b[1;34m'want'\u001b[0m\u001b[1;33m,\u001b[0m \u001b[0mqram\u001b[0m\u001b[1;33m.\u001b[0m\u001b[0mget_wd\u001b[0m\u001b[1;33m(\u001b[0m\u001b[1;34m'eggg'\u001b[0m\u001b[1;33m,\u001b[0m \u001b[1;34m'eegg'\u001b[0m\u001b[1;33m)\u001b[0m\u001b[1;33m/\u001b[0m\u001b[1;36m2\u001b[0m\u001b[1;33m/\u001b[0m\u001b[0mnp\u001b[0m\u001b[1;33m.\u001b[0m\u001b[0mpi\u001b[0m\u001b[1;33m)\u001b[0m\u001b[1;33m\u001b[0m\u001b[1;33m\u001b[0m\u001b[0m\n\u001b[0m\u001b[0;32m      2\u001b[0m \u001b[0mprint\u001b[0m\u001b[1;33m(\u001b[0m\u001b[1;34m'resonant to'\u001b[0m\u001b[1;33m,\u001b[0m \u001b[0mqram\u001b[0m\u001b[1;33m.\u001b[0m\u001b[0mget_wd\u001b[0m\u001b[1;33m(\u001b[0m\u001b[1;34m'ggeg'\u001b[0m\u001b[1;33m,\u001b[0m \u001b[1;34m'geeg'\u001b[0m\u001b[1;33m)\u001b[0m\u001b[1;33m/\u001b[0m\u001b[1;36m2\u001b[0m\u001b[1;33m/\u001b[0m\u001b[0mnp\u001b[0m\u001b[1;33m.\u001b[0m\u001b[0mpi\u001b[0m\u001b[1;33m)\u001b[0m\u001b[1;33m\u001b[0m\u001b[1;33m\u001b[0m\u001b[0m\n\u001b[0;32m      3\u001b[0m \u001b[0mprint\u001b[0m\u001b[1;33m(\u001b[0m\u001b[1;34m'2 photon transition to'\u001b[0m\u001b[1;33m,\u001b[0m \u001b[0mqram\u001b[0m\u001b[1;33m.\u001b[0m\u001b[0mget_wd\u001b[0m\u001b[1;33m(\u001b[0m\u001b[1;34m'eggg'\u001b[0m\u001b[1;33m,\u001b[0m \u001b[1;34m'efgg'\u001b[0m\u001b[1;33m)\u001b[0m\u001b[1;33m/\u001b[0m\u001b[1;36m2\u001b[0m\u001b[1;33m/\u001b[0m\u001b[0mnp\u001b[0m\u001b[1;33m.\u001b[0m\u001b[0mpi\u001b[0m\u001b[1;33m)\u001b[0m\u001b[1;33m\u001b[0m\u001b[1;33m\u001b[0m\u001b[0m\n",
      "\u001b[1;31mTypeError\u001b[0m: get_wd() missing 1 required positional argument: 'amp'"
     ]
    }
   ],
   "metadata": {}
  },
  {
   "cell_type": "code",
   "execution_count": null,
   "source": [
    "print('want', qram.get_wd('gfgg', 'ggeg')/2/np.pi)\n",
    "print(qram.get_wd('eegg', 'eege')/2/np.pi)"
   ],
   "outputs": [
    {
     "output_type": "stream",
     "name": "stdout",
     "text": [
      "want 6.790158176784276\n",
      "-6.801440393632177\n"
     ]
    }
   ],
   "metadata": {}
  },
  {
   "cell_type": "code",
   "execution_count": null,
   "source": [],
   "outputs": [],
   "metadata": {}
  }
 ],
 "metadata": {
  "interpreter": {
   "hash": "5884a31c8c0c70fc1eea26ebca2d627bc3bfacb34fe253f9177df703b1cd32fc"
  },
  "kernelspec": {
   "name": "python3",
   "display_name": "Python 3.7.3 64-bit ('scqubits_env': conda)"
  },
  "language_info": {
   "name": "python",
   "version": "3.7.3",
   "mimetype": "text/x-python",
   "codemirror_mode": {
    "name": "ipython",
    "version": 3
   },
   "pygments_lexer": "ipython3",
   "nbconvert_exporter": "python",
   "file_extension": ".py"
  }
 },
 "nbformat": 4,
 "nbformat_minor": 4
}