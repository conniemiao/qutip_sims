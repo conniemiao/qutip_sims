{
 "cells": [
  {
   "cell_type": "code",
   "execution_count": 1,
   "metadata": {},
   "outputs": [],
   "source": [
    "%matplotlib inline\n",
    "import matplotlib.style as style\n",
    "\n",
    "import matplotlib.pyplot as plt\n",
    "import numpy as np\n",
    "import time\n",
    "\n",
    "import scqubits as scq\n",
    "import qutip as qt\n",
    "\n",
    "style.use('default')\n",
    "plt.rcParams['figure.figsize'] = [6, 4]\n",
    "default_colors = plt.rcParams['axes.prop_cycle'].by_key()['color']\n",
    "scq.settings.PROGRESSBAR_DISABLED = True"
   ]
  },
  {
   "cell_type": "code",
   "execution_count": 2,
   "metadata": {},
   "outputs": [],
   "source": [
    "hbar = 1\n",
    "h = hbar*2*np.pi\n",
    "qe = 1\n",
    "\n",
    "# Unit conversions\n",
    "MHz = 10.0**(-3)\n",
    "GHz = 1.0\n",
    "kHz = 10.0**(-6)\n",
    "us = 10.0**3\n",
    "ns = 1.0"
   ]
  },
  {
   "cell_type": "code",
   "execution_count": 3,
   "metadata": {},
   "outputs": [],
   "source": [
    "transmon1_consts = dict(\n",
    "    EC = 0.25 * GHz,\n",
    "    EJ = 21.0 * GHz,\n",
    ")\n",
    "\n",
    "transmon2_consts = dict(\n",
    "    EC = 0.3 * GHz,\n",
    "    EJ = 20.0 * GHz,\n",
    ")\n",
    "\n",
    "transmon3_consts = dict(\n",
    "    EC = 0.35 * GHz,\n",
    "    EJ = 22.0 * GHz,\n",
    ")\n",
    "\n",
    "q1_isCavity = False\n",
    "q2_isCavity = False\n",
    "q3_isCavity = False\n",
    "\n",
    "\n",
    "transmon1 = scq.Transmon(\n",
    "    **transmon1_consts, ng=0, ncut = 110, truncated_dim = 10\n",
    ")\n",
    "\n",
    "transmon2 = scq.Transmon(\n",
    "    **transmon2_consts, ng=0, ncut = 110, truncated_dim = 10\n",
    ")\n",
    "\n",
    "transmon3 = scq.Transmon(\n",
    "    **transmon3_consts, ng=0, ncut = 110, truncated_dim = 10\n",
    ")"
   ]
  },
  {
   "cell_type": "code",
   "execution_count": 4,
   "metadata": {},
   "outputs": [
    {
     "name": "stdout",
     "output_type": "stream",
     "text": [
      "6.219955176682575 6.613448853505485 7.480762973458873 -0.27656660001468936 -0.3368931055765696 -0.3947192737967242\n"
     ]
    }
   ],
   "source": [
    "evals_count = 5\n",
    "cutoff = evals_count\n",
    "\n",
    "evals1, evecs1 = transmon1.eigensys(evals_count=evals_count)\n",
    "evals1 = evals1 - evals1[0] \n",
    "\n",
    "evals2, evecs2 = transmon2.eigensys(evals_count=evals_count)\n",
    "evals2 = evals2 - evals2[0]\n",
    "\n",
    "evals3, evecs3 = transmon3.eigensys(evals_count=evals_count)\n",
    "evals3 = evals3 - evals3[0]\n",
    "\n",
    "alpha1 = alpha2 = alpha3 = 0\n",
    "if not q1_isCavity: alpha1 = evals1[2]-2*evals1[1]\n",
    "if not q2_isCavity: alpha2 = evals2[2]-2*evals2[1]\n",
    "if not q3_isCavity: alpha3 = evals3[2]-2*evals3[1]\n",
    "\n",
    "print(evals1[1], evals2[1], evals3[1], alpha1, alpha2, alpha3)"
   ]
  },
  {
   "cell_type": "code",
   "execution_count": 5,
   "metadata": {},
   "outputs": [],
   "source": [
    "# Map bare states of each transmon to dressed states in combined system\n",
    "def find_level(H, ket_orig_basis, esys=None):\n",
    "    if esys == None:\n",
    "        esys = H.eigenstates()\n",
    "    evals, evecs = esys\n",
    "    best_overlap = 0\n",
    "    best_state = -1\n",
    "    for n, evec in enumerate(evecs):\n",
    "        assert evec.shape == ket_orig_basis.shape\n",
    "        overlap = np.abs(ket_orig_basis.overlap(evec))\n",
    "        if overlap > best_overlap:\n",
    "            best_overlap = overlap\n",
    "            best_state = n\n",
    "    # print(best_state)\n",
    "    return best_state, evecs[best_state]\n",
    "\n",
    "def make_tensor_prod_level(levels, cutoff=cutoff):\n",
    "    prod = []\n",
    "    lvl = dict(g=0, e=1, f=2, h=3,)\n",
    "    # print(levels)\n",
    "    for level in levels:\n",
    "        if isinstance(level, str): level = lvl[level]\n",
    "        prod.append(qt.basis(cutoff, level))\n",
    "    return qt.tensor(*prod)\n",
    "\n",
    "def state(H, levels, cutoff=cutoff, esys=None):\n",
    "    return find_level(H, make_tensor_prod_level(levels, cutoff=cutoff), esys=esys)[1]"
   ]
  },
  {
   "cell_type": "code",
   "execution_count": 6,
   "metadata": {},
   "outputs": [],
   "source": [
    "# Amplitude = 1 gaussian\n",
    "def gaussian(x, sigma):\n",
    "#     return 1/(sigma*np.sqrt(2*np.pi)) * np.exp(-(x-x0)**2/2/sigma**2)\n",
    "    return np.exp(-x**2/2/sigma**2)"
   ]
  },
  {
   "cell_type": "code",
   "execution_count": 7,
   "metadata": {},
   "outputs": [],
   "source": [
    "times = np.linspace(0, 500, 150)\n",
    "\n",
    "t_rise = 1 # ns\n",
    "\n",
    "# Note: pi pulses need to be calibrated with both of the couplings turned on\n",
    "# t_pulse_12 = 100000\n",
    "# t_pulse_12 = 0\n",
    "# t_pulse_23 = 100000\n",
    "# eps_12 = 0\n",
    "# eps_23 = 0\n",
    "\n",
    "# SEQUENTIAL SIN^2 RISE PULSES\n",
    "# g12 = 0.2\n",
    "# g23 = 0.45\n",
    "# eps_12 = 0.05 # GHz # drive amplitude\n",
    "# eps_23 = 0.15 # GHz # drive amplitude\n",
    "# t_pulse_12 = 23.2694\n",
    "# t_pulse_23 = 92.7039\n",
    "# t_start_12 = 0\n",
    "# t_start_23 = t_pulse_12\n",
    "\n",
    "# SIMULTANEOUS SIN^2 RISE PULSES\n",
    "# g12 = 0.2\n",
    "# g23 = 0.45\n",
    "# eps_12 = 0.05 # GHz # drive amplitude\n",
    "# eps_23 = 0.15 # GHz # drive amplitude\n",
    "# t_pulse_12 = 23.2694\n",
    "# t_pulse_23 = 101.8349\n",
    "# t_start_12 = 0\n",
    "# t_start_23 = 0\n",
    "\n",
    "# print('Total time:', max(t_start_12 + t_pulse_12, t_start_23 + t_pulse_23))\n",
    "\n",
    "# SEQ GAUSSIAN PULSES (EQUAL WIDTHS)\n",
    "# g12 = 0.1\n",
    "# g23 = 0.45\n",
    "# eps_12 = 0.015 # GHz # drive amplitude\n",
    "# eps_23 = 0.18 # GHz # drive amplitude\n",
    "# t_pulse_12 = 30\n",
    "# t_pulse_23 = 30\n",
    "# t_start_12 = 10 \n",
    "# t_start_23 = t_start_12 + 6*t_pulse_12\n",
    "\n",
    "# SIMULTANEOUS GAUSSIAN PULSES (EQUAL WIDTHS) (not quite but close)\n",
    "# g12 = 0.1\n",
    "# g23 = 0.45\n",
    "# eps_12 = 0.011 # GHz # drive amplitude\n",
    "# # eps_12 = 0.0 # GHz # drive amplitude\n",
    "# eps_23 = 0.14 # GHz # drive amplitude\n",
    "# t_pulse_12 = 60\n",
    "# t_pulse_23 = 60\n",
    "# t_start_12 = 10 \n",
    "# t_start_23 = t_start_12\n",
    "\n",
    "# STIRAP GAUSSIAN PULSES\n",
    "g12 = 0.1\n",
    "g23 = 0.45\n",
    "eps_12 = 0.011 # GHz # drive amplitude\n",
    "eps_23 = 0.18 # GHz # drive amplitude\n",
    "t_pulse_12 = 30\n",
    "t_pulse_23 = 30\n",
    "t_start_23 = 10\n",
    "t_start_12 = t_start_23 + 1*t_pulse_23 "
   ]
  },
  {
   "cell_type": "code",
   "execution_count": 8,
   "metadata": {},
   "outputs": [],
   "source": [
    "a = qt.tensor(qt.destroy(cutoff), qt.qeye(cutoff), qt.qeye(cutoff)) # source\n",
    "b = qt.tensor(qt.qeye(cutoff), qt.destroy(cutoff), qt.qeye(cutoff)) # switch\n",
    "c = qt.tensor(qt.qeye(cutoff), qt.qeye(cutoff), qt.destroy(cutoff)) # out1\n",
    "H_source    = 2*np.pi*(evals1[1]*a.dag()*a + 1/2*alpha1*a.dag()*a*(a.dag()*a - 1))\n",
    "H_switch    = 2*np.pi*(evals2[1]*b.dag()*b + 1/2*alpha2*b.dag()*b*(b.dag()*b - 1))\n",
    "H_out1      = 2*np.pi*(evals3[1]*c.dag()*c + 1/2*alpha3*c.dag()*c*(c.dag()*c - 1))\n",
    "H_int_12 = 2*np.pi*g12 * (a * b.dag() + a.dag() * b)\n",
    "H_int_23 = 2*np.pi*g23 * (b * c.dag() + b.dag() * c)\n",
    "\n",
    "H = H_source + H_switch + H_int_12 + H_out1 + H_int_23\n"
   ]
  },
  {
   "cell_type": "code",
   "execution_count": 9,
   "metadata": {
    "tags": []
   },
   "outputs": [
    {
     "name": "stdout",
     "output_type": "stream",
     "text": [
      "wd_12/2pi -6.309174566525761\n",
      "wd_23/2pi 4.819510676217441\n"
     ]
    }
   ],
   "source": [
    "# SEQUENTIAL + SIMULTANEOUS SWAP WITH SIN^2 RAMP\n",
    "\n",
    "# drive at wd = w1 - w2 \n",
    "# wd_12 = (qt.expect(H, state(H, 'geg')) - qt.expect(H, state(H, 'fgg')))\n",
    "wd_12 = (qt.expect(H, state(H, 'egg')) - qt.expect(H, state(H, 'gfg')))\n",
    "print('wd_12/2pi', wd_12/2/np.pi)\n",
    "\n",
    "wd_23 = (qt.expect(H, state(H, 'gfg')) - qt.expect(H, state(H, 'gge')))\n",
    "# wd_23 = (qt.expect(H, state(H, 'egg')) - qt.expect(H, state(H, 'gfg')))\n",
    "print('wd_23/2pi', wd_23/2/np.pi)\n",
    "\n",
    "# need a^\\dag + a for fg <-> ge and b^\\dag + b for gf <-> eg\n",
    "# H_drive_12 = 2*np.pi* 1/2 * (a.dag()+a)\n",
    "H_drive_12 = 2*np.pi* 1/2 * (b.dag()+b)\n",
    "def H_drive_envelope_12(t):\n",
    "    t -= t_start_12\n",
    "    if 0 <= t < t_rise: return eps_12 * np.sin(np.pi*t/2/t_rise)**2\n",
    "    elif t_rise <= t < t_pulse_12 - t_rise: return eps_12\n",
    "    elif t_pulse_12 - t_rise <= t < t_pulse_12: return eps_12 * np.sin(np.pi*(t_pulse_12-t)/2/t_rise)**2\n",
    "    return 0\n",
    "def H_drive_func_12(t, args):\n",
    "    return H_drive_envelope_12(t) * np.sin(wd_12 * t)\n",
    "\n",
    "# H_drive_23 = 2*np.pi* 1/2 * (a.dag()+a)\n",
    "H_drive_23 = 2*np.pi* 1/2 * (b.dag()+b)\n",
    "def H_drive_envelope_23(t):\n",
    "    t -= t_start_23\n",
    "    if 0 <= t < t_rise: return eps_23 * np.sin(np.pi*t/2/t_rise)**2\n",
    "    elif t_rise <= t < t_pulse_23 - t_rise: return eps_23\n",
    "    elif t_pulse_23 - t_rise <= t < t_pulse_23: return eps_23 * np.sin(np.pi*(t_pulse_23-t)/2/t_rise)**2\n",
    "    return 0\n",
    "def H_drive_func_23(t, args):\n",
    "#     if t < t_pulse_23: amp = eps_23\n",
    "#     else: amp = 0\n",
    "    return H_drive_envelope_23(t)* np.sin(wd_23 * t)\n",
    "\n",
    "H_solver = [H, [H_drive_12, H_drive_func_12], [H_drive_23, H_drive_func_23]]"
   ]
  },
  {
   "cell_type": "code",
   "execution_count": 10,
   "metadata": {},
   "outputs": [
    {
     "name": "stdout",
     "output_type": "stream",
     "text": [
      "wd_12/2pi -6.309174566525761\n",
      "wd_23/2pi 4.819510676217441\n"
     ]
    }
   ],
   "source": [
    "# GAUSSIAN STIRAP PULSE\n",
    "\n",
    "# drive at wd = w1 - w2 \n",
    "# wd_12 = (qt.expect(H, state(H, 'geg')) - qt.expect(H, state(H, 'fgg')))\n",
    "wd_12 = (qt.expect(H, state(H, 'egg')) - qt.expect(H, state(H, 'gfg')))\n",
    "print('wd_12/2pi', wd_12/2/np.pi)\n",
    "\n",
    "wd_23 = (qt.expect(H, state(H, 'gfg')) - qt.expect(H, state(H, 'gge')))\n",
    "# wd_23 = (qt.expect(H, state(H, 'egg')) - qt.expect(H, state(H, 'gfg')))\n",
    "print('wd_23/2pi', wd_23/2/np.pi)\n",
    "\n",
    "# need a^\\dag + a for fg <-> ge and b^\\dag + b for gf <-> eg\n",
    "# H_drive_12 = 2*np.pi* 1/2 * (a.dag()+a)\n",
    "H_drive_12 = (b.dag()+b)\n",
    "def H_drive_envelope_12(t):\n",
    "    t_max = t_start_12 + 3*t_pulse_12\n",
    "    return gaussian(t - t_max, t_pulse_12)\n",
    "def H_drive_func_12(t, args):\n",
    "    return 2*np.pi* 1/2 * eps_12 * H_drive_envelope_12(t) * np.sin(wd_12 * t)\n",
    "\n",
    "# H_drive_23 = 2*np.pi* 1/2 * (a.dag()+a)\n",
    "H_drive_23 = (b.dag()+b)\n",
    "def H_drive_envelope_23(t):\n",
    "    t_max = t_start_23 + 3*t_pulse_23\n",
    "    return gaussian(t - t_max, t_pulse_23)\n",
    "def H_drive_func_23(t, args):\n",
    "    return 2*np.pi* 1/2 * eps_23 * H_drive_envelope_23(t)* np.sin(wd_23 * t)\n",
    "\n",
    "H_solver = [H, [H_drive_12, H_drive_func_12], [H_drive_23, H_drive_func_23]]"
   ]
  },
  {
   "cell_type": "code",
   "execution_count": 11,
   "metadata": {},
   "outputs": [
    {
     "data": {
      "image/png": "[encoded data removed]",
      "text/plain": [
       "<Figure size 600x400 with 1 Axes>"
      ]
     },
     "metadata": {},
     "output_type": "display_data"
    }
   ],
   "source": [
    "plt.plot(times, [eps_12 * H_drive_envelope_12(t) for t in times], label=r'$|egg\\rangle \\to |gfg\\rangle$')\n",
    "plt.plot(times, [eps_23 * H_drive_envelope_23(t) for t in times], label=r'$|gfg\\rangle \\to |gge\\rangle$')\n",
    "plt.legend()\n",
    "plt.show()"
   ]
  },
  {
   "cell_type": "code",
   "execution_count": 12,
   "metadata": {},
   "outputs": [
    {
     "name": "stdout",
     "output_type": "stream",
     "text": [
      "Time: 40.326953172683716\n"
     ]
    }
   ],
   "source": [
    "psi0_name = 'egg'\n",
    "# psi0_name = 'gfg'\n",
    "\n",
    "start_time = time.time()\n",
    "result = qt.mesolve(H_solver, state(H, psi0_name), times, options=qt.Options(nsteps=10000)).states\n",
    "print('Time:', time.time()-start_time)"
   ]
  },
  {
   "cell_type": "code",
   "execution_count": 13,
   "metadata": {},
   "outputs": [
    {
     "data": {
      "image/png": "[encoded data removed]",
      "text/plain": [
       "<Figure size 600x400 with 1 Axes>"
      ]
     },
     "metadata": {},
     "output_type": "display_data"
    }
   ],
   "source": [
    "esys = H.eigenstates()\n",
    "plot_states = dict(\n",
    "    egg=state(H, 'egg', esys=esys),\n",
    "    gfg=state(H, 'gfg', esys=esys),\n",
    "    gge=state(H, 'gge', esys=esys),\n",
    "    ggg=state(H, 'ggg', esys=esys),\n",
    "    fgg=state(H, 'fgg', esys=esys),\n",
    "    geg=state(H, 'geg', esys=esys),\n",
    "    ggf=state(H, 'ggf', esys=esys),\n",
    ")\n",
    "plt.plot(times, [np.abs(plot_states['egg'].overlap(result[t]))**2 for t in range(len(times))], label=r'$|egg\\rangle_D$')\n",
    "plt.plot(times, [np.abs(plot_states['gfg'].overlap(result[t]))**2 for t in range(len(times))], label=r'$|gfg\\rangle_D$')\n",
    "plt.plot(times, [np.abs(plot_states['gge'].overlap(result[t]))**2 for t in range(len(times))], label=r'$|gge\\rangle_D$')\n",
    "# plt.plot(times, [np.abs(plot_states['geg'].overlap(result[t]))**2 for t in range(len(times))], label=r'$|geg\\rangle_D$')\n",
    "# plt.plot(times, [np.abs(plot_states['fgg'].overlap(result[t]))**2 for t in range(len(times))], label=r'$|fgg\\rangle_D$')\n",
    "# plt.plot(times, [np.abs(plot_states['ggf'].overlap(result[t]))**2 for t in range(len(times))], label=r'$|ggf\\rangle_D$')\n",
    "plt.plot(times, [eps_12 * H_drive_envelope_12(t) for t in times], 'k--', linewidth=0.8, label=r'$|egg\\rangle \\to |gfg\\rangle$')\n",
    "plt.plot(times, [eps_23 * H_drive_envelope_23(t) for t in times], 'k-.', linewidth=0.8, label=r'$|gfg\\rangle \\to |gge\\rangle$')\n",
    "plt.plot(times, [1]*len(times), 'k--', linewidth=0.5)\n",
    "plt.legend()\n",
    "# plt.ylim(0,1)\n",
    "plt.xlabel('Time (ns)')\n",
    "plt.ylabel('Population')\n",
    "plt.title(r'$\\psi_0=|$'+psi0_name+r'$\\rangle$')\n",
    "plt.show()"
   ]
  },
  {
   "cell_type": "code",
   "execution_count": 14,
   "metadata": {},
   "outputs": [
    {
     "name": "stdout",
     "output_type": "stream",
     "text": [
      "50.33557046979866\n"
     ]
    }
   ],
   "source": [
    "# Get pi pulse length (could do a fit but this is easier)\n",
    "popln = np.array([np.abs(plot_states['gfg'].overlap(result[t]))**2 for t in range(len(times))])\n",
    "search_ti = 50\n",
    "search_tf = 125\n",
    "pi = np.argmin(np.abs(times-search_ti)) + \\\n",
    "    np.argmin(popln[np.argmin(np.abs(times-search_ti)):np.argmin(np.abs(times-search_tf))])\n",
    "print(times[pi])"
   ]
  }
 ],
 "metadata": {
  "interpreter": {
   "hash": "5884a31c8c0c70fc1eea26ebca2d627bc3bfacb34fe253f9177df703b1cd32fc"
  },
  "kernelspec": {
   "display_name": "Python 3",
   "language": "python",
   "name": "python3"
  },
  "language_info": {
   "codemirror_mode": {
    "name": "ipython",
    "version": 3
   },
   "file_extension": ".py",
   "mimetype": "text/x-python",
   "name": "python",
   "nbconvert_exporter": "python",
   "pygments_lexer": "ipython3",
   "version": "3.7.3"
  }
 },
 "nbformat": 4,
 "nbformat_minor": 4
}
